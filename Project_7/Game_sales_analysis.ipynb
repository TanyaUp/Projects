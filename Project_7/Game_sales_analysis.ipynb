{
 "cells": [
  {
   "cell_type": "markdown",
   "metadata": {},
   "source": [
    "# Содержание \n",
    "\n",
    "1  **Обзор данных**\n",
    "\n",
    "2  **Предобработка данных**\n",
    "\n",
    "3  **Исследовательский анализ данных**\n",
    "\n",
    "3.1  Количество игр за каждый год\n",
    "\n",
    "3.2  Изменение продаж по всем платформам\n",
    "\n",
    "3.3  Построение прогноза на 2017 год\n",
    "\n",
    "3.4  «Ящик с усами» и глобальные продажи игр в разбивке по платформам\n",
    "\n",
    "3.5  Влияние отзывов пользователей и критиков на продажи внутри одной популярной платформы .\n",
    "\n",
    "3.5.1  Зависимость пользовательских отзвывов на продажи по платформе PS4\n",
    "\n",
    "3.5.2  Зависимость продаж от рейтинга критиков по платформе PS4\n",
    "\n",
    "3.6  Зависимость отзывов пользователей и критиков и продаж всех платформ\n",
    "\n",
    "3.7  Анализ игр в зависимости от их жанра\n",
    "\n",
    "4  **Портрет пользователя каждого региона: Северная Америка, Европейский союз, Япония**\n",
    "\n",
    "4.1  Самые популярные платформы\n",
    "\n",
    "4.1.1  Портрет пользователя в Северной Америке\n",
    "\n",
    "4.1.2  Портрет пользователя в Европейском Союзе\n",
    "\n",
    "4.2  Самые популярные жанры (top-5)\n",
    "\n",
    "4.2.1  Портрет пользователя в Северной Америке\n",
    "\n",
    "4.2.2  Портрет пользователя в Северной Америке\n",
    "\n",
    "4.2.3  Портрет пользователя в Северной Америке\n",
    "\n",
    "4.3  Влияние рейтинга ESRB на продажи в отдельном регионе\n",
    "\n",
    "5  **Анализ гипотез**\n",
    "\n",
    "5.1  Средние пользовательские рейтинги платформ Xbox One и PC одинаковые\n",
    "\n",
    "5.2  Средние пользовательские рейтинги жанров Action и Sports разные\n",
    "\n",
    "6  **Вывод**"
   ]
  },
  {
   "cell_type": "markdown",
   "metadata": {},
   "source": [
    "# Исследование о влиянии различных факторов на процесс продажи компьютерных игр"
   ]
  },
  {
   "cell_type": "markdown",
   "metadata": {},
   "source": [
    "# Исходные данные"
   ]
  },
  {
   "cell_type": "markdown",
   "metadata": {},
   "source": [
    "Интернет-магазин «Стримчик» продаёт по всему миру компьютерные игры. Из открытых источников доступны исторические данные о продажах игр, оценки пользователей и экспертов, жанры и платформы (например, Xbox или PlayStation). Необходимо выявить определяющие успешность игры закономерности. Это позволит сделать ставку на потенциально популярный продукт и спланировать рекламные кампании.\n",
    "\n",
    "Данные представлены до 2016 года. Представим, что сейчас декабрь 2016 г., и планируется кампания на 2017-й. Нужно отработать принцип работы с данными. Неважно, осуществляет ли прогноз продаж на 2017 год по данным 2016-го или же 2027-й — по данным 2026 года.\n",
    "В наборе данных попадается аббревиатура ESRB (Entertainment Software Rating Board) — это ассоциация, определяющая возрастной рейтинг компьютерных игр. ESRB оценивает игровой контент и присваивает ему подходящую возрастную категорию, например, «Для взрослых», «Для детей младшего возраста» или «Для подростков».\n",
    "\n",
    "Описание данных:\n",
    "\n",
    " **Name** — название игры\n",
    " \n",
    " **Platform** — платформа\n",
    " \n",
    " **Year_of_Release** — год выпуска\n",
    " \n",
    " **Genre** — жанр игры\n",
    " \n",
    " **NA_sales** — продажи в Северной Америке (миллионы проданных копий)\n",
    " \n",
    " **EU_sales** — продажи в Европе (миллионы проданных копий)\n",
    " \n",
    " **JP_sales** — продажи в Японии (миллионы проданных копий)\n",
    " \n",
    " **Other_sales** — продажи в других странах (миллионы проданных копий)\n",
    " \n",
    " **Critic_Score** — оценка критиков (максимум 100)\n",
    " \n",
    " **User_Score** — оценка пользователей (максимум 10)\n",
    " \n",
    " **Rating** — рейтинг от организации ESRB (англ. Entertainment Software Rating Board). Эта ассоциация определяет рейтинг компьютерных игр и присваивает им подходящую возрастную категорию.\n",
    "\n",
    "Данные за 2016 год могут быть неполными."
   ]
  },
  {
   "cell_type": "markdown",
   "metadata": {},
   "source": [
    "В предостоящем проекте рассмотрим основные закономерности, сопровождающие продажу копьютерных игр и влияющие на ее дальнейшее продвижение.\n",
    "\n",
    "Цель - выявить факторы, которые могут повлиять на продажу компьютерных игр в перспективе.\n",
    "\n",
    "Анализ данных пройдёт в 4 этапа:\n",
    "\n",
    "- Обзор данных;\n",
    "- Предобработка данных;\n",
    "- Проведение исследовательского анализа данных;\n",
    "- Анализ потрета потребителей для различных регионов;\n",
    "- Проверка гипотез."
   ]
  },
  {
   "cell_type": "markdown",
   "metadata": {},
   "source": [
    "### Обзор данных"
   ]
  },
  {
   "cell_type": "code",
   "execution_count": 1,
   "metadata": {},
   "outputs": [],
   "source": [
    "import matplotlib.pyplot as plt\n",
    "import pandas as pd\n",
    "import seaborn as sns\n",
    "from scipy import stats as st\n",
    "import numpy as np\n",
    "import warnings"
   ]
  },
  {
   "cell_type": "code",
   "execution_count": 2,
   "metadata": {},
   "outputs": [],
   "source": [
    "warnings.filterwarnings('ignore') "
   ]
  },
  {
   "cell_type": "code",
   "execution_count": 3,
   "metadata": {},
   "outputs": [
    {
     "data": {
      "text/html": [
       "<div>\n",
       "<style scoped>\n",
       "    .dataframe tbody tr th:only-of-type {\n",
       "        vertical-align: middle;\n",
       "    }\n",
       "\n",
       "    .dataframe tbody tr th {\n",
       "        vertical-align: top;\n",
       "    }\n",
       "\n",
       "    .dataframe thead th {\n",
       "        text-align: right;\n",
       "    }\n",
       "</style>\n",
       "<table border=\"1\" class=\"dataframe\">\n",
       "  <thead>\n",
       "    <tr style=\"text-align: right;\">\n",
       "      <th></th>\n",
       "      <th>Name</th>\n",
       "      <th>Platform</th>\n",
       "      <th>Year_of_Release</th>\n",
       "      <th>Genre</th>\n",
       "      <th>NA_sales</th>\n",
       "      <th>EU_sales</th>\n",
       "      <th>JP_sales</th>\n",
       "      <th>Other_sales</th>\n",
       "      <th>Critic_Score</th>\n",
       "      <th>User_Score</th>\n",
       "      <th>Rating</th>\n",
       "    </tr>\n",
       "  </thead>\n",
       "  <tbody>\n",
       "    <tr>\n",
       "      <th>0</th>\n",
       "      <td>Wii Sports</td>\n",
       "      <td>Wii</td>\n",
       "      <td>2006.0</td>\n",
       "      <td>Sports</td>\n",
       "      <td>41.36</td>\n",
       "      <td>28.96</td>\n",
       "      <td>3.77</td>\n",
       "      <td>8.45</td>\n",
       "      <td>76.0</td>\n",
       "      <td>8</td>\n",
       "      <td>E</td>\n",
       "    </tr>\n",
       "    <tr>\n",
       "      <th>1</th>\n",
       "      <td>Super Mario Bros.</td>\n",
       "      <td>NES</td>\n",
       "      <td>1985.0</td>\n",
       "      <td>Platform</td>\n",
       "      <td>29.08</td>\n",
       "      <td>3.58</td>\n",
       "      <td>6.81</td>\n",
       "      <td>0.77</td>\n",
       "      <td>NaN</td>\n",
       "      <td>NaN</td>\n",
       "      <td>NaN</td>\n",
       "    </tr>\n",
       "    <tr>\n",
       "      <th>2</th>\n",
       "      <td>Mario Kart Wii</td>\n",
       "      <td>Wii</td>\n",
       "      <td>2008.0</td>\n",
       "      <td>Racing</td>\n",
       "      <td>15.68</td>\n",
       "      <td>12.76</td>\n",
       "      <td>3.79</td>\n",
       "      <td>3.29</td>\n",
       "      <td>82.0</td>\n",
       "      <td>8.3</td>\n",
       "      <td>E</td>\n",
       "    </tr>\n",
       "    <tr>\n",
       "      <th>3</th>\n",
       "      <td>Wii Sports Resort</td>\n",
       "      <td>Wii</td>\n",
       "      <td>2009.0</td>\n",
       "      <td>Sports</td>\n",
       "      <td>15.61</td>\n",
       "      <td>10.93</td>\n",
       "      <td>3.28</td>\n",
       "      <td>2.95</td>\n",
       "      <td>80.0</td>\n",
       "      <td>8</td>\n",
       "      <td>E</td>\n",
       "    </tr>\n",
       "    <tr>\n",
       "      <th>4</th>\n",
       "      <td>Pokemon Red/Pokemon Blue</td>\n",
       "      <td>GB</td>\n",
       "      <td>1996.0</td>\n",
       "      <td>Role-Playing</td>\n",
       "      <td>11.27</td>\n",
       "      <td>8.89</td>\n",
       "      <td>10.22</td>\n",
       "      <td>1.00</td>\n",
       "      <td>NaN</td>\n",
       "      <td>NaN</td>\n",
       "      <td>NaN</td>\n",
       "    </tr>\n",
       "  </tbody>\n",
       "</table>\n",
       "</div>"
      ],
      "text/plain": [
       "                       Name Platform  Year_of_Release         Genre  NA_sales  \\\n",
       "0                Wii Sports      Wii           2006.0        Sports     41.36   \n",
       "1         Super Mario Bros.      NES           1985.0      Platform     29.08   \n",
       "2            Mario Kart Wii      Wii           2008.0        Racing     15.68   \n",
       "3         Wii Sports Resort      Wii           2009.0        Sports     15.61   \n",
       "4  Pokemon Red/Pokemon Blue       GB           1996.0  Role-Playing     11.27   \n",
       "\n",
       "   EU_sales  JP_sales  Other_sales  Critic_Score User_Score Rating  \n",
       "0     28.96      3.77         8.45          76.0          8      E  \n",
       "1      3.58      6.81         0.77           NaN        NaN    NaN  \n",
       "2     12.76      3.79         3.29          82.0        8.3      E  \n",
       "3     10.93      3.28         2.95          80.0          8      E  \n",
       "4      8.89     10.22         1.00           NaN        NaN    NaN  "
      ]
     },
     "execution_count": 3,
     "metadata": {},
     "output_type": "execute_result"
    }
   ],
   "source": [
    "data = pd.read_csv('/datasets/games.csv')\n",
    "data.head()"
   ]
  },
  {
   "cell_type": "markdown",
   "metadata": {},
   "source": [
    "Рассмотрев датасет, мы видим по первым 10-ти строкам, что данные требуется предообработать для корректного анализа: изменить типы данных, привести столбцы к нижнему регистру, найти дубликаты и обработать пропуски."
   ]
  },
  {
   "cell_type": "code",
   "execution_count": 4,
   "metadata": {},
   "outputs": [
    {
     "name": "stdout",
     "output_type": "stream",
     "text": [
      "<class 'pandas.core.frame.DataFrame'>\n",
      "RangeIndex: 16715 entries, 0 to 16714\n",
      "Data columns (total 11 columns):\n",
      " #   Column           Non-Null Count  Dtype  \n",
      "---  ------           --------------  -----  \n",
      " 0   Name             16713 non-null  object \n",
      " 1   Platform         16715 non-null  object \n",
      " 2   Year_of_Release  16446 non-null  float64\n",
      " 3   Genre            16713 non-null  object \n",
      " 4   NA_sales         16715 non-null  float64\n",
      " 5   EU_sales         16715 non-null  float64\n",
      " 6   JP_sales         16715 non-null  float64\n",
      " 7   Other_sales      16715 non-null  float64\n",
      " 8   Critic_Score     8137 non-null   float64\n",
      " 9   User_Score       10014 non-null  object \n",
      " 10  Rating           9949 non-null   object \n",
      "dtypes: float64(6), object(5)\n",
      "memory usage: 1.4+ MB\n"
     ]
    }
   ],
   "source": [
    "data.info()"
   ]
  },
  {
   "cell_type": "code",
   "execution_count": 5,
   "metadata": {},
   "outputs": [
    {
     "data": {
      "text/plain": [
       "Name                  2\n",
       "Platform              0\n",
       "Year_of_Release     269\n",
       "Genre                 2\n",
       "NA_sales              0\n",
       "EU_sales              0\n",
       "JP_sales              0\n",
       "Other_sales           0\n",
       "Critic_Score       8578\n",
       "User_Score         6701\n",
       "Rating             6766\n",
       "dtype: int64"
      ]
     },
     "execution_count": 5,
     "metadata": {},
     "output_type": "execute_result"
    }
   ],
   "source": [
    "data.isna().sum()"
   ]
  },
  {
   "cell_type": "code",
   "execution_count": 6,
   "metadata": {},
   "outputs": [
    {
     "data": {
      "text/plain": [
       "0"
      ]
     },
     "execution_count": 6,
     "metadata": {},
     "output_type": "execute_result"
    }
   ],
   "source": [
    "data.duplicated().sum()"
   ]
  },
  {
   "cell_type": "markdown",
   "metadata": {},
   "source": [
    "Таким образом:\n",
    "- Исходные данные содержат 16 715 строк и 12 стобцов. \n",
    "- Несоответствующие типы данных выявлены у следующих столбцов: Year_of_Release, User_Score. \n",
    "- Пропущенные значения находятся в 5 стобцах, которые необходимо будет обработать в следующем разделе: name, year_of_release, critic_score, user_score, rating. \n",
    "- Дубликаты в данных отсутствуют."
   ]
  },
  {
   "cell_type": "markdown",
   "metadata": {},
   "source": [
    "### Предобработка данных"
   ]
  },
  {
   "cell_type": "markdown",
   "metadata": {},
   "source": [
    "#### Замена регистра у столбцов\n",
    "\n",
    "Произведем замену названий столбцов на нижний регистр."
   ]
  },
  {
   "cell_type": "code",
   "execution_count": 7,
   "metadata": {},
   "outputs": [
    {
     "data": {
      "text/html": [
       "<div>\n",
       "<style scoped>\n",
       "    .dataframe tbody tr th:only-of-type {\n",
       "        vertical-align: middle;\n",
       "    }\n",
       "\n",
       "    .dataframe tbody tr th {\n",
       "        vertical-align: top;\n",
       "    }\n",
       "\n",
       "    .dataframe thead th {\n",
       "        text-align: right;\n",
       "    }\n",
       "</style>\n",
       "<table border=\"1\" class=\"dataframe\">\n",
       "  <thead>\n",
       "    <tr style=\"text-align: right;\">\n",
       "      <th></th>\n",
       "      <th>name</th>\n",
       "      <th>platform</th>\n",
       "      <th>year_of_release</th>\n",
       "      <th>genre</th>\n",
       "      <th>na_sales</th>\n",
       "      <th>eu_sales</th>\n",
       "      <th>jp_sales</th>\n",
       "      <th>other_sales</th>\n",
       "      <th>critic_score</th>\n",
       "      <th>user_score</th>\n",
       "      <th>rating</th>\n",
       "    </tr>\n",
       "  </thead>\n",
       "  <tbody>\n",
       "    <tr>\n",
       "      <th>0</th>\n",
       "      <td>Wii Sports</td>\n",
       "      <td>Wii</td>\n",
       "      <td>2006.0</td>\n",
       "      <td>Sports</td>\n",
       "      <td>41.36</td>\n",
       "      <td>28.96</td>\n",
       "      <td>3.77</td>\n",
       "      <td>8.45</td>\n",
       "      <td>76.0</td>\n",
       "      <td>8</td>\n",
       "      <td>E</td>\n",
       "    </tr>\n",
       "    <tr>\n",
       "      <th>1</th>\n",
       "      <td>Super Mario Bros.</td>\n",
       "      <td>NES</td>\n",
       "      <td>1985.0</td>\n",
       "      <td>Platform</td>\n",
       "      <td>29.08</td>\n",
       "      <td>3.58</td>\n",
       "      <td>6.81</td>\n",
       "      <td>0.77</td>\n",
       "      <td>NaN</td>\n",
       "      <td>NaN</td>\n",
       "      <td>NaN</td>\n",
       "    </tr>\n",
       "    <tr>\n",
       "      <th>2</th>\n",
       "      <td>Mario Kart Wii</td>\n",
       "      <td>Wii</td>\n",
       "      <td>2008.0</td>\n",
       "      <td>Racing</td>\n",
       "      <td>15.68</td>\n",
       "      <td>12.76</td>\n",
       "      <td>3.79</td>\n",
       "      <td>3.29</td>\n",
       "      <td>82.0</td>\n",
       "      <td>8.3</td>\n",
       "      <td>E</td>\n",
       "    </tr>\n",
       "    <tr>\n",
       "      <th>3</th>\n",
       "      <td>Wii Sports Resort</td>\n",
       "      <td>Wii</td>\n",
       "      <td>2009.0</td>\n",
       "      <td>Sports</td>\n",
       "      <td>15.61</td>\n",
       "      <td>10.93</td>\n",
       "      <td>3.28</td>\n",
       "      <td>2.95</td>\n",
       "      <td>80.0</td>\n",
       "      <td>8</td>\n",
       "      <td>E</td>\n",
       "    </tr>\n",
       "    <tr>\n",
       "      <th>4</th>\n",
       "      <td>Pokemon Red/Pokemon Blue</td>\n",
       "      <td>GB</td>\n",
       "      <td>1996.0</td>\n",
       "      <td>Role-Playing</td>\n",
       "      <td>11.27</td>\n",
       "      <td>8.89</td>\n",
       "      <td>10.22</td>\n",
       "      <td>1.00</td>\n",
       "      <td>NaN</td>\n",
       "      <td>NaN</td>\n",
       "      <td>NaN</td>\n",
       "    </tr>\n",
       "  </tbody>\n",
       "</table>\n",
       "</div>"
      ],
      "text/plain": [
       "                       name platform  year_of_release         genre  na_sales  \\\n",
       "0                Wii Sports      Wii           2006.0        Sports     41.36   \n",
       "1         Super Mario Bros.      NES           1985.0      Platform     29.08   \n",
       "2            Mario Kart Wii      Wii           2008.0        Racing     15.68   \n",
       "3         Wii Sports Resort      Wii           2009.0        Sports     15.61   \n",
       "4  Pokemon Red/Pokemon Blue       GB           1996.0  Role-Playing     11.27   \n",
       "\n",
       "   eu_sales  jp_sales  other_sales  critic_score user_score rating  \n",
       "0     28.96      3.77         8.45          76.0          8      E  \n",
       "1      3.58      6.81         0.77           NaN        NaN    NaN  \n",
       "2     12.76      3.79         3.29          82.0        8.3      E  \n",
       "3     10.93      3.28         2.95          80.0          8      E  \n",
       "4      8.89     10.22         1.00           NaN        NaN    NaN  "
      ]
     },
     "execution_count": 7,
     "metadata": {},
     "output_type": "execute_result"
    }
   ],
   "source": [
    "data.columns = data.columns.str.lower()\n",
    "data.head()"
   ]
  },
  {
   "cell_type": "markdown",
   "metadata": {},
   "source": [
    "#### Преобразование данных на нужный тип.\n",
    "Изменить тип данных необходимо в столбцах: \n",
    "- year_of_release: так как год выпуска игры является датой и должно быть выражено целым числом, а не вещественным;\n",
    "- user_score: оценка пользователей должна отражаться в числовом выражении."
   ]
  },
  {
   "cell_type": "code",
   "execution_count": 8,
   "metadata": {},
   "outputs": [],
   "source": [
    "data['year_of_release'] = data['year_of_release'].astype('Int64')"
   ]
  },
  {
   "cell_type": "code",
   "execution_count": 9,
   "metadata": {},
   "outputs": [
    {
     "data": {
      "text/plain": [
       "array(['8', nan, '8.3', '8.5', '6.6', '8.4', '8.6', '7.7', '6.3', '7.4',\n",
       "       '8.2', '9', '7.9', '8.1', '8.7', '7.1', '3.4', '5.3', '4.8', '3.2',\n",
       "       '8.9', '6.4', '7.8', '7.5', '2.6', '7.2', '9.2', '7', '7.3', '4.3',\n",
       "       '7.6', '5.7', '5', '9.1', '6.5', 'tbd', '8.8', '6.9', '9.4', '6.8',\n",
       "       '6.1', '6.7', '5.4', '4', '4.9', '4.5', '9.3', '6.2', '4.2', '6',\n",
       "       '3.7', '4.1', '5.8', '5.6', '5.5', '4.4', '4.6', '5.9', '3.9',\n",
       "       '3.1', '2.9', '5.2', '3.3', '4.7', '5.1', '3.5', '2.5', '1.9', '3',\n",
       "       '2.7', '2.2', '2', '9.5', '2.1', '3.6', '2.8', '1.8', '3.8', '0',\n",
       "       '1.6', '9.6', '2.4', '1.7', '1.1', '0.3', '1.5', '0.7', '1.2',\n",
       "       '2.3', '0.5', '1.3', '0.2', '0.6', '1.4', '0.9', '1', '9.7'],\n",
       "      dtype=object)"
      ]
     },
     "execution_count": 9,
     "metadata": {},
     "output_type": "execute_result"
    }
   ],
   "source": [
    "data['user_score'].unique()"
   ]
  },
  {
   "cell_type": "markdown",
   "metadata": {},
   "source": [
    "Среди данных столбца user_score найдены значения \"tbd\". tbd - \"to be determined\" в пер. с англ. означает  \"будет определено\". То есть, данные показатели еще не сформировались. Эти данные мы не можем заменить на средние значения, так как конкретно не знаем, какая оценка пользователей может оказаться - слишком непредсказуемая величина. В связи с этим, их необходимо заменить на уже существующие \"nan\", а уже потом изменить тип данных."
   ]
  },
  {
   "cell_type": "code",
   "execution_count": 10,
   "metadata": {},
   "outputs": [],
   "source": [
    "data['user_score'] = data['user_score'].replace('tbd', np.NaN)"
   ]
  },
  {
   "cell_type": "code",
   "execution_count": 11,
   "metadata": {},
   "outputs": [],
   "source": [
    "data['user_score'] = data['user_score'].astype('float')"
   ]
  },
  {
   "cell_type": "code",
   "execution_count": 12,
   "metadata": {},
   "outputs": [
    {
     "name": "stdout",
     "output_type": "stream",
     "text": [
      "<class 'pandas.core.frame.DataFrame'>\n",
      "RangeIndex: 16715 entries, 0 to 16714\n",
      "Data columns (total 11 columns):\n",
      " #   Column           Non-Null Count  Dtype  \n",
      "---  ------           --------------  -----  \n",
      " 0   name             16713 non-null  object \n",
      " 1   platform         16715 non-null  object \n",
      " 2   year_of_release  16446 non-null  Int64  \n",
      " 3   genre            16713 non-null  object \n",
      " 4   na_sales         16715 non-null  float64\n",
      " 5   eu_sales         16715 non-null  float64\n",
      " 6   jp_sales         16715 non-null  float64\n",
      " 7   other_sales      16715 non-null  float64\n",
      " 8   critic_score     8137 non-null   float64\n",
      " 9   user_score       7590 non-null   float64\n",
      " 10  rating           9949 non-null   object \n",
      "dtypes: Int64(1), float64(6), object(4)\n",
      "memory usage: 1.4+ MB\n"
     ]
    }
   ],
   "source": [
    "data.info()"
   ]
  },
  {
   "cell_type": "markdown",
   "metadata": {},
   "source": [
    "#### Обработка пропусков\n",
    "\n",
    "Раннее мы рассмотрели датасет на наличие пропусков и нашли их в следующих столбцах: name, year_of_release, critic_score, user_score, rating."
   ]
  },
  {
   "cell_type": "markdown",
   "metadata": {},
   "source": [
    "Столбец 'name'\n",
    "\n",
    "Необходимо удалить пропущенные строки из столбца name, так как удаление двух строк из такого большого датасета не повлечет за собой искажение анализа, а внести предположительные названия игр мы не можем."
   ]
  },
  {
   "cell_type": "code",
   "execution_count": 13,
   "metadata": {},
   "outputs": [],
   "source": [
    "data= data.dropna(subset = ['name'])"
   ]
  },
  {
   "cell_type": "markdown",
   "metadata": {},
   "source": [
    "Столбцы: 'year_of_release', 'user_score', critic_score, 'rating' необходимо оставить без заполнения пропусков, так как мы не сможем заполнить их корректно из-за отсутствия точной информации, а если удалить такое количество пропусков, то возникает вероятность исказить последющий анализ в целом, и по отдельным столбцам в частности.\n"
   ]
  },
  {
   "cell_type": "markdown",
   "metadata": {},
   "source": [
    "На мой взгляд, такое количество пропусков в столбце 'user_score' вызвано тем, что существуют игры, выпущенные до того, как начали проставляться различные рейтинги и оценки. При этом, зачастую даже постоянно играющие пользователи не доходят до выставления оценок продукта, а лишь играют. Скорее, оценка пользователя разносится с помощью словенных отзывов среди своего окружения, нежели пользователь заполненяет различные формы  с описаниеми и отражением своего мнения на просторах интернета. \n",
    "\n",
    "Также, необходимо отметить, что большое количетсво пропусков содержится в столбце 'rating'. Рейтинг, отображющийся в данном столбце формируется ESRB, присуждающая рейтинги играм была основана в 90х годах. Я считаю, что пропуски в данном столбце обусловлены тем, что существуют игры, выпущенные раннее образования данной организации, то есть по данному столбцу имеют незаполненные значения."
   ]
  },
  {
   "cell_type": "markdown",
   "metadata": {},
   "source": [
    "#### Суммарные продажи во всех регионах"
   ]
  },
  {
   "cell_type": "code",
   "execution_count": 14,
   "metadata": {},
   "outputs": [
    {
     "data": {
      "text/html": [
       "<div>\n",
       "<style scoped>\n",
       "    .dataframe tbody tr th:only-of-type {\n",
       "        vertical-align: middle;\n",
       "    }\n",
       "\n",
       "    .dataframe tbody tr th {\n",
       "        vertical-align: top;\n",
       "    }\n",
       "\n",
       "    .dataframe thead th {\n",
       "        text-align: right;\n",
       "    }\n",
       "</style>\n",
       "<table border=\"1\" class=\"dataframe\">\n",
       "  <thead>\n",
       "    <tr style=\"text-align: right;\">\n",
       "      <th></th>\n",
       "      <th>name</th>\n",
       "      <th>platform</th>\n",
       "      <th>year_of_release</th>\n",
       "      <th>genre</th>\n",
       "      <th>na_sales</th>\n",
       "      <th>eu_sales</th>\n",
       "      <th>jp_sales</th>\n",
       "      <th>other_sales</th>\n",
       "      <th>critic_score</th>\n",
       "      <th>user_score</th>\n",
       "      <th>rating</th>\n",
       "      <th>total_sales</th>\n",
       "    </tr>\n",
       "  </thead>\n",
       "  <tbody>\n",
       "    <tr>\n",
       "      <th>0</th>\n",
       "      <td>Wii Sports</td>\n",
       "      <td>Wii</td>\n",
       "      <td>2006</td>\n",
       "      <td>Sports</td>\n",
       "      <td>41.36</td>\n",
       "      <td>28.96</td>\n",
       "      <td>3.77</td>\n",
       "      <td>8.45</td>\n",
       "      <td>76.0</td>\n",
       "      <td>8.0</td>\n",
       "      <td>E</td>\n",
       "      <td>82.54</td>\n",
       "    </tr>\n",
       "    <tr>\n",
       "      <th>1</th>\n",
       "      <td>Super Mario Bros.</td>\n",
       "      <td>NES</td>\n",
       "      <td>1985</td>\n",
       "      <td>Platform</td>\n",
       "      <td>29.08</td>\n",
       "      <td>3.58</td>\n",
       "      <td>6.81</td>\n",
       "      <td>0.77</td>\n",
       "      <td>NaN</td>\n",
       "      <td>NaN</td>\n",
       "      <td>NaN</td>\n",
       "      <td>40.24</td>\n",
       "    </tr>\n",
       "    <tr>\n",
       "      <th>2</th>\n",
       "      <td>Mario Kart Wii</td>\n",
       "      <td>Wii</td>\n",
       "      <td>2008</td>\n",
       "      <td>Racing</td>\n",
       "      <td>15.68</td>\n",
       "      <td>12.76</td>\n",
       "      <td>3.79</td>\n",
       "      <td>3.29</td>\n",
       "      <td>82.0</td>\n",
       "      <td>8.3</td>\n",
       "      <td>E</td>\n",
       "      <td>35.52</td>\n",
       "    </tr>\n",
       "    <tr>\n",
       "      <th>3</th>\n",
       "      <td>Wii Sports Resort</td>\n",
       "      <td>Wii</td>\n",
       "      <td>2009</td>\n",
       "      <td>Sports</td>\n",
       "      <td>15.61</td>\n",
       "      <td>10.93</td>\n",
       "      <td>3.28</td>\n",
       "      <td>2.95</td>\n",
       "      <td>80.0</td>\n",
       "      <td>8.0</td>\n",
       "      <td>E</td>\n",
       "      <td>32.77</td>\n",
       "    </tr>\n",
       "    <tr>\n",
       "      <th>4</th>\n",
       "      <td>Pokemon Red/Pokemon Blue</td>\n",
       "      <td>GB</td>\n",
       "      <td>1996</td>\n",
       "      <td>Role-Playing</td>\n",
       "      <td>11.27</td>\n",
       "      <td>8.89</td>\n",
       "      <td>10.22</td>\n",
       "      <td>1.00</td>\n",
       "      <td>NaN</td>\n",
       "      <td>NaN</td>\n",
       "      <td>NaN</td>\n",
       "      <td>31.38</td>\n",
       "    </tr>\n",
       "  </tbody>\n",
       "</table>\n",
       "</div>"
      ],
      "text/plain": [
       "                       name platform  year_of_release         genre  na_sales  \\\n",
       "0                Wii Sports      Wii             2006        Sports     41.36   \n",
       "1         Super Mario Bros.      NES             1985      Platform     29.08   \n",
       "2            Mario Kart Wii      Wii             2008        Racing     15.68   \n",
       "3         Wii Sports Resort      Wii             2009        Sports     15.61   \n",
       "4  Pokemon Red/Pokemon Blue       GB             1996  Role-Playing     11.27   \n",
       "\n",
       "   eu_sales  jp_sales  other_sales  critic_score  user_score rating  \\\n",
       "0     28.96      3.77         8.45          76.0         8.0      E   \n",
       "1      3.58      6.81         0.77           NaN         NaN    NaN   \n",
       "2     12.76      3.79         3.29          82.0         8.3      E   \n",
       "3     10.93      3.28         2.95          80.0         8.0      E   \n",
       "4      8.89     10.22         1.00           NaN         NaN    NaN   \n",
       "\n",
       "   total_sales  \n",
       "0        82.54  \n",
       "1        40.24  \n",
       "2        35.52  \n",
       "3        32.77  \n",
       "4        31.38  "
      ]
     },
     "execution_count": 14,
     "metadata": {},
     "output_type": "execute_result"
    }
   ],
   "source": [
    "data['total_sales'] = data['na_sales'] + data['eu_sales'] + data['jp_sales'] + data['other_sales']\n",
    "data.head()"
   ]
  },
  {
   "cell_type": "markdown",
   "metadata": {},
   "source": [
    "Таким образом:\n",
    "- Изменили тип данных некоторых столбцов, чтобы в дальнейшем не сталкиваться с ошибками при анализе.\n",
    "- С помощью замены некорректных значений, например, tbd, мы заполнили данные в столбце user_score. \n",
    "- Удалили пропущенные значения там, где возможно было это сделать корректно без угрозы для дальнейшего исследования. Пропуски в столбцах year_of_release , critic_score , user_score , rating оставим без обработки в связи с тем, что их заполнение может \"сдвинуть\" статистику, а анализ в дальнейшем окажется некорректным.\n"
   ]
  },
  {
   "cell_type": "markdown",
   "metadata": {},
   "source": [
    "### Исследовательский анализ данных"
   ]
  },
  {
   "cell_type": "markdown",
   "metadata": {},
   "source": [
    "#### Количество игр за каждый год"
   ]
  },
  {
   "cell_type": "code",
   "execution_count": 15,
   "metadata": {},
   "outputs": [
    {
     "data": {
      "text/html": [
       "<div>\n",
       "<style scoped>\n",
       "    .dataframe tbody tr th:only-of-type {\n",
       "        vertical-align: middle;\n",
       "    }\n",
       "\n",
       "    .dataframe tbody tr th {\n",
       "        vertical-align: top;\n",
       "    }\n",
       "\n",
       "    .dataframe thead th {\n",
       "        text-align: right;\n",
       "    }\n",
       "</style>\n",
       "<table border=\"1\" class=\"dataframe\">\n",
       "  <thead>\n",
       "    <tr style=\"text-align: right;\">\n",
       "      <th></th>\n",
       "      <th>year_of_release</th>\n",
       "      <th>name</th>\n",
       "    </tr>\n",
       "  </thead>\n",
       "  <tbody>\n",
       "    <tr>\n",
       "      <th>28</th>\n",
       "      <td>2008</td>\n",
       "      <td>1427</td>\n",
       "    </tr>\n",
       "    <tr>\n",
       "      <th>29</th>\n",
       "      <td>2009</td>\n",
       "      <td>1426</td>\n",
       "    </tr>\n",
       "    <tr>\n",
       "      <th>30</th>\n",
       "      <td>2010</td>\n",
       "      <td>1255</td>\n",
       "    </tr>\n",
       "    <tr>\n",
       "      <th>27</th>\n",
       "      <td>2007</td>\n",
       "      <td>1197</td>\n",
       "    </tr>\n",
       "    <tr>\n",
       "      <th>31</th>\n",
       "      <td>2011</td>\n",
       "      <td>1136</td>\n",
       "    </tr>\n",
       "    <tr>\n",
       "      <th>26</th>\n",
       "      <td>2006</td>\n",
       "      <td>1006</td>\n",
       "    </tr>\n",
       "    <tr>\n",
       "      <th>25</th>\n",
       "      <td>2005</td>\n",
       "      <td>939</td>\n",
       "    </tr>\n",
       "    <tr>\n",
       "      <th>22</th>\n",
       "      <td>2002</td>\n",
       "      <td>829</td>\n",
       "    </tr>\n",
       "    <tr>\n",
       "      <th>23</th>\n",
       "      <td>2003</td>\n",
       "      <td>775</td>\n",
       "    </tr>\n",
       "    <tr>\n",
       "      <th>24</th>\n",
       "      <td>2004</td>\n",
       "      <td>762</td>\n",
       "    </tr>\n",
       "  </tbody>\n",
       "</table>\n",
       "</div>"
      ],
      "text/plain": [
       "    year_of_release  name\n",
       "28             2008  1427\n",
       "29             2009  1426\n",
       "30             2010  1255\n",
       "27             2007  1197\n",
       "31             2011  1136\n",
       "26             2006  1006\n",
       "25             2005   939\n",
       "22             2002   829\n",
       "23             2003   775\n",
       "24             2004   762"
      ]
     },
     "execution_count": 15,
     "metadata": {},
     "output_type": "execute_result"
    }
   ],
   "source": [
    "games_per_year = (\n",
    "    data\n",
    "    .groupby('year_of_release')['name']\n",
    "    .count()\n",
    "    .reset_index()\n",
    "    .sort_values(by='name', ascending=False)\n",
    ")\n",
    "games_per_year.head(10)"
   ]
  },
  {
   "cell_type": "markdown",
   "metadata": {},
   "source": [
    "C 1980 по 2008 год количество выпущенных игр в год постепенно росло. Пиковой точкой выпуска игр являкется 2008 год, в котором было выпущено 1 427 штук.\n",
    "\n",
    "Рассмотрим, как данные выглядит на графике."
   ]
  },
  {
   "cell_type": "code",
   "execution_count": 16,
   "metadata": {},
   "outputs": [
    {
     "data": {
      "image/png": "[encoded data removed]",
      "text/plain": [
       "<Figure size 576x288 with 1 Axes>"
      ]
     },
     "metadata": {
      "needs_background": "light"
     },
     "output_type": "display_data"
    }
   ],
   "source": [
    "(\n",
    "    data.pivot_table(index='year_of_release', values='name', aggfunc='count')\n",
    "    .plot(style='o-', title='Количество игр за каждый год', figsize=(8, 4), legend=False, grid=True)\n",
    ")\n",
    "plt.xlabel('Год выпуска')\n",
    "plt.ylabel('Количество игр')\n",
    "plt.show()"
   ]
  },
  {
   "cell_type": "markdown",
   "metadata": {},
   "source": [
    "Мы видим, что с 2008 по 2011 объем выпущенных игр за год еще держится примерно на одном уровне, но уже постепенно начинает снижаться. После 2011 года происходит резкое снижение выпуска игр в каждом последующем году.\n",
    "\n",
    "Снижение выпуска может быть обусловлено тем, в совокупности с мировым кризисом 2008 года в данный период началось развитие мобильных и онлайн-игр. В связи с тем, что данные продукты влекут за собой пониженные риски и быстрее выходят на точку прибыли, они стали более перспективными для продажи. Также, для создания игр для мобильных устройств не требуется содержать большую команду, а сам цикл разработки гораздо быстрее. Вероятно, данные факторы сильно повлияли на развитие индустрии компьютерных игр. "
   ]
  },
  {
   "cell_type": "markdown",
   "metadata": {},
   "source": [
    "#### Изменение продаж по всем платформам"
   ]
  },
  {
   "cell_type": "markdown",
   "metadata": {},
   "source": [
    "Рассмотрим совокупность продаж по каждой из платформ и передадим это в переменную sales_by_platform"
   ]
  },
  {
   "cell_type": "code",
   "execution_count": 17,
   "metadata": {},
   "outputs": [
    {
     "data": {
      "text/html": [
       "<div>\n",
       "<style scoped>\n",
       "    .dataframe tbody tr th:only-of-type {\n",
       "        vertical-align: middle;\n",
       "    }\n",
       "\n",
       "    .dataframe tbody tr th {\n",
       "        vertical-align: top;\n",
       "    }\n",
       "\n",
       "    .dataframe thead th {\n",
       "        text-align: right;\n",
       "    }\n",
       "</style>\n",
       "<table border=\"1\" class=\"dataframe\">\n",
       "  <thead>\n",
       "    <tr style=\"text-align: right;\">\n",
       "      <th></th>\n",
       "      <th>total_sales</th>\n",
       "    </tr>\n",
       "    <tr>\n",
       "      <th>platform</th>\n",
       "      <th></th>\n",
       "    </tr>\n",
       "  </thead>\n",
       "  <tbody>\n",
       "    <tr>\n",
       "      <th>PS2</th>\n",
       "      <td>1255.77</td>\n",
       "    </tr>\n",
       "    <tr>\n",
       "      <th>X360</th>\n",
       "      <td>971.42</td>\n",
       "    </tr>\n",
       "    <tr>\n",
       "      <th>PS3</th>\n",
       "      <td>939.65</td>\n",
       "    </tr>\n",
       "    <tr>\n",
       "      <th>Wii</th>\n",
       "      <td>907.51</td>\n",
       "    </tr>\n",
       "    <tr>\n",
       "      <th>DS</th>\n",
       "      <td>806.12</td>\n",
       "    </tr>\n",
       "    <tr>\n",
       "      <th>PS</th>\n",
       "      <td>730.86</td>\n",
       "    </tr>\n",
       "    <tr>\n",
       "      <th>GBA</th>\n",
       "      <td>317.85</td>\n",
       "    </tr>\n",
       "    <tr>\n",
       "      <th>PS4</th>\n",
       "      <td>314.14</td>\n",
       "    </tr>\n",
       "    <tr>\n",
       "      <th>PSP</th>\n",
       "      <td>294.05</td>\n",
       "    </tr>\n",
       "    <tr>\n",
       "      <th>PC</th>\n",
       "      <td>259.52</td>\n",
       "    </tr>\n",
       "  </tbody>\n",
       "</table>\n",
       "</div>"
      ],
      "text/plain": [
       "          total_sales\n",
       "platform             \n",
       "PS2           1255.77\n",
       "X360           971.42\n",
       "PS3            939.65\n",
       "Wii            907.51\n",
       "DS             806.12\n",
       "PS             730.86\n",
       "GBA            317.85\n",
       "PS4            314.14\n",
       "PSP            294.05\n",
       "PC             259.52"
      ]
     },
     "execution_count": 17,
     "metadata": {},
     "output_type": "execute_result"
    }
   ],
   "source": [
    "sales_by_platform = (\n",
    "    data\n",
    "    .pivot_table(index='platform', values='total_sales', aggfunc='sum')\n",
    "    .sort_values(by='total_sales', ascending=False)\n",
    ")\n",
    "    \n",
    "sales_by_platform.head(10)"
   ]
  },
  {
   "cell_type": "code",
   "execution_count": 18,
   "metadata": {},
   "outputs": [
    {
     "data": {
      "image/png": "[encoded data removed]",
      "text/plain": [
       "<Figure size 576x288 with 1 Axes>"
      ]
     },
     "metadata": {
      "needs_background": "light"
     },
     "output_type": "display_data"
    }
   ],
   "source": [
    "(\n",
    "    data.pivot_table(index='platform', values='total_sales', aggfunc='sum')\n",
    "    .sort_values(by='total_sales', ascending=False)\n",
    "    .plot(style='o-', title='Сумма продаж по каждой платформе', figsize=(8, 4), grid=True, legend=False)\n",
    ")\n",
    "plt.xlabel('Платформа')\n",
    "plt.ylabel('Сумма продаж')\n",
    "plt.show()"
   ]
  },
  {
   "cell_type": "markdown",
   "metadata": {},
   "source": [
    "Мы видим, что основным платформами на основании сумм продаж являются первые 6 позиций, остальные платформы значительно отстают по своей востребованности. Самой популярной платформой является \"PS2\", крайней точкой перед резким снижением суммы продаж является платформа \"PS\"\n",
    "\n",
    "Рассмотрим изменение продаж и построим распределение по годам по саммым востребованным платформам:\n",
    "- создадим список самых популярных платформ;\n",
    "- построим график, сгруппировав суммы продаж за каждый год по сформированной выборке."
   ]
  },
  {
   "cell_type": "code",
   "execution_count": 19,
   "metadata": {},
   "outputs": [],
   "source": [
    "popular_platforms = ['PS2', 'X360', 'PS3', 'Wii', 'DS', 'PS']"
   ]
  },
  {
   "cell_type": "code",
   "execution_count": 20,
   "metadata": {},
   "outputs": [
    {
     "data": {
      "image/png": "[encoded data removed]",
      "text/plain": [
       "<Figure size 720x288 with 1 Axes>"
      ]
     },
     "metadata": {
      "needs_background": "light"
     },
     "output_type": "display_data"
    }
   ],
   "source": [
    "for name in range(len(popular_platforms)):\n",
    "    data.query('platform == @popular_platforms[@name]').groupby('year_of_release')['total_sales'].sum().plot(\n",
    "        style='o-', title='Распределение суммы продаж платформ за год', \n",
    "        figsize=(10, 4), label=popular_platforms[name], grid=True)\n",
    "plt.xlabel('Год выпуска')    \n",
    "plt.ylabel('Сумма продаж за год')\n",
    "plt.legend()\n",
    "plt.show();"
   ]
  },
  {
   "cell_type": "markdown",
   "metadata": {},
   "source": [
    "По графику мы можем заметить, что в среднем срок \"жизненного цикла\"  платформы составляет 10 лет. \n",
    "Пика продаж за сформированый период достигла платформа явлется \"PS2\", 2ю позицию занимает платформа \"Wii\".\n",
    "50% платформ были выпущены после 2005 года и в дальнейшем занимали среднюю позицию продаж относительно рынка: \"X360\",\"PS3\", \"Wii\".\n",
    "\n",
    "\n"
   ]
  },
  {
   "cell_type": "markdown",
   "metadata": {},
   "source": [
    "#### Построение прогноза на 2017 год"
   ]
  },
  {
   "cell_type": "markdown",
   "metadata": {},
   "source": [
    "Рассмотрим графики актуальности платформ, выпущенных за последние 5 лет, чтобы найти актуальный период для прогноза на 2017 год"
   ]
  },
  {
   "cell_type": "code",
   "execution_count": 21,
   "metadata": {},
   "outputs": [
    {
     "data": {
      "image/png": "[encoded data removed]",
      "text/plain": [
       "<Figure size 720x432 with 1 Axes>"
      ]
     },
     "metadata": {
      "needs_background": "light"
     },
     "output_type": "display_data"
    }
   ],
   "source": [
    "(\n",
    "    data.query('year_of_release > 2010')\n",
    "    .pivot_table(index='year_of_release', values='total_sales', columns='platform', aggfunc='sum')\n",
    "    .plot(style='o-', title='Распределение суммы продаж платформ за год', \n",
    "        figsize=(10, 6), grid=True)\n",
    ");\n",
    "plt.xlabel('Год выпуска')    \n",
    "plt.ylabel('Сумма продаж за год')\n",
    "plt.legend()\n",
    "plt.show();"
   ]
  },
  {
   "cell_type": "markdown",
   "metadata": {},
   "source": [
    "Для построения прогноза на будущие годы необходимо использовать те данные, которые в дальнейшем еще будут актульны, так как ситуация на рынке очень изменчива. В связи с этим, нет необходимости рассматривать в качестве перспективных те платформы, которые к 2017 году уже станут неактуальными. \n",
    "\n",
    "За последние 5 лет множество игр уже исчерпали свой \"жизненный цикл\", однако, в 2013 году были выпущены 2 платформы, сумма продаж которых начала характерно расти в 2014. Соответсвенно, актуальным периодом становится тот период времени, когда сумма продаж по данным платформам начинает расти до текущего периода: с 2014 по 2016\n",
    "\n",
    "Сформируем датасет за актуальный период и построим график."
   ]
  },
  {
   "cell_type": "code",
   "execution_count": 22,
   "metadata": {},
   "outputs": [
    {
     "data": {
      "text/html": [
       "<div>\n",
       "<style scoped>\n",
       "    .dataframe tbody tr th:only-of-type {\n",
       "        vertical-align: middle;\n",
       "    }\n",
       "\n",
       "    .dataframe tbody tr th {\n",
       "        vertical-align: top;\n",
       "    }\n",
       "\n",
       "    .dataframe thead th {\n",
       "        text-align: right;\n",
       "    }\n",
       "</style>\n",
       "<table border=\"1\" class=\"dataframe\">\n",
       "  <thead>\n",
       "    <tr style=\"text-align: right;\">\n",
       "      <th></th>\n",
       "      <th>name</th>\n",
       "      <th>platform</th>\n",
       "      <th>year_of_release</th>\n",
       "      <th>genre</th>\n",
       "      <th>na_sales</th>\n",
       "      <th>eu_sales</th>\n",
       "      <th>jp_sales</th>\n",
       "      <th>other_sales</th>\n",
       "      <th>critic_score</th>\n",
       "      <th>user_score</th>\n",
       "      <th>rating</th>\n",
       "      <th>total_sales</th>\n",
       "    </tr>\n",
       "  </thead>\n",
       "  <tbody>\n",
       "    <tr>\n",
       "      <th>31</th>\n",
       "      <td>Call of Duty: Black Ops 3</td>\n",
       "      <td>PS4</td>\n",
       "      <td>2015</td>\n",
       "      <td>Shooter</td>\n",
       "      <td>6.03</td>\n",
       "      <td>5.86</td>\n",
       "      <td>0.36</td>\n",
       "      <td>2.38</td>\n",
       "      <td>NaN</td>\n",
       "      <td>NaN</td>\n",
       "      <td>NaN</td>\n",
       "      <td>14.63</td>\n",
       "    </tr>\n",
       "    <tr>\n",
       "      <th>42</th>\n",
       "      <td>Grand Theft Auto V</td>\n",
       "      <td>PS4</td>\n",
       "      <td>2014</td>\n",
       "      <td>Action</td>\n",
       "      <td>3.96</td>\n",
       "      <td>6.31</td>\n",
       "      <td>0.38</td>\n",
       "      <td>1.97</td>\n",
       "      <td>97.0</td>\n",
       "      <td>8.3</td>\n",
       "      <td>M</td>\n",
       "      <td>12.62</td>\n",
       "    </tr>\n",
       "    <tr>\n",
       "      <th>47</th>\n",
       "      <td>Pokemon Omega Ruby/Pokemon Alpha Sapphire</td>\n",
       "      <td>3DS</td>\n",
       "      <td>2014</td>\n",
       "      <td>Role-Playing</td>\n",
       "      <td>4.35</td>\n",
       "      <td>3.49</td>\n",
       "      <td>3.10</td>\n",
       "      <td>0.74</td>\n",
       "      <td>NaN</td>\n",
       "      <td>NaN</td>\n",
       "      <td>NaN</td>\n",
       "      <td>11.68</td>\n",
       "    </tr>\n",
       "    <tr>\n",
       "      <th>77</th>\n",
       "      <td>FIFA 16</td>\n",
       "      <td>PS4</td>\n",
       "      <td>2015</td>\n",
       "      <td>Sports</td>\n",
       "      <td>1.12</td>\n",
       "      <td>6.12</td>\n",
       "      <td>0.06</td>\n",
       "      <td>1.28</td>\n",
       "      <td>82.0</td>\n",
       "      <td>4.3</td>\n",
       "      <td>E</td>\n",
       "      <td>8.58</td>\n",
       "    </tr>\n",
       "    <tr>\n",
       "      <th>87</th>\n",
       "      <td>Star Wars Battlefront (2015)</td>\n",
       "      <td>PS4</td>\n",
       "      <td>2015</td>\n",
       "      <td>Shooter</td>\n",
       "      <td>2.99</td>\n",
       "      <td>3.49</td>\n",
       "      <td>0.22</td>\n",
       "      <td>1.28</td>\n",
       "      <td>NaN</td>\n",
       "      <td>NaN</td>\n",
       "      <td>NaN</td>\n",
       "      <td>7.98</td>\n",
       "    </tr>\n",
       "    <tr>\n",
       "      <th>...</th>\n",
       "      <td>...</td>\n",
       "      <td>...</td>\n",
       "      <td>...</td>\n",
       "      <td>...</td>\n",
       "      <td>...</td>\n",
       "      <td>...</td>\n",
       "      <td>...</td>\n",
       "      <td>...</td>\n",
       "      <td>...</td>\n",
       "      <td>...</td>\n",
       "      <td>...</td>\n",
       "      <td>...</td>\n",
       "    </tr>\n",
       "    <tr>\n",
       "      <th>16703</th>\n",
       "      <td>Strawberry Nauts</td>\n",
       "      <td>PSV</td>\n",
       "      <td>2016</td>\n",
       "      <td>Adventure</td>\n",
       "      <td>0.00</td>\n",
       "      <td>0.00</td>\n",
       "      <td>0.01</td>\n",
       "      <td>0.00</td>\n",
       "      <td>NaN</td>\n",
       "      <td>NaN</td>\n",
       "      <td>NaN</td>\n",
       "      <td>0.01</td>\n",
       "    </tr>\n",
       "    <tr>\n",
       "      <th>16707</th>\n",
       "      <td>Aiyoku no Eustia</td>\n",
       "      <td>PSV</td>\n",
       "      <td>2014</td>\n",
       "      <td>Misc</td>\n",
       "      <td>0.00</td>\n",
       "      <td>0.00</td>\n",
       "      <td>0.01</td>\n",
       "      <td>0.00</td>\n",
       "      <td>NaN</td>\n",
       "      <td>NaN</td>\n",
       "      <td>NaN</td>\n",
       "      <td>0.01</td>\n",
       "    </tr>\n",
       "    <tr>\n",
       "      <th>16710</th>\n",
       "      <td>Samurai Warriors: Sanada Maru</td>\n",
       "      <td>PS3</td>\n",
       "      <td>2016</td>\n",
       "      <td>Action</td>\n",
       "      <td>0.00</td>\n",
       "      <td>0.00</td>\n",
       "      <td>0.01</td>\n",
       "      <td>0.00</td>\n",
       "      <td>NaN</td>\n",
       "      <td>NaN</td>\n",
       "      <td>NaN</td>\n",
       "      <td>0.01</td>\n",
       "    </tr>\n",
       "    <tr>\n",
       "      <th>16712</th>\n",
       "      <td>Haitaka no Psychedelica</td>\n",
       "      <td>PSV</td>\n",
       "      <td>2016</td>\n",
       "      <td>Adventure</td>\n",
       "      <td>0.00</td>\n",
       "      <td>0.00</td>\n",
       "      <td>0.01</td>\n",
       "      <td>0.00</td>\n",
       "      <td>NaN</td>\n",
       "      <td>NaN</td>\n",
       "      <td>NaN</td>\n",
       "      <td>0.01</td>\n",
       "    </tr>\n",
       "    <tr>\n",
       "      <th>16714</th>\n",
       "      <td>Winning Post 8 2016</td>\n",
       "      <td>PSV</td>\n",
       "      <td>2016</td>\n",
       "      <td>Simulation</td>\n",
       "      <td>0.00</td>\n",
       "      <td>0.00</td>\n",
       "      <td>0.01</td>\n",
       "      <td>0.00</td>\n",
       "      <td>NaN</td>\n",
       "      <td>NaN</td>\n",
       "      <td>NaN</td>\n",
       "      <td>0.01</td>\n",
       "    </tr>\n",
       "  </tbody>\n",
       "</table>\n",
       "<p>1689 rows × 12 columns</p>\n",
       "</div>"
      ],
      "text/plain": [
       "                                            name platform  year_of_release  \\\n",
       "31                     Call of Duty: Black Ops 3      PS4             2015   \n",
       "42                            Grand Theft Auto V      PS4             2014   \n",
       "47     Pokemon Omega Ruby/Pokemon Alpha Sapphire      3DS             2014   \n",
       "77                                       FIFA 16      PS4             2015   \n",
       "87                  Star Wars Battlefront (2015)      PS4             2015   \n",
       "...                                          ...      ...              ...   \n",
       "16703                           Strawberry Nauts      PSV             2016   \n",
       "16707                           Aiyoku no Eustia      PSV             2014   \n",
       "16710              Samurai Warriors: Sanada Maru      PS3             2016   \n",
       "16712                    Haitaka no Psychedelica      PSV             2016   \n",
       "16714                        Winning Post 8 2016      PSV             2016   \n",
       "\n",
       "              genre  na_sales  eu_sales  jp_sales  other_sales  critic_score  \\\n",
       "31          Shooter      6.03      5.86      0.36         2.38           NaN   \n",
       "42           Action      3.96      6.31      0.38         1.97          97.0   \n",
       "47     Role-Playing      4.35      3.49      3.10         0.74           NaN   \n",
       "77           Sports      1.12      6.12      0.06         1.28          82.0   \n",
       "87          Shooter      2.99      3.49      0.22         1.28           NaN   \n",
       "...             ...       ...       ...       ...          ...           ...   \n",
       "16703     Adventure      0.00      0.00      0.01         0.00           NaN   \n",
       "16707          Misc      0.00      0.00      0.01         0.00           NaN   \n",
       "16710        Action      0.00      0.00      0.01         0.00           NaN   \n",
       "16712     Adventure      0.00      0.00      0.01         0.00           NaN   \n",
       "16714    Simulation      0.00      0.00      0.01         0.00           NaN   \n",
       "\n",
       "       user_score rating  total_sales  \n",
       "31            NaN    NaN        14.63  \n",
       "42            8.3      M        12.62  \n",
       "47            NaN    NaN        11.68  \n",
       "77            4.3      E         8.58  \n",
       "87            NaN    NaN         7.98  \n",
       "...           ...    ...          ...  \n",
       "16703         NaN    NaN         0.01  \n",
       "16707         NaN    NaN         0.01  \n",
       "16710         NaN    NaN         0.01  \n",
       "16712         NaN    NaN         0.01  \n",
       "16714         NaN    NaN         0.01  \n",
       "\n",
       "[1689 rows x 12 columns]"
      ]
     },
     "execution_count": 22,
     "metadata": {},
     "output_type": "execute_result"
    }
   ],
   "source": [
    "data_for_2017 = data.query('year_of_release >= 2014')\n",
    "data_for_2017"
   ]
  },
  {
   "cell_type": "code",
   "execution_count": 23,
   "metadata": {},
   "outputs": [
    {
     "data": {
      "text/html": [
       "<div>\n",
       "<style scoped>\n",
       "    .dataframe tbody tr th:only-of-type {\n",
       "        vertical-align: middle;\n",
       "    }\n",
       "\n",
       "    .dataframe tbody tr th {\n",
       "        vertical-align: top;\n",
       "    }\n",
       "\n",
       "    .dataframe thead th {\n",
       "        text-align: right;\n",
       "    }\n",
       "</style>\n",
       "<table border=\"1\" class=\"dataframe\">\n",
       "  <thead>\n",
       "    <tr style=\"text-align: right;\">\n",
       "      <th></th>\n",
       "      <th>total_sales</th>\n",
       "    </tr>\n",
       "    <tr>\n",
       "      <th>platform</th>\n",
       "      <th></th>\n",
       "    </tr>\n",
       "  </thead>\n",
       "  <tbody>\n",
       "    <tr>\n",
       "      <th>PS4</th>\n",
       "      <td>288.15</td>\n",
       "    </tr>\n",
       "    <tr>\n",
       "      <th>XOne</th>\n",
       "      <td>140.36</td>\n",
       "    </tr>\n",
       "    <tr>\n",
       "      <th>3DS</th>\n",
       "      <td>86.68</td>\n",
       "    </tr>\n",
       "    <tr>\n",
       "      <th>PS3</th>\n",
       "      <td>68.18</td>\n",
       "    </tr>\n",
       "    <tr>\n",
       "      <th>X360</th>\n",
       "      <td>48.22</td>\n",
       "    </tr>\n",
       "    <tr>\n",
       "      <th>WiiU</th>\n",
       "      <td>42.98</td>\n",
       "    </tr>\n",
       "    <tr>\n",
       "      <th>PC</th>\n",
       "      <td>27.05</td>\n",
       "    </tr>\n",
       "    <tr>\n",
       "      <th>PSV</th>\n",
       "      <td>22.40</td>\n",
       "    </tr>\n",
       "    <tr>\n",
       "      <th>Wii</th>\n",
       "      <td>5.07</td>\n",
       "    </tr>\n",
       "    <tr>\n",
       "      <th>PSP</th>\n",
       "      <td>0.36</td>\n",
       "    </tr>\n",
       "  </tbody>\n",
       "</table>\n",
       "</div>"
      ],
      "text/plain": [
       "          total_sales\n",
       "platform             \n",
       "PS4            288.15\n",
       "XOne           140.36\n",
       "3DS             86.68\n",
       "PS3             68.18\n",
       "X360            48.22\n",
       "WiiU            42.98\n",
       "PC              27.05\n",
       "PSV             22.40\n",
       "Wii              5.07\n",
       "PSP              0.36"
      ]
     },
     "execution_count": 23,
     "metadata": {},
     "output_type": "execute_result"
    }
   ],
   "source": [
    "(\n",
    "    data_for_2017\n",
    "    .pivot_table(index='platform', values='total_sales', aggfunc='sum')\n",
    "    .sort_values(by='total_sales', ascending=False).head(10)\n",
    ")\n"
   ]
  },
  {
   "cell_type": "code",
   "execution_count": 24,
   "metadata": {},
   "outputs": [
    {
     "data": {
      "image/png": "[encoded data removed]",
      "text/plain": [
       "<Figure size 720x432 with 1 Axes>"
      ]
     },
     "metadata": {
      "needs_background": "light"
     },
     "output_type": "display_data"
    }
   ],
   "source": [
    "(\n",
    "    data_for_2017\n",
    "    .pivot_table(index='year_of_release', values='total_sales', columns='platform', aggfunc='sum')\n",
    "    .plot(style='o-', title='Распределение суммы продаж платформ за год', figsize=(10, 6), grid=True)\n",
    ");\n",
    "plt.xlabel('Год')    \n",
    "plt.ylabel('Сумма продаж за год')\n",
    "plt.legend()\n",
    "plt.show();"
   ]
  },
  {
   "cell_type": "markdown",
   "metadata": {},
   "source": [
    "На основании полученных данных лидирующие позиции по продажам занимают платформы:\n",
    "- PS4, сумма продаж которой за весь период составляет 288.15 млн. (по сравнению с 2014 годом продажи росли) \n",
    "- XOne, сумма продаж которой за весь период составляет 140.36 млн. (по сравнению с 2014 годом продажи росли) \n",
    "- 3DS, сумма продаж которой за весь период составляет 86.68 млн.\n",
    "За актуальный период по большинству платформ сумма продаж постепенно начала снижаться, в том числе и по 3DS, являющейся одной из самых продаваемых. \n",
    "\n",
    "Изучая график, мы можем увидеть, что снижение продаж происходит равномерно по всем позициям. Возможно, это связано с увеличением доли рынка мобильных и онлайн-игр."
   ]
  },
  {
   "cell_type": "markdown",
   "metadata": {},
   "source": [
    "#### «Ящик с усами» и глобальные продажи игр в разбивке по платформам"
   ]
  },
  {
   "cell_type": "markdown",
   "metadata": {},
   "source": [
    "В прошлом подпункте мы нашли платформы, \"жизненный цикл\" которых еще существует за период с 2014 по 2016гг. \n",
    "Рассмотрим продажу игр в разрезе выявленных платформ и построим диаграмму размаха (или по-другому \"ящик с усами\") с помощью функции boxplot()."
   ]
  },
  {
   "cell_type": "code",
   "execution_count": 25,
   "metadata": {},
   "outputs": [
    {
     "data": {
      "image/png": "[encoded data removed]",
      "text/plain": [
       "<Figure size 720x864 with 1 Axes>"
      ]
     },
     "metadata": {
      "needs_background": "light"
     },
     "output_type": "display_data"
    }
   ],
   "source": [
    "(\n",
    "data_for_2017\n",
    "    .pivot_table(index='name', values='total_sales', columns='platform')\n",
    "    .boxplot(grid=True, figsize=(10,12))\n",
    "    .set_ylim([0, 2])\n",
    ")\n",
    "plt.title('Диаграмма размаха')\n",
    "plt.xlabel('Платформа')\n",
    "plt.ylabel('Глобальные продажи')\n",
    "plt.show();"
   ]
  },
  {
   "cell_type": "markdown",
   "metadata": {},
   "source": [
    "Так как выбросы данных мешают нам детальнее рассмотреть \"основные\" данные датасета, построим аналогичную диаграмму с большим масштабом, не учитывая выявленные выбросы."
   ]
  },
  {
   "cell_type": "code",
   "execution_count": 26,
   "metadata": {},
   "outputs": [
    {
     "data": {
      "image/png": "[encoded data removed]",
      "text/plain": [
       "<Figure size 1440x720 with 1 Axes>"
      ]
     },
     "metadata": {
      "needs_background": "light"
     },
     "output_type": "display_data"
    }
   ],
   "source": [
    "(\n",
    "    data_for_2017\n",
    "    .pivot_table(index='name', values='total_sales', columns='platform')\n",
    "    .boxplot(grid=True, figsize=(20,10))\n",
    "    .set_ylim([0, 0.85])\n",
    ")\n",
    "plt.title('Диаграмма размаха')\n",
    "plt.xlabel('Платформа')\n",
    "plt.ylabel('Глобальные продажи')\n",
    "plt.show();"
   ]
  },
  {
   "cell_type": "markdown",
   "metadata": {},
   "source": [
    "График стал более наглядным, но для детального рассмотрения данных отразим общую информацию по сформированному датасету с помощью describe()"
   ]
  },
  {
   "cell_type": "code",
   "execution_count": 27,
   "metadata": {},
   "outputs": [
    {
     "data": {
      "text/html": [
       "<div>\n",
       "<style scoped>\n",
       "    .dataframe tbody tr th:only-of-type {\n",
       "        vertical-align: middle;\n",
       "    }\n",
       "\n",
       "    .dataframe tbody tr th {\n",
       "        vertical-align: top;\n",
       "    }\n",
       "\n",
       "    .dataframe thead th {\n",
       "        text-align: right;\n",
       "    }\n",
       "</style>\n",
       "<table border=\"1\" class=\"dataframe\">\n",
       "  <thead>\n",
       "    <tr style=\"text-align: right;\">\n",
       "      <th></th>\n",
       "      <th>count</th>\n",
       "      <th>mean</th>\n",
       "      <th>std</th>\n",
       "      <th>min</th>\n",
       "      <th>25%</th>\n",
       "      <th>50%</th>\n",
       "      <th>75%</th>\n",
       "      <th>max</th>\n",
       "    </tr>\n",
       "    <tr>\n",
       "      <th>platform</th>\n",
       "      <th></th>\n",
       "      <th></th>\n",
       "      <th></th>\n",
       "      <th></th>\n",
       "      <th></th>\n",
       "      <th></th>\n",
       "      <th></th>\n",
       "      <th></th>\n",
       "    </tr>\n",
       "  </thead>\n",
       "  <tbody>\n",
       "    <tr>\n",
       "      <th>3DS</th>\n",
       "      <td>212.0</td>\n",
       "      <td>0.408868</td>\n",
       "      <td>1.188368</td>\n",
       "      <td>0.01</td>\n",
       "      <td>0.0300</td>\n",
       "      <td>0.090</td>\n",
       "      <td>0.2500</td>\n",
       "      <td>11.68</td>\n",
       "    </tr>\n",
       "    <tr>\n",
       "      <th>PC</th>\n",
       "      <td>151.0</td>\n",
       "      <td>0.179139</td>\n",
       "      <td>0.329359</td>\n",
       "      <td>0.01</td>\n",
       "      <td>0.0200</td>\n",
       "      <td>0.060</td>\n",
       "      <td>0.2000</td>\n",
       "      <td>3.05</td>\n",
       "    </tr>\n",
       "    <tr>\n",
       "      <th>PS3</th>\n",
       "      <td>219.0</td>\n",
       "      <td>0.311324</td>\n",
       "      <td>0.633059</td>\n",
       "      <td>0.01</td>\n",
       "      <td>0.0400</td>\n",
       "      <td>0.110</td>\n",
       "      <td>0.3250</td>\n",
       "      <td>5.27</td>\n",
       "    </tr>\n",
       "    <tr>\n",
       "      <th>PS4</th>\n",
       "      <td>376.0</td>\n",
       "      <td>0.766356</td>\n",
       "      <td>1.614969</td>\n",
       "      <td>0.01</td>\n",
       "      <td>0.0575</td>\n",
       "      <td>0.185</td>\n",
       "      <td>0.6900</td>\n",
       "      <td>14.63</td>\n",
       "    </tr>\n",
       "    <tr>\n",
       "      <th>PSP</th>\n",
       "      <td>13.0</td>\n",
       "      <td>0.027692</td>\n",
       "      <td>0.027735</td>\n",
       "      <td>0.01</td>\n",
       "      <td>0.0100</td>\n",
       "      <td>0.020</td>\n",
       "      <td>0.0200</td>\n",
       "      <td>0.09</td>\n",
       "    </tr>\n",
       "    <tr>\n",
       "      <th>PSV</th>\n",
       "      <td>295.0</td>\n",
       "      <td>0.075932</td>\n",
       "      <td>0.141591</td>\n",
       "      <td>0.01</td>\n",
       "      <td>0.0200</td>\n",
       "      <td>0.040</td>\n",
       "      <td>0.0900</td>\n",
       "      <td>1.96</td>\n",
       "    </tr>\n",
       "    <tr>\n",
       "      <th>Wii</th>\n",
       "      <td>11.0</td>\n",
       "      <td>0.460909</td>\n",
       "      <td>0.625451</td>\n",
       "      <td>0.01</td>\n",
       "      <td>0.0350</td>\n",
       "      <td>0.180</td>\n",
       "      <td>0.7550</td>\n",
       "      <td>2.01</td>\n",
       "    </tr>\n",
       "    <tr>\n",
       "      <th>WiiU</th>\n",
       "      <td>73.0</td>\n",
       "      <td>0.588767</td>\n",
       "      <td>1.161467</td>\n",
       "      <td>0.01</td>\n",
       "      <td>0.0500</td>\n",
       "      <td>0.190</td>\n",
       "      <td>0.5700</td>\n",
       "      <td>7.09</td>\n",
       "    </tr>\n",
       "    <tr>\n",
       "      <th>X360</th>\n",
       "      <td>111.0</td>\n",
       "      <td>0.434414</td>\n",
       "      <td>0.628967</td>\n",
       "      <td>0.01</td>\n",
       "      <td>0.0700</td>\n",
       "      <td>0.180</td>\n",
       "      <td>0.5050</td>\n",
       "      <td>4.28</td>\n",
       "    </tr>\n",
       "    <tr>\n",
       "      <th>XOne</th>\n",
       "      <td>228.0</td>\n",
       "      <td>0.615614</td>\n",
       "      <td>1.046513</td>\n",
       "      <td>0.01</td>\n",
       "      <td>0.0500</td>\n",
       "      <td>0.205</td>\n",
       "      <td>0.6325</td>\n",
       "      <td>7.39</td>\n",
       "    </tr>\n",
       "  </tbody>\n",
       "</table>\n",
       "</div>"
      ],
      "text/plain": [
       "          count      mean       std   min     25%    50%     75%    max\n",
       "platform                                                               \n",
       "3DS       212.0  0.408868  1.188368  0.01  0.0300  0.090  0.2500  11.68\n",
       "PC        151.0  0.179139  0.329359  0.01  0.0200  0.060  0.2000   3.05\n",
       "PS3       219.0  0.311324  0.633059  0.01  0.0400  0.110  0.3250   5.27\n",
       "PS4       376.0  0.766356  1.614969  0.01  0.0575  0.185  0.6900  14.63\n",
       "PSP        13.0  0.027692  0.027735  0.01  0.0100  0.020  0.0200   0.09\n",
       "PSV       295.0  0.075932  0.141591  0.01  0.0200  0.040  0.0900   1.96\n",
       "Wii        11.0  0.460909  0.625451  0.01  0.0350  0.180  0.7550   2.01\n",
       "WiiU       73.0  0.588767  1.161467  0.01  0.0500  0.190  0.5700   7.09\n",
       "X360      111.0  0.434414  0.628967  0.01  0.0700  0.180  0.5050   4.28\n",
       "XOne      228.0  0.615614  1.046513  0.01  0.0500  0.205  0.6325   7.39"
      ]
     },
     "execution_count": 27,
     "metadata": {},
     "output_type": "execute_result"
    }
   ],
   "source": [
    "data_for_2017.groupby('platform')['total_sales'].describe()"
   ]
  },
  {
   "cell_type": "markdown",
   "metadata": {},
   "source": [
    "На основании полученной диаграммы и данных, выведенных с помощью функции describe() необходимо определить следующие выводы:\n",
    "- Существуют платформы, по которым продажи одних платформ значительно превышают продажи других;\n",
    "- Средние значения значительно превышают медианные значения, что в данных присутствует довольно большой разброс и существуют игры, \"выстреливающие\" на рынке,  из-за которых продажи так высоки;\n",
    "- Лидирующими позициями по продаже игр являются платформы Wii, PS4, XOne. Платформа Wii выбилась вперед засчет отсутствия выборосов в значения, однако, все же платформы PS4, XOne в суммарном значении ее \"перевешивают\".\n",
    "\n",
    "Таким образом, лидирующую позицию среди платформ по продаже игр занимает PS4.\n",
    "- Отстающей позицией является платформа PSP. Это связано с тем, что при анализе актуального периода \"жизненный цикл\" PSP уже подходил к концу, в связи с чем, платформа уже перестает быть актуальной и продажи находятся на очень низкой позици."
   ]
  },
  {
   "cell_type": "markdown",
   "metadata": {},
   "source": [
    "#### Влияние отзывов пользователей и критиков на продажи внутри одной популярной платформы ."
   ]
  },
  {
   "cell_type": "markdown",
   "metadata": {},
   "source": [
    "Рассмотрим, как отзывы пользователй и критиков влияют на продажи игр для платформы PS4, которая является лидирующей среди других в актуальный период. Влияние данных факторов определим с помощью диаграммы рассеяния и коэффициента корреляции."
   ]
  },
  {
   "cell_type": "markdown",
   "metadata": {},
   "source": [
    "##### Зависимость пользовательских отзвывов на продажи по платформе PS4"
   ]
  },
  {
   "cell_type": "code",
   "execution_count": 28,
   "metadata": {},
   "outputs": [
    {
     "data": {
      "text/html": [
       "<div>\n",
       "<style scoped>\n",
       "    .dataframe tbody tr th:only-of-type {\n",
       "        vertical-align: middle;\n",
       "    }\n",
       "\n",
       "    .dataframe tbody tr th {\n",
       "        vertical-align: top;\n",
       "    }\n",
       "\n",
       "    .dataframe thead th {\n",
       "        text-align: right;\n",
       "    }\n",
       "</style>\n",
       "<table border=\"1\" class=\"dataframe\">\n",
       "  <thead>\n",
       "    <tr style=\"text-align: right;\">\n",
       "      <th></th>\n",
       "      <th>total_sales</th>\n",
       "      <th>user_score</th>\n",
       "    </tr>\n",
       "  </thead>\n",
       "  <tbody>\n",
       "    <tr>\n",
       "      <th>total_sales</th>\n",
       "      <td>1.000000</td>\n",
       "      <td>-0.040132</td>\n",
       "    </tr>\n",
       "    <tr>\n",
       "      <th>user_score</th>\n",
       "      <td>-0.040132</td>\n",
       "      <td>1.000000</td>\n",
       "    </tr>\n",
       "  </tbody>\n",
       "</table>\n",
       "</div>"
      ],
      "text/plain": [
       "             total_sales  user_score\n",
       "total_sales     1.000000   -0.040132\n",
       "user_score     -0.040132    1.000000"
      ]
     },
     "execution_count": 28,
     "metadata": {},
     "output_type": "execute_result"
    }
   ],
   "source": [
    "data_for_2017.query('platform==\"PS4\"')[['total_sales', 'user_score']].corr()"
   ]
  },
  {
   "cell_type": "code",
   "execution_count": 29,
   "metadata": {},
   "outputs": [
    {
     "data": {
      "image/png": "[encoded data removed]",
      "text/plain": [
       "<Figure size 360x360 with 1 Axes>"
      ]
     },
     "metadata": {
      "needs_background": "light"
     },
     "output_type": "display_data"
    }
   ],
   "source": [
    "(\n",
    "    data_for_2017\n",
    "    .query('platform==\"PS4\"')[['total_sales', 'user_score']]\n",
    "    .pivot_table(index='user_score', values='total_sales')\n",
    "    .plot(style='o', figsize=(5, 5), grid=True)\n",
    ")\n",
    "plt.xlabel('Рейтинг пользователей')\n",
    "plt.ylabel('Сумма продаж')\n",
    "plt.show();"
   ]
  },
  {
   "cell_type": "markdown",
   "metadata": {},
   "source": [
    "Исходя из диаграммы и полученных данных, мы видим, что зависимость между оценками пользователей и продажами отсутствует либо является непрямой, так как коэффициент корреляции является отрицательным. Логично было бы предположить, что чем большей пользовательский рейтинг у игры, тем продажи будут выше, но при этом, у всех пользователей разные факторы оценки игры, от которых зависит итоговый рейтинг: возможны случаи, когда рейтинг может быть высоким, при этом, продажи не соответствуют большим продажам."
   ]
  },
  {
   "cell_type": "markdown",
   "metadata": {},
   "source": [
    "##### Зависимость продаж от рейтинга критиков по платформе PS4"
   ]
  },
  {
   "cell_type": "code",
   "execution_count": 30,
   "metadata": {},
   "outputs": [
    {
     "data": {
      "text/html": [
       "<div>\n",
       "<style scoped>\n",
       "    .dataframe tbody tr th:only-of-type {\n",
       "        vertical-align: middle;\n",
       "    }\n",
       "\n",
       "    .dataframe tbody tr th {\n",
       "        vertical-align: top;\n",
       "    }\n",
       "\n",
       "    .dataframe thead th {\n",
       "        text-align: right;\n",
       "    }\n",
       "</style>\n",
       "<table border=\"1\" class=\"dataframe\">\n",
       "  <thead>\n",
       "    <tr style=\"text-align: right;\">\n",
       "      <th></th>\n",
       "      <th>total_sales</th>\n",
       "      <th>critic_score</th>\n",
       "    </tr>\n",
       "  </thead>\n",
       "  <tbody>\n",
       "    <tr>\n",
       "      <th>total_sales</th>\n",
       "      <td>1.000000</td>\n",
       "      <td>0.402661</td>\n",
       "    </tr>\n",
       "    <tr>\n",
       "      <th>critic_score</th>\n",
       "      <td>0.402661</td>\n",
       "      <td>1.000000</td>\n",
       "    </tr>\n",
       "  </tbody>\n",
       "</table>\n",
       "</div>"
      ],
      "text/plain": [
       "              total_sales  critic_score\n",
       "total_sales      1.000000      0.402661\n",
       "critic_score     0.402661      1.000000"
      ]
     },
     "execution_count": 30,
     "metadata": {},
     "output_type": "execute_result"
    }
   ],
   "source": [
    "data_for_2017.query('platform==\"PS4\"')[['total_sales', 'critic_score']].corr()"
   ]
  },
  {
   "cell_type": "code",
   "execution_count": 31,
   "metadata": {},
   "outputs": [
    {
     "data": {
      "image/png": "[encoded data removed]",
      "text/plain": [
       "<Figure size 360x360 with 1 Axes>"
      ]
     },
     "metadata": {
      "needs_background": "light"
     },
     "output_type": "display_data"
    }
   ],
   "source": [
    "(\n",
    "    data_for_2017\n",
    "    .query('platform==\"PS4\"')[['total_sales', 'critic_score']]\n",
    "    .pivot_table(index='critic_score', values='total_sales')\n",
    "    .plot(style='o', figsize=(5, 5), grid=True)\n",
    ")\n",
    "plt.xlabel('Рейтинг пользователей')\n",
    "plt.ylabel('Сумма продаж')\n",
    "plt.show();"
   ]
  },
  {
   "cell_type": "markdown",
   "metadata": {},
   "source": [
    "Зависимость между рейтингом критиков и продажами существует, но слабая: коэффициент корреляции составляет 0.4. Возможно, это связно с объективной оценкой профессионалов, на которую могут ориентироваться потребители, но даже данный фактор в меньшей степени отражает зависимость между рейтингом критиков и итоговыми продажами. "
   ]
  },
  {
   "cell_type": "markdown",
   "metadata": {},
   "source": [
    "Таким образом, оценки критиков демонстрируют прямую, но слабую корреляцию с итоговыми продажами. Оценки пользователей корреляции с продажами не имеют."
   ]
  },
  {
   "cell_type": "markdown",
   "metadata": {},
   "source": [
    "#### Зависимость отзывов пользователей и критиков и продаж всех платформ"
   ]
  },
  {
   "cell_type": "markdown",
   "metadata": {},
   "source": [
    "Проанализируем корреляционную зависимость продаж остальных 4-х самых популярных платформ и оценок пользователей и критиков"
   ]
  },
  {
   "cell_type": "code",
   "execution_count": 32,
   "metadata": {},
   "outputs": [
    {
     "data": {
      "text/html": [
       "<div>\n",
       "<style scoped>\n",
       "    .dataframe tbody tr th:only-of-type {\n",
       "        vertical-align: middle;\n",
       "    }\n",
       "\n",
       "    .dataframe tbody tr th {\n",
       "        vertical-align: top;\n",
       "    }\n",
       "\n",
       "    .dataframe thead th {\n",
       "        text-align: right;\n",
       "    }\n",
       "</style>\n",
       "<table border=\"1\" class=\"dataframe\">\n",
       "  <thead>\n",
       "    <tr style=\"text-align: right;\">\n",
       "      <th></th>\n",
       "      <th>total_sales</th>\n",
       "    </tr>\n",
       "    <tr>\n",
       "      <th>platform</th>\n",
       "      <th></th>\n",
       "    </tr>\n",
       "  </thead>\n",
       "  <tbody>\n",
       "    <tr>\n",
       "      <th>PS4</th>\n",
       "      <td>288.15</td>\n",
       "    </tr>\n",
       "    <tr>\n",
       "      <th>XOne</th>\n",
       "      <td>140.36</td>\n",
       "    </tr>\n",
       "    <tr>\n",
       "      <th>3DS</th>\n",
       "      <td>86.68</td>\n",
       "    </tr>\n",
       "    <tr>\n",
       "      <th>PS3</th>\n",
       "      <td>68.18</td>\n",
       "    </tr>\n",
       "    <tr>\n",
       "      <th>X360</th>\n",
       "      <td>48.22</td>\n",
       "    </tr>\n",
       "  </tbody>\n",
       "</table>\n",
       "</div>"
      ],
      "text/plain": [
       "          total_sales\n",
       "platform             \n",
       "PS4            288.15\n",
       "XOne           140.36\n",
       "3DS             86.68\n",
       "PS3             68.18\n",
       "X360            48.22"
      ]
     },
     "execution_count": 32,
     "metadata": {},
     "output_type": "execute_result"
    }
   ],
   "source": [
    "(\n",
    "    data_for_2017\n",
    "    .pivot_table(index='platform', values='total_sales', aggfunc='sum')\n",
    "    .sort_values(by='total_sales', ascending=False).head()\n",
    ")\n"
   ]
  },
  {
   "cell_type": "markdown",
   "metadata": {},
   "source": [
    "Платформа \"XOne\""
   ]
  },
  {
   "cell_type": "code",
   "execution_count": 33,
   "metadata": {},
   "outputs": [
    {
     "data": {
      "text/html": [
       "<div>\n",
       "<style scoped>\n",
       "    .dataframe tbody tr th:only-of-type {\n",
       "        vertical-align: middle;\n",
       "    }\n",
       "\n",
       "    .dataframe tbody tr th {\n",
       "        vertical-align: top;\n",
       "    }\n",
       "\n",
       "    .dataframe thead th {\n",
       "        text-align: right;\n",
       "    }\n",
       "</style>\n",
       "<table border=\"1\" class=\"dataframe\">\n",
       "  <thead>\n",
       "    <tr style=\"text-align: right;\">\n",
       "      <th></th>\n",
       "      <th>total_sales</th>\n",
       "      <th>user_score</th>\n",
       "    </tr>\n",
       "  </thead>\n",
       "  <tbody>\n",
       "    <tr>\n",
       "      <th>total_sales</th>\n",
       "      <td>1.000000</td>\n",
       "      <td>-0.070384</td>\n",
       "    </tr>\n",
       "    <tr>\n",
       "      <th>user_score</th>\n",
       "      <td>-0.070384</td>\n",
       "      <td>1.000000</td>\n",
       "    </tr>\n",
       "  </tbody>\n",
       "</table>\n",
       "</div>"
      ],
      "text/plain": [
       "             total_sales  user_score\n",
       "total_sales     1.000000   -0.070384\n",
       "user_score     -0.070384    1.000000"
      ]
     },
     "execution_count": 33,
     "metadata": {},
     "output_type": "execute_result"
    }
   ],
   "source": [
    "data_for_2017.query('platform==\"XOne\"')[['total_sales', 'user_score']].corr()"
   ]
  },
  {
   "cell_type": "code",
   "execution_count": 34,
   "metadata": {},
   "outputs": [
    {
     "data": {
      "image/png": "[encoded data removed]",
      "text/plain": [
       "<Figure size 360x360 with 1 Axes>"
      ]
     },
     "metadata": {
      "needs_background": "light"
     },
     "output_type": "display_data"
    }
   ],
   "source": [
    "(\n",
    "    data_for_2017\n",
    "    .query('platform==\"XOne\"')[['total_sales', 'user_score']]\n",
    "    .pivot_table(index='user_score', values='total_sales')\n",
    "    .plot(style='o', figsize=(5, 5), grid=True)\n",
    ")\n",
    "plt.xlabel('Рейтинг пользователей')\n",
    "plt.ylabel('Сумма продаж')\n",
    "plt.show();"
   ]
  },
  {
   "cell_type": "code",
   "execution_count": 35,
   "metadata": {},
   "outputs": [
    {
     "data": {
      "text/html": [
       "<div>\n",
       "<style scoped>\n",
       "    .dataframe tbody tr th:only-of-type {\n",
       "        vertical-align: middle;\n",
       "    }\n",
       "\n",
       "    .dataframe tbody tr th {\n",
       "        vertical-align: top;\n",
       "    }\n",
       "\n",
       "    .dataframe thead th {\n",
       "        text-align: right;\n",
       "    }\n",
       "</style>\n",
       "<table border=\"1\" class=\"dataframe\">\n",
       "  <thead>\n",
       "    <tr style=\"text-align: right;\">\n",
       "      <th></th>\n",
       "      <th>total_sales</th>\n",
       "      <th>critic_score</th>\n",
       "    </tr>\n",
       "  </thead>\n",
       "  <tbody>\n",
       "    <tr>\n",
       "      <th>total_sales</th>\n",
       "      <td>1.000000</td>\n",
       "      <td>0.428677</td>\n",
       "    </tr>\n",
       "    <tr>\n",
       "      <th>critic_score</th>\n",
       "      <td>0.428677</td>\n",
       "      <td>1.000000</td>\n",
       "    </tr>\n",
       "  </tbody>\n",
       "</table>\n",
       "</div>"
      ],
      "text/plain": [
       "              total_sales  critic_score\n",
       "total_sales      1.000000      0.428677\n",
       "critic_score     0.428677      1.000000"
      ]
     },
     "execution_count": 35,
     "metadata": {},
     "output_type": "execute_result"
    }
   ],
   "source": [
    "data_for_2017.query('platform==\"XOne\"')[['total_sales', 'critic_score']].corr()"
   ]
  },
  {
   "cell_type": "code",
   "execution_count": 36,
   "metadata": {},
   "outputs": [
    {
     "data": {
      "image/png": "[encoded data removed]",
      "text/plain": [
       "<Figure size 360x360 with 1 Axes>"
      ]
     },
     "metadata": {
      "needs_background": "light"
     },
     "output_type": "display_data"
    }
   ],
   "source": [
    "(\n",
    "    data_for_2017\n",
    "    .query('platform==\"XOne\"')[['total_sales', 'critic_score']]\n",
    "    .pivot_table(index='critic_score', values='total_sales')\n",
    "    .plot(style='o', figsize=(5, 5), grid=True)\n",
    ")\n",
    "plt.xlabel('Рейтинг критиков')\n",
    "plt.ylabel('Сумма продаж')\n",
    "plt.show();"
   ]
  },
  {
   "cell_type": "markdown",
   "metadata": {},
   "source": [
    "Таким образом, корреляционная зависимость между продажами и оценками критиков и пользователей по платформе XOne:\n",
    "- оценка пользователей: коэффициент корреляции составляет -0.07, что говорит об отсутствии зависимости оценок и продаж;\n",
    "- оценка критиков: коэффициент корреляции составляет 0.42, что говорит существовании прямой зависимости между оценками и продажами, но, очевидно, слабой;"
   ]
  },
  {
   "cell_type": "markdown",
   "metadata": {},
   "source": [
    "Платформа \"3DS\""
   ]
  },
  {
   "cell_type": "code",
   "execution_count": 37,
   "metadata": {},
   "outputs": [
    {
     "data": {
      "text/html": [
       "<div>\n",
       "<style scoped>\n",
       "    .dataframe tbody tr th:only-of-type {\n",
       "        vertical-align: middle;\n",
       "    }\n",
       "\n",
       "    .dataframe tbody tr th {\n",
       "        vertical-align: top;\n",
       "    }\n",
       "\n",
       "    .dataframe thead th {\n",
       "        text-align: right;\n",
       "    }\n",
       "</style>\n",
       "<table border=\"1\" class=\"dataframe\">\n",
       "  <thead>\n",
       "    <tr style=\"text-align: right;\">\n",
       "      <th></th>\n",
       "      <th>total_sales</th>\n",
       "      <th>user_score</th>\n",
       "    </tr>\n",
       "  </thead>\n",
       "  <tbody>\n",
       "    <tr>\n",
       "      <th>total_sales</th>\n",
       "      <td>1.000000</td>\n",
       "      <td>-0.166761</td>\n",
       "    </tr>\n",
       "    <tr>\n",
       "      <th>user_score</th>\n",
       "      <td>-0.166761</td>\n",
       "      <td>1.000000</td>\n",
       "    </tr>\n",
       "  </tbody>\n",
       "</table>\n",
       "</div>"
      ],
      "text/plain": [
       "             total_sales  user_score\n",
       "total_sales     1.000000   -0.166761\n",
       "user_score     -0.166761    1.000000"
      ]
     },
     "execution_count": 37,
     "metadata": {},
     "output_type": "execute_result"
    }
   ],
   "source": [
    "data_for_2017.query('platform==\"PS3\"')[['total_sales', 'user_score']].corr()"
   ]
  },
  {
   "cell_type": "code",
   "execution_count": 38,
   "metadata": {},
   "outputs": [
    {
     "data": {
      "image/png": "[encoded data removed]",
      "text/plain": [
       "<Figure size 360x360 with 1 Axes>"
      ]
     },
     "metadata": {
      "needs_background": "light"
     },
     "output_type": "display_data"
    }
   ],
   "source": [
    "(\n",
    "    data_for_2017\n",
    "    .query('platform==\"3DS\"')[['total_sales', 'user_score']]\n",
    "    .pivot_table(index='user_score', values='total_sales')\n",
    "    .plot(style='o', figsize=(5, 5), grid=True)\n",
    ")\n",
    "plt.xlabel('Рейтинг пользователей')\n",
    "plt.ylabel('Сумма продаж')\n",
    "plt.show();"
   ]
  },
  {
   "cell_type": "code",
   "execution_count": 39,
   "metadata": {},
   "outputs": [
    {
     "data": {
      "text/html": [
       "<div>\n",
       "<style scoped>\n",
       "    .dataframe tbody tr th:only-of-type {\n",
       "        vertical-align: middle;\n",
       "    }\n",
       "\n",
       "    .dataframe tbody tr th {\n",
       "        vertical-align: top;\n",
       "    }\n",
       "\n",
       "    .dataframe thead th {\n",
       "        text-align: right;\n",
       "    }\n",
       "</style>\n",
       "<table border=\"1\" class=\"dataframe\">\n",
       "  <thead>\n",
       "    <tr style=\"text-align: right;\">\n",
       "      <th></th>\n",
       "      <th>total_sales</th>\n",
       "      <th>critic_score</th>\n",
       "    </tr>\n",
       "  </thead>\n",
       "  <tbody>\n",
       "    <tr>\n",
       "      <th>total_sales</th>\n",
       "      <td>1.000000</td>\n",
       "      <td>0.314117</td>\n",
       "    </tr>\n",
       "    <tr>\n",
       "      <th>critic_score</th>\n",
       "      <td>0.314117</td>\n",
       "      <td>1.000000</td>\n",
       "    </tr>\n",
       "  </tbody>\n",
       "</table>\n",
       "</div>"
      ],
      "text/plain": [
       "              total_sales  critic_score\n",
       "total_sales      1.000000      0.314117\n",
       "critic_score     0.314117      1.000000"
      ]
     },
     "execution_count": 39,
     "metadata": {},
     "output_type": "execute_result"
    }
   ],
   "source": [
    "data_for_2017.query('platform==\"3DS\"')[['total_sales', 'critic_score']].corr()"
   ]
  },
  {
   "cell_type": "code",
   "execution_count": 40,
   "metadata": {},
   "outputs": [
    {
     "data": {
      "image/png": "[encoded data removed]",
      "text/plain": [
       "<Figure size 360x360 with 1 Axes>"
      ]
     },
     "metadata": {
      "needs_background": "light"
     },
     "output_type": "display_data"
    }
   ],
   "source": [
    "(\n",
    "    data_for_2017\n",
    "    .query('platform==\"3DS\"')[['total_sales', 'critic_score']]\n",
    "    .pivot_table(index='critic_score', values='total_sales')\n",
    "    .plot(style='o', figsize=(5, 5), grid=True)\n",
    ")\n",
    "plt.xlabel('Рейтинг критиков')\n",
    "plt.ylabel('Сумма продаж')\n",
    "plt.show();"
   ]
  },
  {
   "cell_type": "markdown",
   "metadata": {},
   "source": [
    "Таким образом, корреляционная зависимость между продажами и оценками критиков и пользователей по платформе XOne:\n",
    "\n",
    "- оценка пользователей: коэффициент корреляции составляет -0.16, то есть зависимость оценок и продаж отсутствует;\n",
    "-оценка критиков: коэффициент корреляции составляет 0.3, что говорит о существовании прямой зависимости между оценками и продажами, но, достаточно слабой;"
   ]
  },
  {
   "cell_type": "markdown",
   "metadata": {},
   "source": [
    "Платформа \"PS3\""
   ]
  },
  {
   "cell_type": "code",
   "execution_count": 41,
   "metadata": {},
   "outputs": [
    {
     "data": {
      "text/html": [
       "<div>\n",
       "<style scoped>\n",
       "    .dataframe tbody tr th:only-of-type {\n",
       "        vertical-align: middle;\n",
       "    }\n",
       "\n",
       "    .dataframe tbody tr th {\n",
       "        vertical-align: top;\n",
       "    }\n",
       "\n",
       "    .dataframe thead th {\n",
       "        text-align: right;\n",
       "    }\n",
       "</style>\n",
       "<table border=\"1\" class=\"dataframe\">\n",
       "  <thead>\n",
       "    <tr style=\"text-align: right;\">\n",
       "      <th></th>\n",
       "      <th>total_sales</th>\n",
       "      <th>user_score</th>\n",
       "    </tr>\n",
       "  </thead>\n",
       "  <tbody>\n",
       "    <tr>\n",
       "      <th>total_sales</th>\n",
       "      <td>1.000000</td>\n",
       "      <td>-0.166761</td>\n",
       "    </tr>\n",
       "    <tr>\n",
       "      <th>user_score</th>\n",
       "      <td>-0.166761</td>\n",
       "      <td>1.000000</td>\n",
       "    </tr>\n",
       "  </tbody>\n",
       "</table>\n",
       "</div>"
      ],
      "text/plain": [
       "             total_sales  user_score\n",
       "total_sales     1.000000   -0.166761\n",
       "user_score     -0.166761    1.000000"
      ]
     },
     "execution_count": 41,
     "metadata": {},
     "output_type": "execute_result"
    }
   ],
   "source": [
    "data_for_2017.query('platform==\"PS3\"')[['total_sales', 'user_score']].corr()"
   ]
  },
  {
   "cell_type": "code",
   "execution_count": 42,
   "metadata": {},
   "outputs": [
    {
     "data": {
      "image/png": "[encoded data removed]",
      "text/plain": [
       "<Figure size 360x360 with 1 Axes>"
      ]
     },
     "metadata": {
      "needs_background": "light"
     },
     "output_type": "display_data"
    }
   ],
   "source": [
    "(\n",
    "    data_for_2017\n",
    "    .query('platform==\"PS3\"')[['total_sales', 'user_score']]\n",
    "    .pivot_table(index='user_score', values='total_sales')\n",
    "    .plot(style='o', figsize=(5, 5), grid=True)\n",
    ")\n",
    "plt.xlabel('Рейтинг пользователей')\n",
    "plt.ylabel('Сумма продаж')\n",
    "plt.show();"
   ]
  },
  {
   "cell_type": "code",
   "execution_count": 43,
   "metadata": {},
   "outputs": [
    {
     "data": {
      "text/html": [
       "<div>\n",
       "<style scoped>\n",
       "    .dataframe tbody tr th:only-of-type {\n",
       "        vertical-align: middle;\n",
       "    }\n",
       "\n",
       "    .dataframe tbody tr th {\n",
       "        vertical-align: top;\n",
       "    }\n",
       "\n",
       "    .dataframe thead th {\n",
       "        text-align: right;\n",
       "    }\n",
       "</style>\n",
       "<table border=\"1\" class=\"dataframe\">\n",
       "  <thead>\n",
       "    <tr style=\"text-align: right;\">\n",
       "      <th></th>\n",
       "      <th>total_sales</th>\n",
       "      <th>critic_score</th>\n",
       "    </tr>\n",
       "  </thead>\n",
       "  <tbody>\n",
       "    <tr>\n",
       "      <th>total_sales</th>\n",
       "      <td>1.000000</td>\n",
       "      <td>0.446575</td>\n",
       "    </tr>\n",
       "    <tr>\n",
       "      <th>critic_score</th>\n",
       "      <td>0.446575</td>\n",
       "      <td>1.000000</td>\n",
       "    </tr>\n",
       "  </tbody>\n",
       "</table>\n",
       "</div>"
      ],
      "text/plain": [
       "              total_sales  critic_score\n",
       "total_sales      1.000000      0.446575\n",
       "critic_score     0.446575      1.000000"
      ]
     },
     "execution_count": 43,
     "metadata": {},
     "output_type": "execute_result"
    }
   ],
   "source": [
    "data_for_2017.query('platform==\"PS3\"')[['total_sales', 'critic_score']].corr()"
   ]
  },
  {
   "cell_type": "code",
   "execution_count": 44,
   "metadata": {},
   "outputs": [
    {
     "data": {
      "image/png": "[encoded data removed]",
      "text/plain": [
       "<Figure size 360x360 with 1 Axes>"
      ]
     },
     "metadata": {
      "needs_background": "light"
     },
     "output_type": "display_data"
    }
   ],
   "source": [
    "(\n",
    "    data_for_2017\n",
    "    .query('platform==\"PS3\"')[['total_sales', 'critic_score']]\n",
    "    .pivot_table(index='critic_score', values='total_sales')\n",
    "    .plot(style='o', figsize=(5, 5), grid=True)\n",
    ")\n",
    "plt.xlabel('Рейтинг критиков')\n",
    "plt.ylabel('Сумма продаж')\n",
    "plt.show();"
   ]
  },
  {
   "cell_type": "markdown",
   "metadata": {},
   "source": [
    "Таким образом, корреляционная зависимость между продажами и оценками критиков и пользователей по платформе PS3\":\n",
    "\n",
    "- оценка пользователей: коэффициент корреляции составляет -0.16, то есть зависимость оценок и продаж отсутствует;\n",
    "- оценка критиков: коэффициент корреляции составляет 0.3, что говорит о существовании прямой зависимости между оценками и продажами, но, достаточно слабой."
   ]
  },
  {
   "cell_type": "markdown",
   "metadata": {},
   "source": [
    "Платформа \"X360\""
   ]
  },
  {
   "cell_type": "code",
   "execution_count": 45,
   "metadata": {},
   "outputs": [
    {
     "data": {
      "text/html": [
       "<div>\n",
       "<style scoped>\n",
       "    .dataframe tbody tr th:only-of-type {\n",
       "        vertical-align: middle;\n",
       "    }\n",
       "\n",
       "    .dataframe tbody tr th {\n",
       "        vertical-align: top;\n",
       "    }\n",
       "\n",
       "    .dataframe thead th {\n",
       "        text-align: right;\n",
       "    }\n",
       "</style>\n",
       "<table border=\"1\" class=\"dataframe\">\n",
       "  <thead>\n",
       "    <tr style=\"text-align: right;\">\n",
       "      <th></th>\n",
       "      <th>total_sales</th>\n",
       "      <th>user_score</th>\n",
       "    </tr>\n",
       "  </thead>\n",
       "  <tbody>\n",
       "    <tr>\n",
       "      <th>total_sales</th>\n",
       "      <td>1.000000</td>\n",
       "      <td>-0.138445</td>\n",
       "    </tr>\n",
       "    <tr>\n",
       "      <th>user_score</th>\n",
       "      <td>-0.138445</td>\n",
       "      <td>1.000000</td>\n",
       "    </tr>\n",
       "  </tbody>\n",
       "</table>\n",
       "</div>"
      ],
      "text/plain": [
       "             total_sales  user_score\n",
       "total_sales     1.000000   -0.138445\n",
       "user_score     -0.138445    1.000000"
      ]
     },
     "execution_count": 45,
     "metadata": {},
     "output_type": "execute_result"
    }
   ],
   "source": [
    "data_for_2017.query('platform==\"X360\"')[['total_sales', 'user_score']].corr()"
   ]
  },
  {
   "cell_type": "code",
   "execution_count": 46,
   "metadata": {},
   "outputs": [
    {
     "data": {
      "image/png": "[encoded data removed]",
      "text/plain": [
       "<Figure size 360x360 with 1 Axes>"
      ]
     },
     "metadata": {
      "needs_background": "light"
     },
     "output_type": "display_data"
    }
   ],
   "source": [
    "(\n",
    "    data_for_2017\n",
    "    .query('platform==\"X360\"')[['total_sales', 'user_score']]\n",
    "    .pivot_table(index='user_score', values='total_sales')\n",
    "    .plot(style='o', figsize=(5, 5), grid=True)\n",
    ")\n",
    "plt.xlabel('Рейтинг пользователей')\n",
    "plt.ylabel('Сумма продаж')\n",
    "plt.show();"
   ]
  },
  {
   "cell_type": "code",
   "execution_count": 47,
   "metadata": {},
   "outputs": [
    {
     "data": {
      "text/html": [
       "<div>\n",
       "<style scoped>\n",
       "    .dataframe tbody tr th:only-of-type {\n",
       "        vertical-align: middle;\n",
       "    }\n",
       "\n",
       "    .dataframe tbody tr th {\n",
       "        vertical-align: top;\n",
       "    }\n",
       "\n",
       "    .dataframe thead th {\n",
       "        text-align: right;\n",
       "    }\n",
       "</style>\n",
       "<table border=\"1\" class=\"dataframe\">\n",
       "  <thead>\n",
       "    <tr style=\"text-align: right;\">\n",
       "      <th></th>\n",
       "      <th>total_sales</th>\n",
       "      <th>critic_score</th>\n",
       "    </tr>\n",
       "  </thead>\n",
       "  <tbody>\n",
       "    <tr>\n",
       "      <th>total_sales</th>\n",
       "      <td>1.000000</td>\n",
       "      <td>0.525723</td>\n",
       "    </tr>\n",
       "    <tr>\n",
       "      <th>critic_score</th>\n",
       "      <td>0.525723</td>\n",
       "      <td>1.000000</td>\n",
       "    </tr>\n",
       "  </tbody>\n",
       "</table>\n",
       "</div>"
      ],
      "text/plain": [
       "              total_sales  critic_score\n",
       "total_sales      1.000000      0.525723\n",
       "critic_score     0.525723      1.000000"
      ]
     },
     "execution_count": 47,
     "metadata": {},
     "output_type": "execute_result"
    }
   ],
   "source": [
    "data_for_2017.query('platform==\"X360\"')[['total_sales', 'critic_score']].corr()"
   ]
  },
  {
   "cell_type": "code",
   "execution_count": 48,
   "metadata": {},
   "outputs": [
    {
     "data": {
      "image/png": "[encoded data removed]",
      "text/plain": [
       "<Figure size 360x360 with 1 Axes>"
      ]
     },
     "metadata": {
      "needs_background": "light"
     },
     "output_type": "display_data"
    }
   ],
   "source": [
    "(\n",
    "    data_for_2017\n",
    "    .query('platform==\"X360\"')[['total_sales', 'critic_score']]\n",
    "    .pivot_table(index='critic_score', values='total_sales')\n",
    "    .plot(style='o', figsize=(5, 5), grid=True)\n",
    ")\n",
    "plt.xlabel('Рейтинг критиков')\n",
    "plt.ylabel('Сумма продаж')\n",
    "plt.show();"
   ]
  },
  {
   "cell_type": "markdown",
   "metadata": {},
   "source": [
    "Таким образом, корреляционная зависимость между продажами и оценками критиков и пользователей по платформе X360:\n",
    "\n",
    "- оценка пользователей: коэффициент корреляции составляет -0.13, то есть зависимость оценок и продаж отсутствует;\n",
    "- оценка критиков: коэффициент корреляции составляет 0.52, что говорит о существовании прямой зависимости между оценками и продажами, но зависимость слабая."
   ]
  },
  {
   "cell_type": "markdown",
   "metadata": {},
   "source": [
    "Проведя исследование по остальным платформам, я пришла к выводу, что вне зависимости от платформы и ее продаж, корреляционная зависимость между продажами и пользовательскими оценками отсутствует. При этом, существует прям зависимость между продажами и оценкой критиков. Коэффициент корреляции данной зависимости в отношении исследуемых платформ варьируется от 0.3 до 0.5."
   ]
  },
  {
   "cell_type": "markdown",
   "metadata": {},
   "source": [
    "#### Анализ игр в зависимости от их жанра"
   ]
  },
  {
   "cell_type": "code",
   "execution_count": 49,
   "metadata": {},
   "outputs": [
    {
     "data": {
      "text/html": [
       "<div>\n",
       "<style scoped>\n",
       "    .dataframe tbody tr th:only-of-type {\n",
       "        vertical-align: middle;\n",
       "    }\n",
       "\n",
       "    .dataframe tbody tr th {\n",
       "        vertical-align: top;\n",
       "    }\n",
       "\n",
       "    .dataframe thead th {\n",
       "        text-align: right;\n",
       "    }\n",
       "</style>\n",
       "<table border=\"1\" class=\"dataframe\">\n",
       "  <thead>\n",
       "    <tr style=\"text-align: right;\">\n",
       "      <th></th>\n",
       "      <th>total_sales</th>\n",
       "    </tr>\n",
       "    <tr>\n",
       "      <th>genre</th>\n",
       "      <th></th>\n",
       "    </tr>\n",
       "  </thead>\n",
       "  <tbody>\n",
       "    <tr>\n",
       "      <th>Shooter</th>\n",
       "      <td>0.515</td>\n",
       "    </tr>\n",
       "    <tr>\n",
       "      <th>Sports</th>\n",
       "      <td>0.180</td>\n",
       "    </tr>\n",
       "    <tr>\n",
       "      <th>Platform</th>\n",
       "      <td>0.140</td>\n",
       "    </tr>\n",
       "    <tr>\n",
       "      <th>Fighting</th>\n",
       "      <td>0.125</td>\n",
       "    </tr>\n",
       "    <tr>\n",
       "      <th>Role-Playing</th>\n",
       "      <td>0.110</td>\n",
       "    </tr>\n",
       "    <tr>\n",
       "      <th>Simulation</th>\n",
       "      <td>0.100</td>\n",
       "    </tr>\n",
       "    <tr>\n",
       "      <th>Action</th>\n",
       "      <td>0.090</td>\n",
       "    </tr>\n",
       "    <tr>\n",
       "      <th>Misc</th>\n",
       "      <td>0.090</td>\n",
       "    </tr>\n",
       "    <tr>\n",
       "      <th>Racing</th>\n",
       "      <td>0.090</td>\n",
       "    </tr>\n",
       "    <tr>\n",
       "      <th>Strategy</th>\n",
       "      <td>0.060</td>\n",
       "    </tr>\n",
       "  </tbody>\n",
       "</table>\n",
       "</div>"
      ],
      "text/plain": [
       "              total_sales\n",
       "genre                    \n",
       "Shooter             0.515\n",
       "Sports              0.180\n",
       "Platform            0.140\n",
       "Fighting            0.125\n",
       "Role-Playing        0.110\n",
       "Simulation          0.100\n",
       "Action              0.090\n",
       "Misc                0.090\n",
       "Racing              0.090\n",
       "Strategy            0.060"
      ]
     },
     "execution_count": 49,
     "metadata": {},
     "output_type": "execute_result"
    }
   ],
   "source": [
    "games_by_genres = (\n",
    "    data_for_2017\n",
    "    .pivot_table(index='genre', values='total_sales', aggfunc='median')\n",
    "    .sort_values(by='total_sales', ascending=False).head(10)\n",
    ")\n",
    "games_by_genres"
   ]
  },
  {
   "cell_type": "code",
   "execution_count": 50,
   "metadata": {},
   "outputs": [
    {
     "data": {
      "image/png": "[encoded data removed]",
      "text/plain": [
       "<Figure size 504x360 with 1 Axes>"
      ]
     },
     "metadata": {},
     "output_type": "display_data"
    }
   ],
   "source": [
    "games_by_genres.plot(y='total_sales',kind='pie', figsize=(7,5), legend=False);"
   ]
  },
  {
   "cell_type": "markdown",
   "metadata": {},
   "source": [
    "Самыми популярными жанрами являются: Shooter, Sports, Platform, Fighting и Role-Playing. Данные жанры заняли сильные позиции по сравнению с другими жанрами, что ярко показывает круговой график."
   ]
  },
  {
   "cell_type": "markdown",
   "metadata": {},
   "source": [
    "### Портрет пользователя каждого региона: Северная Америка (NA), Европейский союз (EU), Япония (JP)"
   ]
  },
  {
   "cell_type": "markdown",
   "metadata": {},
   "source": [
    "#### Самые популярные платформы (top-5)"
   ]
  },
  {
   "cell_type": "markdown",
   "metadata": {},
   "source": [
    "##### Портрет пользователя в Северной Америке (NA)"
   ]
  },
  {
   "cell_type": "code",
   "execution_count": 51,
   "metadata": {},
   "outputs": [
    {
     "data": {
      "text/html": [
       "<div>\n",
       "<style scoped>\n",
       "    .dataframe tbody tr th:only-of-type {\n",
       "        vertical-align: middle;\n",
       "    }\n",
       "\n",
       "    .dataframe tbody tr th {\n",
       "        vertical-align: top;\n",
       "    }\n",
       "\n",
       "    .dataframe thead th {\n",
       "        text-align: right;\n",
       "    }\n",
       "</style>\n",
       "<table border=\"1\" class=\"dataframe\">\n",
       "  <thead>\n",
       "    <tr style=\"text-align: right;\">\n",
       "      <th></th>\n",
       "      <th>na_sales</th>\n",
       "    </tr>\n",
       "    <tr>\n",
       "      <th>platform</th>\n",
       "      <th></th>\n",
       "    </tr>\n",
       "  </thead>\n",
       "  <tbody>\n",
       "    <tr>\n",
       "      <th>PS4</th>\n",
       "      <td>98.61</td>\n",
       "    </tr>\n",
       "    <tr>\n",
       "      <th>XOne</th>\n",
       "      <td>81.27</td>\n",
       "    </tr>\n",
       "    <tr>\n",
       "      <th>X360</th>\n",
       "      <td>28.30</td>\n",
       "    </tr>\n",
       "    <tr>\n",
       "      <th>3DS</th>\n",
       "      <td>22.64</td>\n",
       "    </tr>\n",
       "    <tr>\n",
       "      <th>PS3</th>\n",
       "      <td>22.05</td>\n",
       "    </tr>\n",
       "  </tbody>\n",
       "</table>\n",
       "</div>"
      ],
      "text/plain": [
       "          na_sales\n",
       "platform          \n",
       "PS4          98.61\n",
       "XOne         81.27\n",
       "X360         28.30\n",
       "3DS          22.64\n",
       "PS3          22.05"
      ]
     },
     "execution_count": 51,
     "metadata": {},
     "output_type": "execute_result"
    }
   ],
   "source": [
    "platforms_na = (\n",
    "    data_for_2017\n",
    "    .pivot_table(index='platform', values='na_sales', aggfunc='sum')\n",
    "    .sort_values(by='na_sales', ascending=False).head()\n",
    ")\n",
    "platforms_na"
   ]
  },
  {
   "cell_type": "code",
   "execution_count": 52,
   "metadata": {},
   "outputs": [
    {
     "data": {
      "image/png": "[encoded data removed]",
      "text/plain": [
       "<Figure size 360x360 with 1 Axes>"
      ]
     },
     "metadata": {},
     "output_type": "display_data"
    }
   ],
   "source": [
    "platforms_na.plot.pie(x = 'platform', y='na_sales', autopct='%1.1f%%', title='Топ-5 платформ в Северной Америке', figsize=(5, 5), grid=True)\n",
    "plt.xlabel('Платформа')\n",
    "plt.ylabel('Количество (млн.шт.)')\n",
    "plt.show()"
   ]
  },
  {
   "cell_type": "markdown",
   "metadata": {},
   "source": [
    "Анализируя суммарные продажи по платформам в Северной Америке отметим: самой продаваемой за период с 2014 по 2016гг. стала платформа \"PS4\", потеряла свою актуальность \"PS3\".\n",
    "\n",
    "- Доля \"PS4\" от всего рынка составляет 39%\n",
    "- Доля \"PS3\" от всего рынка составляет 8.7%"
   ]
  },
  {
   "cell_type": "markdown",
   "metadata": {},
   "source": [
    "##### Портрет пользователя в Европейском Союзе(EU)"
   ]
  },
  {
   "cell_type": "code",
   "execution_count": 53,
   "metadata": {},
   "outputs": [
    {
     "data": {
      "text/html": [
       "<div>\n",
       "<style scoped>\n",
       "    .dataframe tbody tr th:only-of-type {\n",
       "        vertical-align: middle;\n",
       "    }\n",
       "\n",
       "    .dataframe tbody tr th {\n",
       "        vertical-align: top;\n",
       "    }\n",
       "\n",
       "    .dataframe thead th {\n",
       "        text-align: right;\n",
       "    }\n",
       "</style>\n",
       "<table border=\"1\" class=\"dataframe\">\n",
       "  <thead>\n",
       "    <tr style=\"text-align: right;\">\n",
       "      <th></th>\n",
       "      <th>eu_sales</th>\n",
       "    </tr>\n",
       "    <tr>\n",
       "      <th>platform</th>\n",
       "      <th></th>\n",
       "    </tr>\n",
       "  </thead>\n",
       "  <tbody>\n",
       "    <tr>\n",
       "      <th>PS4</th>\n",
       "      <td>130.04</td>\n",
       "    </tr>\n",
       "    <tr>\n",
       "      <th>XOne</th>\n",
       "      <td>46.25</td>\n",
       "    </tr>\n",
       "    <tr>\n",
       "      <th>PS3</th>\n",
       "      <td>25.54</td>\n",
       "    </tr>\n",
       "    <tr>\n",
       "      <th>PC</th>\n",
       "      <td>17.97</td>\n",
       "    </tr>\n",
       "    <tr>\n",
       "      <th>3DS</th>\n",
       "      <td>16.12</td>\n",
       "    </tr>\n",
       "  </tbody>\n",
       "</table>\n",
       "</div>"
      ],
      "text/plain": [
       "          eu_sales\n",
       "platform          \n",
       "PS4         130.04\n",
       "XOne         46.25\n",
       "PS3          25.54\n",
       "PC           17.97\n",
       "3DS          16.12"
      ]
     },
     "execution_count": 53,
     "metadata": {},
     "output_type": "execute_result"
    }
   ],
   "source": [
    "platforms_eu = (\n",
    "    data_for_2017\n",
    "    .pivot_table(index='platform', values='eu_sales', aggfunc='sum')\n",
    "    .sort_values(by='eu_sales', ascending=False).head()\n",
    ")\n",
    "platforms_eu"
   ]
  },
  {
   "cell_type": "code",
   "execution_count": 54,
   "metadata": {},
   "outputs": [
    {
     "data": {
      "image/png": "[encoded data removed]",
      "text/plain": [
       "<Figure size 360x360 with 1 Axes>"
      ]
     },
     "metadata": {},
     "output_type": "display_data"
    }
   ],
   "source": [
    "platforms_eu.plot.pie(y = 'eu_sales', autopct='%1.1f%%', title='Топ-5 платформ в Европейском Союзе', figsize=(5, 5))\n",
    "plt.xlabel('Платформа')\n",
    "plt.ylabel('Количество (млн.шт.)')\n",
    "plt.show();"
   ]
  },
  {
   "cell_type": "markdown",
   "metadata": {},
   "source": [
    "Данные и диаграмма по суммарным продажи по платформам в Европейском Союзе отражают: самой продаваемой за период с 2014 по 2016гг. стала платформа \"PS4\", потеряла свою актуальность \"3DS\".\n",
    "\n",
    "Доля \"PS4\" от всего рынка составляет 55.1%\n",
    "\n",
    "Доля \"3DS\" от всего рынка составляет 6.8%"
   ]
  },
  {
   "cell_type": "markdown",
   "metadata": {},
   "source": [
    "4.1.3 Портрет пользователя в Японии(JP)"
   ]
  },
  {
   "cell_type": "code",
   "execution_count": 55,
   "metadata": {},
   "outputs": [
    {
     "data": {
      "text/html": [
       "<div>\n",
       "<style scoped>\n",
       "    .dataframe tbody tr th:only-of-type {\n",
       "        vertical-align: middle;\n",
       "    }\n",
       "\n",
       "    .dataframe tbody tr th {\n",
       "        vertical-align: top;\n",
       "    }\n",
       "\n",
       "    .dataframe thead th {\n",
       "        text-align: right;\n",
       "    }\n",
       "</style>\n",
       "<table border=\"1\" class=\"dataframe\">\n",
       "  <thead>\n",
       "    <tr style=\"text-align: right;\">\n",
       "      <th></th>\n",
       "      <th>jp_sales</th>\n",
       "    </tr>\n",
       "    <tr>\n",
       "      <th>platform</th>\n",
       "      <th></th>\n",
       "    </tr>\n",
       "  </thead>\n",
       "  <tbody>\n",
       "    <tr>\n",
       "      <th>3DS</th>\n",
       "      <td>44.24</td>\n",
       "    </tr>\n",
       "    <tr>\n",
       "      <th>PS4</th>\n",
       "      <td>15.02</td>\n",
       "    </tr>\n",
       "    <tr>\n",
       "      <th>PSV</th>\n",
       "      <td>14.54</td>\n",
       "    </tr>\n",
       "    <tr>\n",
       "      <th>PS3</th>\n",
       "      <td>11.22</td>\n",
       "    </tr>\n",
       "    <tr>\n",
       "      <th>WiiU</th>\n",
       "      <td>7.31</td>\n",
       "    </tr>\n",
       "  </tbody>\n",
       "</table>\n",
       "</div>"
      ],
      "text/plain": [
       "          jp_sales\n",
       "platform          \n",
       "3DS          44.24\n",
       "PS4          15.02\n",
       "PSV          14.54\n",
       "PS3          11.22\n",
       "WiiU          7.31"
      ]
     },
     "execution_count": 55,
     "metadata": {},
     "output_type": "execute_result"
    }
   ],
   "source": [
    "platforms_jp = (\n",
    "    data_for_2017\n",
    "    .pivot_table(index='platform', values='jp_sales', aggfunc='sum')\n",
    "    .sort_values(by='jp_sales', ascending=False).head()\n",
    ")\n",
    "platforms_jp"
   ]
  },
  {
   "cell_type": "code",
   "execution_count": 56,
   "metadata": {},
   "outputs": [
    {
     "data": {
      "image/png": "[encoded data removed]",
      "text/plain": [
       "<Figure size 360x360 with 1 Axes>"
      ]
     },
     "metadata": {},
     "output_type": "display_data"
    }
   ],
   "source": [
    "platforms_jp.plot.pie(y = 'jp_sales', autopct='%1.1f%%', title='Топ-5 платформ в Японии', figsize=(5, 5))\n",
    "plt.xlabel('Платформа')\n",
    "plt.ylabel('Количество (млн.шт.)')\n",
    "plt.show();"
   ]
  },
  {
   "cell_type": "markdown",
   "metadata": {},
   "source": [
    "Полученный анализ продаж платформ в Японии показал: самой продаваемой за период с 2014 по 2016гг. стала платформа \"3DS\", потеряла свою актуальность \"WiiU\".\n",
    "\n",
    "Доля \"PS4\" от всего рынка составляет 47.9%\n",
    "\n",
    "Доля \"3DS\" от всего рынка составляет 7.9%"
   ]
  },
  {
   "cell_type": "markdown",
   "metadata": {},
   "source": [
    "Таким образом, среди всех регионов самой популярной платформой является PS4. Платформа 3DS менее популярна, чем в Японии."
   ]
  },
  {
   "cell_type": "markdown",
   "metadata": {},
   "source": [
    "Таким образом,"
   ]
  },
  {
   "cell_type": "markdown",
   "metadata": {},
   "source": [
    "#### Самые популярные жанры (top-5)"
   ]
  },
  {
   "cell_type": "markdown",
   "metadata": {},
   "source": [
    "##### Портрет пользователя в Северной Америке (NA)"
   ]
  },
  {
   "cell_type": "code",
   "execution_count": 57,
   "metadata": {},
   "outputs": [
    {
     "data": {
      "text/html": [
       "<div>\n",
       "<style scoped>\n",
       "    .dataframe tbody tr th:only-of-type {\n",
       "        vertical-align: middle;\n",
       "    }\n",
       "\n",
       "    .dataframe tbody tr th {\n",
       "        vertical-align: top;\n",
       "    }\n",
       "\n",
       "    .dataframe thead th {\n",
       "        text-align: right;\n",
       "    }\n",
       "</style>\n",
       "<table border=\"1\" class=\"dataframe\">\n",
       "  <thead>\n",
       "    <tr style=\"text-align: right;\">\n",
       "      <th></th>\n",
       "      <th>na_sales</th>\n",
       "    </tr>\n",
       "    <tr>\n",
       "      <th>genre</th>\n",
       "      <th></th>\n",
       "    </tr>\n",
       "  </thead>\n",
       "  <tbody>\n",
       "    <tr>\n",
       "      <th>Shooter</th>\n",
       "      <td>79.02</td>\n",
       "    </tr>\n",
       "    <tr>\n",
       "      <th>Action</th>\n",
       "      <td>72.53</td>\n",
       "    </tr>\n",
       "    <tr>\n",
       "      <th>Sports</th>\n",
       "      <td>46.13</td>\n",
       "    </tr>\n",
       "    <tr>\n",
       "      <th>Role-Playing</th>\n",
       "      <td>33.47</td>\n",
       "    </tr>\n",
       "    <tr>\n",
       "      <th>Misc</th>\n",
       "      <td>15.05</td>\n",
       "    </tr>\n",
       "  </tbody>\n",
       "</table>\n",
       "</div>"
      ],
      "text/plain": [
       "              na_sales\n",
       "genre                 \n",
       "Shooter          79.02\n",
       "Action           72.53\n",
       "Sports           46.13\n",
       "Role-Playing     33.47\n",
       "Misc             15.05"
      ]
     },
     "execution_count": 57,
     "metadata": {},
     "output_type": "execute_result"
    }
   ],
   "source": [
    "genre_na = (\n",
    "    data_for_2017\n",
    "    .pivot_table(index='genre', values='na_sales', aggfunc='sum')\n",
    "    .sort_values(by='na_sales', ascending=False).head()\n",
    ")\n",
    "genre_na"
   ]
  },
  {
   "cell_type": "code",
   "execution_count": 58,
   "metadata": {},
   "outputs": [
    {
     "data": {
      "image/png": "[encoded data removed]",
      "text/plain": [
       "<Figure size 432x432 with 1 Axes>"
      ]
     },
     "metadata": {},
     "output_type": "display_data"
    }
   ],
   "source": [
    "genre_na.plot.pie(y = 'na_sales', autopct='%1.1f%%', title='Топ-5 жанров в Северной Америке', figsize=(6, 6))\n",
    "plt.xlabel('Жанр')\n",
    "plt.ylabel('Количество (млн.шт.)')\n",
    "plt.show();"
   ]
  },
  {
   "cell_type": "markdown",
   "metadata": {},
   "source": [
    "Среди самых популярных жанров в Северной Америке являются: Shooter (доля составляет 32.1%) и Action(доля составляет 29,5%). Отстающим в данном рейтинге является Misc (доля составляет 6.1%)"
   ]
  },
  {
   "cell_type": "markdown",
   "metadata": {},
   "source": [
    "##### Портрет пользователя в Северной Америке (NA)"
   ]
  },
  {
   "cell_type": "code",
   "execution_count": 59,
   "metadata": {},
   "outputs": [
    {
     "data": {
      "text/html": [
       "<div>\n",
       "<style scoped>\n",
       "    .dataframe tbody tr th:only-of-type {\n",
       "        vertical-align: middle;\n",
       "    }\n",
       "\n",
       "    .dataframe tbody tr th {\n",
       "        vertical-align: top;\n",
       "    }\n",
       "\n",
       "    .dataframe thead th {\n",
       "        text-align: right;\n",
       "    }\n",
       "</style>\n",
       "<table border=\"1\" class=\"dataframe\">\n",
       "  <thead>\n",
       "    <tr style=\"text-align: right;\">\n",
       "      <th></th>\n",
       "      <th>eu_sales</th>\n",
       "    </tr>\n",
       "    <tr>\n",
       "      <th>genre</th>\n",
       "      <th></th>\n",
       "    </tr>\n",
       "  </thead>\n",
       "  <tbody>\n",
       "    <tr>\n",
       "      <th>Action</th>\n",
       "      <td>74.68</td>\n",
       "    </tr>\n",
       "    <tr>\n",
       "      <th>Shooter</th>\n",
       "      <td>65.52</td>\n",
       "    </tr>\n",
       "    <tr>\n",
       "      <th>Sports</th>\n",
       "      <td>45.73</td>\n",
       "    </tr>\n",
       "    <tr>\n",
       "      <th>Role-Playing</th>\n",
       "      <td>28.17</td>\n",
       "    </tr>\n",
       "    <tr>\n",
       "      <th>Racing</th>\n",
       "      <td>14.13</td>\n",
       "    </tr>\n",
       "  </tbody>\n",
       "</table>\n",
       "</div>"
      ],
      "text/plain": [
       "              eu_sales\n",
       "genre                 \n",
       "Action           74.68\n",
       "Shooter          65.52\n",
       "Sports           45.73\n",
       "Role-Playing     28.17\n",
       "Racing           14.13"
      ]
     },
     "execution_count": 59,
     "metadata": {},
     "output_type": "execute_result"
    }
   ],
   "source": [
    "genre_eu = (\n",
    "    data_for_2017\n",
    "    .pivot_table(index='genre', values='eu_sales', aggfunc='sum')\n",
    "    .sort_values(by='eu_sales', ascending=False).head()\n",
    ")\n",
    "genre_eu"
   ]
  },
  {
   "cell_type": "code",
   "execution_count": 60,
   "metadata": {},
   "outputs": [
    {
     "data": {
      "image/png": "[encoded data removed]",
      "text/plain": [
       "<Figure size 432x432 with 1 Axes>"
      ]
     },
     "metadata": {},
     "output_type": "display_data"
    }
   ],
   "source": [
    "genre_eu.plot.pie(y = 'eu_sales', autopct='%1.1f%%', title='Топ-5 жанров в Европейском союзе', figsize=(6, 6))\n",
    "plt.xlabel('Жанр')\n",
    "plt.ylabel('Количество (млн.шт.)')\n",
    "plt.show();"
   ]
  },
  {
   "cell_type": "markdown",
   "metadata": {},
   "source": [
    "Лидирующую позицию среди жанров в Европейском Союзе занимает Action (доля составляет 32.7%), однако, жанр Shooter не намного отстает от него (доля составляет 28.7%). Наименьшую привлекательность для пользователь представляет жанр Racing (6.2%)"
   ]
  },
  {
   "cell_type": "markdown",
   "metadata": {},
   "source": [
    "##### Портрет пользователя в Северной Америке (NA)"
   ]
  },
  {
   "cell_type": "code",
   "execution_count": 61,
   "metadata": {},
   "outputs": [
    {
     "data": {
      "text/html": [
       "<div>\n",
       "<style scoped>\n",
       "    .dataframe tbody tr th:only-of-type {\n",
       "        vertical-align: middle;\n",
       "    }\n",
       "\n",
       "    .dataframe tbody tr th {\n",
       "        vertical-align: top;\n",
       "    }\n",
       "\n",
       "    .dataframe thead th {\n",
       "        text-align: right;\n",
       "    }\n",
       "</style>\n",
       "<table border=\"1\" class=\"dataframe\">\n",
       "  <thead>\n",
       "    <tr style=\"text-align: right;\">\n",
       "      <th></th>\n",
       "      <th>jp_sales</th>\n",
       "    </tr>\n",
       "    <tr>\n",
       "      <th>genre</th>\n",
       "      <th></th>\n",
       "    </tr>\n",
       "  </thead>\n",
       "  <tbody>\n",
       "    <tr>\n",
       "      <th>Role-Playing</th>\n",
       "      <td>31.16</td>\n",
       "    </tr>\n",
       "    <tr>\n",
       "      <th>Action</th>\n",
       "      <td>29.58</td>\n",
       "    </tr>\n",
       "    <tr>\n",
       "      <th>Fighting</th>\n",
       "      <td>6.37</td>\n",
       "    </tr>\n",
       "    <tr>\n",
       "      <th>Misc</th>\n",
       "      <td>5.61</td>\n",
       "    </tr>\n",
       "    <tr>\n",
       "      <th>Shooter</th>\n",
       "      <td>4.87</td>\n",
       "    </tr>\n",
       "  </tbody>\n",
       "</table>\n",
       "</div>"
      ],
      "text/plain": [
       "              jp_sales\n",
       "genre                 \n",
       "Role-Playing     31.16\n",
       "Action           29.58\n",
       "Fighting          6.37\n",
       "Misc              5.61\n",
       "Shooter           4.87"
      ]
     },
     "execution_count": 61,
     "metadata": {},
     "output_type": "execute_result"
    }
   ],
   "source": [
    "genre_jp = (\n",
    "    data_for_2017\n",
    "    .pivot_table(index='genre', values='jp_sales', aggfunc='sum')\n",
    "    .sort_values(by='jp_sales', ascending=False).head()\n",
    ")\n",
    "genre_jp"
   ]
  },
  {
   "cell_type": "code",
   "execution_count": 62,
   "metadata": {},
   "outputs": [
    {
     "data": {
      "image/png": "[encoded data removed]",
      "text/plain": [
       "<Figure size 432x432 with 1 Axes>"
      ]
     },
     "metadata": {},
     "output_type": "display_data"
    }
   ],
   "source": [
    "genre_jp.plot.pie(y = 'jp_sales', autopct='%1.1f%%', title='Топ-5 жанров в Японии', figsize=(6, 6))\n",
    "plt.xlabel('Жанр')\n",
    "plt.ylabel('Количество (млн.шт.)')\n",
    "plt.show();"
   ]
  },
  {
   "cell_type": "markdown",
   "metadata": {},
   "source": [
    "Самым популярным жанром в Японии является Role-Playing(доля рынка составляет 40.2%), самым непопулярным жанром является Shooter(доля рынка составляет 6.3%).\n"
   ]
  },
  {
   "cell_type": "markdown",
   "metadata": {},
   "source": [
    "Таким образом, во всех регионах жанр Action занимает одну из лидирующих позиций, непопулярным является жанр Sport."
   ]
  },
  {
   "cell_type": "markdown",
   "metadata": {},
   "source": [
    "#### Влияние рейтинга ESRB на продажи в отдельном регионе"
   ]
  },
  {
   "cell_type": "markdown",
   "metadata": {},
   "source": [
    "ESRB (англ. Entertainment Software Rating Board) - ассоциация, определяющая рейтинг компьютерных игр и присваивающая им подходящую возрастную категорию."
   ]
  },
  {
   "cell_type": "markdown",
   "metadata": {},
   "source": [
    "Чтобы изучить рейтинговые данные, учитывая пропущенные значения в столбце \"rating\". Заменим значения \"Nan\" на то число, которое точно не попадется в выборке: \"-999\". Теперь игры без рейтинга будут отражаться, как \"-999\"."
   ]
  },
  {
   "cell_type": "code",
   "execution_count": 63,
   "metadata": {},
   "outputs": [],
   "source": [
    "data_for_2017['rating'] = data_for_2017['rating'].replace(np.NaN, '-999')"
   ]
  },
  {
   "cell_type": "markdown",
   "metadata": {},
   "source": [
    "Обнаружили, что теперь все позиции без рейтинга отражаются в категории \"-999\""
   ]
  },
  {
   "cell_type": "code",
   "execution_count": 64,
   "metadata": {},
   "outputs": [
    {
     "data": {
      "text/plain": [
       "-999    749\n",
       "T       271\n",
       "M       265\n",
       "E       219\n",
       "E10+    185\n",
       "Name: rating, dtype: int64"
      ]
     },
     "execution_count": 64,
     "metadata": {},
     "output_type": "execute_result"
    }
   ],
   "source": [
    "data_for_2017['rating'].value_counts(dropna=False)"
   ]
  },
  {
   "cell_type": "code",
   "execution_count": 65,
   "metadata": {},
   "outputs": [
    {
     "data": {
      "text/html": [
       "<div>\n",
       "<style scoped>\n",
       "    .dataframe tbody tr th:only-of-type {\n",
       "        vertical-align: middle;\n",
       "    }\n",
       "\n",
       "    .dataframe tbody tr th {\n",
       "        vertical-align: top;\n",
       "    }\n",
       "\n",
       "    .dataframe thead th {\n",
       "        text-align: right;\n",
       "    }\n",
       "</style>\n",
       "<table border=\"1\" class=\"dataframe\">\n",
       "  <thead>\n",
       "    <tr style=\"text-align: right;\">\n",
       "      <th></th>\n",
       "      <th>rating</th>\n",
       "      <th>na_sales</th>\n",
       "      <th>eu_sales</th>\n",
       "      <th>jp_sales</th>\n",
       "    </tr>\n",
       "  </thead>\n",
       "  <tbody>\n",
       "    <tr>\n",
       "      <th>0</th>\n",
       "      <td>M</td>\n",
       "      <td>96.42</td>\n",
       "      <td>93.44</td>\n",
       "      <td>8.01</td>\n",
       "    </tr>\n",
       "    <tr>\n",
       "      <th>1</th>\n",
       "      <td>-999</td>\n",
       "      <td>64.72</td>\n",
       "      <td>58.95</td>\n",
       "      <td>56.90</td>\n",
       "    </tr>\n",
       "    <tr>\n",
       "      <th>2</th>\n",
       "      <td>E</td>\n",
       "      <td>50.74</td>\n",
       "      <td>58.06</td>\n",
       "      <td>8.94</td>\n",
       "    </tr>\n",
       "    <tr>\n",
       "      <th>3</th>\n",
       "      <td>T</td>\n",
       "      <td>38.95</td>\n",
       "      <td>34.07</td>\n",
       "      <td>14.78</td>\n",
       "    </tr>\n",
       "    <tr>\n",
       "      <th>4</th>\n",
       "      <td>E10+</td>\n",
       "      <td>33.23</td>\n",
       "      <td>26.16</td>\n",
       "      <td>4.46</td>\n",
       "    </tr>\n",
       "  </tbody>\n",
       "</table>\n",
       "</div>"
      ],
      "text/plain": [
       "  rating  na_sales  eu_sales  jp_sales\n",
       "0      M     96.42     93.44      8.01\n",
       "1   -999     64.72     58.95     56.90\n",
       "2      E     50.74     58.06      8.94\n",
       "3      T     38.95     34.07     14.78\n",
       "4   E10+     33.23     26.16      4.46"
      ]
     },
     "execution_count": 65,
     "metadata": {},
     "output_type": "execute_result"
    }
   ],
   "source": [
    "rating_sale = (\n",
    "    data_for_2017\n",
    "    .groupby('rating')['na_sales', 'eu_sales', 'jp_sales']\n",
    "    .sum()\n",
    "    .sort_values(by='na_sales', ascending=False).reset_index()\n",
    ")\n",
    "rating_sale"
   ]
  },
  {
   "cell_type": "markdown",
   "metadata": {},
   "source": [
    "- Категория М (Для взрослых): самая популярная в Северной Америке и Европейском Союзе;\n",
    "\n",
    "- Категория \"Игры без рейтинга\": занимает лидирующую позицию в Японии и занимает вторую позицию в Северной Америке и Европейском Союзе;\n",
    "\n",
    "- Категория Е (Для всех): является менее популярной и занимает третью позицию после категории М в Северной Америке и Европейском Союзе;\n",
    "\n",
    "- Категория Т (Для подростков): занимает третью позицию после категории М в Северной Америке и Европейском Союзе, однако, явлется одной из самых популярных в Японии и занимает вторую позицию среди прочих;\n",
    "\n",
    "- Категория Е10+ (Для всех старше 10 лет): последняя в списке категория во всех регионах."
   ]
  },
  {
   "cell_type": "markdown",
   "metadata": {},
   "source": [
    "### Анализ гипотез"
   ]
  },
  {
   "cell_type": "markdown",
   "metadata": {},
   "source": [
    "#### Средние пользовательские рейтинги платформ Xbox One и PC одинаковые:"
   ]
  },
  {
   "cell_type": "markdown",
   "metadata": {},
   "source": [
    "Для анализа гипотез необходить сформулировать нулевую гипотезу H0 и альтернативную гипотезу H1:\n",
    "\n",
    "H0 - средние пользовательские рейтинги платформ Xbox One и PC одинаковые;\n",
    "\n",
    "H1 - средние пользовательские рейтинги платформ Xbox One и PC имеют различный характер.\n",
    "\n",
    "Для сравнения средних пользовательских рейтингов воспользуемся соответствующими массивами данных и применим к ним метод scipy.stats.ttest_ind (array1, array2, equal_var)\n",
    "\n",
    "Параметр equal_var необходимо отразить, как \"False\", в связи с тем, что дисперсии у генеральных совокупностей могут различаться.\n",
    "\n",
    "Критический уровень статистической значимости (alpha) определим, как 5%, так как данный процент является стандартным для любой выборки данных.\n",
    "\n"
   ]
  },
  {
   "cell_type": "markdown",
   "metadata": {},
   "source": [
    "Сформируем данныe по платформам Xbox One и PC за актуальны период и удалим пропуски, чтобы отобразить корректную выборку:"
   ]
  },
  {
   "cell_type": "code",
   "execution_count": 66,
   "metadata": {},
   "outputs": [
    {
     "data": {
      "text/plain": [
       "165    7.9\n",
       "179    5.4\n",
       "242    6.4\n",
       "270    6.2\n",
       "373    4.1\n",
       "Name: user_score, dtype: float64"
      ]
     },
     "execution_count": 66,
     "metadata": {},
     "output_type": "execute_result"
    }
   ],
   "source": [
    "xbox_one = data_for_2017.query('platform == \"XOne\"')['user_score'].dropna()\n",
    "xbox_one.head()"
   ]
  },
  {
   "cell_type": "code",
   "execution_count": 67,
   "metadata": {},
   "outputs": [
    {
     "data": {
      "text/plain": [
       "458     3.9\n",
       "1530    5.4\n",
       "1730    7.9\n",
       "2303    5.7\n",
       "2784    5.9\n",
       "Name: user_score, dtype: float64"
      ]
     },
     "execution_count": 67,
     "metadata": {},
     "output_type": "execute_result"
    }
   ],
   "source": [
    "pc = data_for_2017.query('platform == \"PC\"')['user_score'].dropna()\n",
    "pc.head()"
   ]
  },
  {
   "cell_type": "code",
   "execution_count": 68,
   "metadata": {},
   "outputs": [
    {
     "name": "stdout",
     "output_type": "stream",
     "text": [
      "p-значение: 0.11601398086668832\n",
      "Не получилось отвергнуть нулевую гипотезу\n"
     ]
    }
   ],
   "source": [
    "alpha = 0.05\n",
    "\n",
    "results = st.ttest_ind(\n",
    "    xbox_one, \n",
    "    pc,\n",
    "    equal_var=False)\n",
    "\n",
    "print('p-значение:', results.pvalue)\n",
    "\n",
    "if results.pvalue < alpha:\n",
    "    print(\"Отвергаем нулевую гипотезу\")\n",
    "else:\n",
    "    print(\"Не получилось отвергнуть нулевую гипотезу\") "
   ]
  },
  {
   "cell_type": "markdown",
   "metadata": {},
   "source": [
    "Таким образом, отсутствуют основания считать, что средние пользовательские рейтинги платформ Xbox One и PC значимо различаются»"
   ]
  },
  {
   "cell_type": "markdown",
   "metadata": {},
   "source": [
    "#### Средние пользовательские рейтинги жанров Action и Sports разные:"
   ]
  },
  {
   "cell_type": "markdown",
   "metadata": {},
   "source": [
    "По аналогии с пунктом 5.4 проведем анализ с помощью метода scipy.stats.ttest_ind (array1, array2, equal_var). \n",
    "\n",
    "Параметры для теста оставим такие же. Опеределим следующие гипотезы:\n",
    "\n",
    "\n",
    "H0 - Средние пользовательские рейтинги жанров Action и Sports одинаковые;\n",
    "\n",
    "H1 - Средние пользовательские рейтинги жанров Action и Sports разные.\n",
    "\n",
    "\n"
   ]
  },
  {
   "cell_type": "markdown",
   "metadata": {},
   "source": [
    "Сформируем данныe по жанрам Action и Sports за актуальны период и удалим пропуски, чтобы отобразить корректную выборку:"
   ]
  },
  {
   "cell_type": "code",
   "execution_count": 69,
   "metadata": {},
   "outputs": [
    {
     "data": {
      "text/plain": [
       "42     8.3\n",
       "165    7.9\n",
       "231    8.1\n",
       "295    6.3\n",
       "304    4.9\n",
       "Name: user_score, dtype: float64"
      ]
     },
     "execution_count": 69,
     "metadata": {},
     "output_type": "execute_result"
    }
   ],
   "source": [
    "action = data_for_2017.query('genre == \"Action\"')['user_score'].dropna()\n",
    "action.head()"
   ]
  },
  {
   "cell_type": "code",
   "execution_count": 70,
   "metadata": {},
   "outputs": [
    {
     "data": {
      "text/plain": [
       "77     4.3\n",
       "94     5.0\n",
       "143    5.7\n",
       "264    4.5\n",
       "314    6.7\n",
       "Name: user_score, dtype: float64"
      ]
     },
     "execution_count": 70,
     "metadata": {},
     "output_type": "execute_result"
    }
   ],
   "source": [
    "sports = data_for_2017.query('genre == \"Sports\"')['user_score'].dropna()\n",
    "sports.head()"
   ]
  },
  {
   "cell_type": "code",
   "execution_count": 71,
   "metadata": {},
   "outputs": [
    {
     "name": "stdout",
     "output_type": "stream",
     "text": [
      "p-значение: 1.1825550382644557e-14\n",
      "Отвергаем нулевую гипотезу\n"
     ]
    }
   ],
   "source": [
    "alpha = 0.05\n",
    "\n",
    "results = st.ttest_ind(\n",
    "    action, \n",
    "    sports,\n",
    "    equal_var=False)\n",
    "\n",
    "print('p-значение:', results.pvalue)\n",
    "\n",
    "if results.pvalue < alpha:\n",
    "    print(\"Отвергаем нулевую гипотезу\")\n",
    "else:\n",
    "    print(\"Не получилось отвергнуть нулевую гипотезу\") "
   ]
  },
  {
   "cell_type": "markdown",
   "metadata": {},
   "source": [
    "Таким образом, средние пользовательские рейтинги жанров Action и Sports имееют статистически значимые различия."
   ]
  },
  {
   "cell_type": "markdown",
   "metadata": {},
   "source": [
    "Обобщая данный раздел отметим:\n",
    "- Средние пользовательские рейтинги платформ Xbox One и PC значимо не различаются;\n",
    "- У средних пользовательских рейтингов жанров Action и Sports статистические значимости различны."
   ]
  },
  {
   "cell_type": "markdown",
   "metadata": {},
   "source": [
    "### Вывод"
   ]
  },
  {
   "cell_type": "markdown",
   "metadata": {},
   "source": [
    "В рамках проведения анализа данных были пройдены следующие этапы:\n",
    "\n",
    "- Проведен обзорный анализ данных\n",
    "\n",
    "- Осуществлена предобработка данных;\n",
    "\n",
    "- Проведен исследовательский анализ данных с помощью изучения датасета и построения различных графиков;\n",
    "\n",
    "- Проанализиран портрет пользователей среди населения Северной Америки, Европейского Союза и Японии;\n",
    "\n",
    "- Проведен анализ гипотез.\n",
    "\n",
    "Обзорный анализ данных показал наличие некорректных значений в датасете, пропущенных значений и некорректный тип данных у некоторых столбцов, которые в дальнейшему были изменены на соответствующий.\n",
    "\n",
    "Некорректные значения, например \"tbd\" были заменены более подходящими - Nan. Но в рамках замены мы определели, что tbd - \"to be determined\" означает \"будет определено\". То есть, данные показатели еще не сформировались.\n",
    "\n",
    "Далее, проведенный исследовательский анализ данных показал, что с 1980 по 2008 год количество выпущенных игр в год постепенно росло. Пиковой точкой выпуска игр являкется 2008 год, в котором было выпущено 1 427 штук. Однако, с 2008 и далее спрос на игры снижался, вероятно, из-за появления мобильных и онлайн-игр.\n",
    "\n",
    "За исследуемый период самыми популярными платформами: PS2, X360, PS3, WII, DS, PS, а в среднем срок \"жизненного цикла\" платформ, которые используются для игр, составляет 10 лет. \n",
    "\n",
    "Взяв за актуальный период для прогноза 2013-2016гг, необходимо сделать вывод, что лидирующие позиции по продажам за исследуемый перид занимают платформы: PS4, XOne, 3DS. Самую низкую позицию занимает PSP. По большинству платформ сумма продаж постепенно снижается, но при этом, снижение происходит равномерно по всем платформам. Вероятно, спрос на платформы в целом из года в год будет падать.\n",
    "\n",
    "Также, мною была выявлена насколько взаимосвязаны оценки пользователей и критиков с продажами игр. Оценка критиков имеет прямую зависимость, когда в то же время между оценками пользователей и продажами зависимость отсутствует. \n",
    "\n",
    "По итогам проведенного исследования самыми популярными жанрами являются: Shooter, Sports, Platform. Данные жанры заняли сильные позиции по сравнению с другими.\n",
    "\n",
    "Анализ портрета пользователей показал, что среди Среди всех регионов самой популярной платформой является PS4. Платформа 3DS менее популярна, чем в Японии. Также, необходимо отметить, что среди рейтинга компьютерных игр по возрастному показателю лидирует:\n",
    "- категория \"для взрослых\" в Северной Америке и Европейском Союзе;\n",
    "- категория \"Игры без рейтинга\": занимает лидирующую позицию в Японии;\n",
    "- категория \"Для всех\": является менее популярной и занимает третью позицию после категории М в Северной Америке и Европейском Союзе;\n",
    "- категория \"Для подростков\": занимает третью позицию после категории М в Северной Америке и Европейском Союзе, однако, явлется одной из самых популярных в Японии и занимает вторую позицию среди прочих;\n",
    "- категория \"Для всех старше 10 лет\": самая непопулярная категория среди всех регионов.\n",
    "5) Проведен анализ гипотез, из которого следует вывод, что средние пользовательские рейтинги платформ Xbox One и PC значимо не различаются. Также, с средних пользовательских рейтингов жанров Action и Sports статистические значимости различны.\n",
    "\n",
    "Рекомендации:\n",
    "\n",
    "- При выборе плафтормы для игры необходимо рассматривать самый актуальный на текущий момент вариант \"PS4\" - Sony Playstation 4.\n",
    "- В зависимости от региона, в котором развивается бизнес, учесть рекомендации про категориям игр, указанных выше.\n",
    "- Учитывать популярность жанров, выявленных в исследовании : Shooter, Sports, Platform.\n",
    "\n",
    "\n"
   ]
  }
 ],
 "metadata": {
  "ExecuteTimeLog": [
   {
    "duration": 903,
    "start_time": "2022-09-30T18:55:51.103Z"
   },
   {
    "duration": 99,
    "start_time": "2022-09-30T18:56:11.119Z"
   },
   {
    "duration": 71,
    "start_time": "2022-09-30T18:56:23.123Z"
   },
   {
    "duration": 22,
    "start_time": "2022-09-30T18:57:32.494Z"
   },
   {
    "duration": 64,
    "start_time": "2022-09-30T18:59:47.131Z"
   },
   {
    "duration": 64,
    "start_time": "2022-09-30T19:00:17.648Z"
   },
   {
    "duration": 772,
    "start_time": "2022-09-30T19:06:47.692Z"
   },
   {
    "duration": 645,
    "start_time": "2022-09-30T19:07:54.595Z"
   },
   {
    "duration": 5,
    "start_time": "2022-09-30T19:16:11.341Z"
   },
   {
    "duration": 3,
    "start_time": "2022-09-30T19:22:17.566Z"
   },
   {
    "duration": 37,
    "start_time": "2022-09-30T19:42:01.570Z"
   },
   {
    "duration": 3,
    "start_time": "2022-09-30T19:42:59.766Z"
   },
   {
    "duration": 15,
    "start_time": "2022-09-30T19:43:06.711Z"
   },
   {
    "duration": 26,
    "start_time": "2022-09-30T20:16:53.028Z"
   },
   {
    "duration": 14,
    "start_time": "2022-09-30T20:17:19.859Z"
   },
   {
    "duration": 6,
    "start_time": "2022-09-30T20:18:30.218Z"
   },
   {
    "duration": 8,
    "start_time": "2022-09-30T20:18:49.949Z"
   },
   {
    "duration": 7,
    "start_time": "2022-09-30T20:18:58.218Z"
   },
   {
    "duration": 5,
    "start_time": "2022-09-30T20:19:09.285Z"
   },
   {
    "duration": 7,
    "start_time": "2022-09-30T20:19:16.062Z"
   },
   {
    "duration": 8,
    "start_time": "2022-09-30T20:21:40.344Z"
   },
   {
    "duration": 14,
    "start_time": "2022-09-30T20:21:44.698Z"
   },
   {
    "duration": 10,
    "start_time": "2022-09-30T20:22:02.922Z"
   },
   {
    "duration": 4,
    "start_time": "2022-09-30T20:22:21.209Z"
   },
   {
    "duration": 16,
    "start_time": "2022-09-30T20:22:49.229Z"
   },
   {
    "duration": 19,
    "start_time": "2022-09-30T20:23:40.672Z"
   },
   {
    "duration": 4,
    "start_time": "2022-09-30T20:29:26.004Z"
   },
   {
    "duration": 16,
    "start_time": "2022-09-30T20:29:31.985Z"
   },
   {
    "duration": 12,
    "start_time": "2022-09-30T20:29:43.666Z"
   },
   {
    "duration": 14,
    "start_time": "2022-09-30T20:30:38.300Z"
   },
   {
    "duration": 13,
    "start_time": "2022-09-30T20:30:43.953Z"
   },
   {
    "duration": 7,
    "start_time": "2022-09-30T20:31:07.552Z"
   },
   {
    "duration": 10,
    "start_time": "2022-09-30T20:31:36.910Z"
   },
   {
    "duration": 7,
    "start_time": "2022-09-30T20:31:51.289Z"
   },
   {
    "duration": 6,
    "start_time": "2022-09-30T20:40:15.789Z"
   },
   {
    "duration": 17,
    "start_time": "2022-09-30T20:40:21.136Z"
   },
   {
    "duration": 15,
    "start_time": "2022-09-30T20:40:24.414Z"
   },
   {
    "duration": 1183,
    "start_time": "2022-09-30T20:40:34.310Z"
   },
   {
    "duration": 17,
    "start_time": "2022-09-30T20:40:35.496Z"
   },
   {
    "duration": 14,
    "start_time": "2022-09-30T20:40:35.514Z"
   },
   {
    "duration": 16,
    "start_time": "2022-09-30T20:40:35.530Z"
   },
   {
    "duration": 17,
    "start_time": "2022-09-30T20:40:35.549Z"
   },
   {
    "duration": 14,
    "start_time": "2022-09-30T20:40:35.568Z"
   },
   {
    "duration": 109,
    "start_time": "2022-09-30T20:40:35.583Z"
   },
   {
    "duration": 16,
    "start_time": "2022-09-30T20:40:54.891Z"
   },
   {
    "duration": 5,
    "start_time": "2022-09-30T20:45:14.929Z"
   },
   {
    "duration": 20,
    "start_time": "2022-09-30T20:45:16.980Z"
   },
   {
    "duration": 14,
    "start_time": "2022-09-30T20:45:26.680Z"
   },
   {
    "duration": 15,
    "start_time": "2022-09-30T20:45:31.602Z"
   },
   {
    "duration": 1225,
    "start_time": "2022-09-30T20:47:16.264Z"
   },
   {
    "duration": 14,
    "start_time": "2022-09-30T20:47:17.492Z"
   },
   {
    "duration": 13,
    "start_time": "2022-09-30T20:47:17.507Z"
   },
   {
    "duration": 6,
    "start_time": "2022-09-30T20:47:17.521Z"
   },
   {
    "duration": 7,
    "start_time": "2022-09-30T20:47:17.528Z"
   },
   {
    "duration": 6,
    "start_time": "2022-09-30T20:47:17.537Z"
   },
   {
    "duration": 116,
    "start_time": "2022-09-30T20:47:17.545Z"
   },
   {
    "duration": 14,
    "start_time": "2022-09-30T20:47:18.564Z"
   },
   {
    "duration": 5,
    "start_time": "2022-09-30T20:48:27.637Z"
   },
   {
    "duration": 18,
    "start_time": "2022-09-30T20:48:37.902Z"
   },
   {
    "duration": 4,
    "start_time": "2022-09-30T20:54:05.941Z"
   },
   {
    "duration": 8,
    "start_time": "2022-09-30T20:54:53.954Z"
   },
   {
    "duration": 10,
    "start_time": "2022-09-30T20:54:57.986Z"
   },
   {
    "duration": 8,
    "start_time": "2022-09-30T21:02:42.671Z"
   },
   {
    "duration": 14,
    "start_time": "2022-09-30T21:02:57.671Z"
   },
   {
    "duration": 9,
    "start_time": "2022-09-30T21:08:11.821Z"
   },
   {
    "duration": 10,
    "start_time": "2022-09-30T21:08:24.812Z"
   },
   {
    "duration": 12,
    "start_time": "2022-09-30T21:09:08.712Z"
   },
   {
    "duration": 6,
    "start_time": "2022-09-30T21:17:10.664Z"
   },
   {
    "duration": 8,
    "start_time": "2022-09-30T21:17:12.242Z"
   },
   {
    "duration": 9,
    "start_time": "2022-09-30T21:17:13.558Z"
   },
   {
    "duration": 14,
    "start_time": "2022-09-30T21:56:40.845Z"
   },
   {
    "duration": 5,
    "start_time": "2022-09-30T21:58:37.443Z"
   },
   {
    "duration": 16,
    "start_time": "2022-09-30T21:58:45.005Z"
   },
   {
    "duration": 88,
    "start_time": "2022-10-01T11:20:30.343Z"
   },
   {
    "duration": 46,
    "start_time": "2022-10-01T11:22:29.769Z"
   },
   {
    "duration": 1399,
    "start_time": "2022-10-01T11:22:41.439Z"
   },
   {
    "duration": 13,
    "start_time": "2022-10-01T11:22:42.840Z"
   },
   {
    "duration": 12,
    "start_time": "2022-10-01T11:22:42.855Z"
   },
   {
    "duration": 40,
    "start_time": "2022-10-01T11:22:42.869Z"
   },
   {
    "duration": 13,
    "start_time": "2022-10-01T11:22:42.911Z"
   },
   {
    "duration": 12,
    "start_time": "2022-10-01T11:22:42.925Z"
   },
   {
    "duration": 12,
    "start_time": "2022-10-01T11:22:42.938Z"
   },
   {
    "duration": 9,
    "start_time": "2022-10-01T11:22:42.952Z"
   },
   {
    "duration": 12,
    "start_time": "2022-10-01T11:22:42.962Z"
   },
   {
    "duration": 23,
    "start_time": "2022-10-01T11:22:42.976Z"
   },
   {
    "duration": 9,
    "start_time": "2022-10-01T11:22:43.001Z"
   },
   {
    "duration": 22,
    "start_time": "2022-10-01T11:22:43.012Z"
   },
   {
    "duration": 111,
    "start_time": "2022-10-01T11:22:43.036Z"
   },
   {
    "duration": 9,
    "start_time": "2022-10-01T11:23:41.767Z"
   },
   {
    "duration": 10,
    "start_time": "2022-10-01T11:23:53.861Z"
   },
   {
    "duration": 61,
    "start_time": "2022-10-01T11:24:54.790Z"
   },
   {
    "duration": 35,
    "start_time": "2022-10-01T11:24:56.714Z"
   },
   {
    "duration": 10,
    "start_time": "2022-10-01T11:25:00.508Z"
   },
   {
    "duration": 6,
    "start_time": "2022-10-01T11:25:10.964Z"
   },
   {
    "duration": 11,
    "start_time": "2022-10-01T11:25:19.765Z"
   },
   {
    "duration": 6,
    "start_time": "2022-10-01T11:40:06.814Z"
   },
   {
    "duration": 9,
    "start_time": "2022-10-01T11:40:14.421Z"
   },
   {
    "duration": 10,
    "start_time": "2022-10-01T11:41:58.616Z"
   },
   {
    "duration": 158,
    "start_time": "2022-10-01T11:42:20.160Z"
   },
   {
    "duration": 139,
    "start_time": "2022-10-01T11:42:47.748Z"
   },
   {
    "duration": 131,
    "start_time": "2022-10-01T11:43:04.505Z"
   },
   {
    "duration": 130,
    "start_time": "2022-10-01T11:43:11.878Z"
   },
   {
    "duration": 143,
    "start_time": "2022-10-01T11:43:17.290Z"
   },
   {
    "duration": 148,
    "start_time": "2022-10-01T11:43:39.533Z"
   },
   {
    "duration": 156,
    "start_time": "2022-10-01T11:45:17.791Z"
   },
   {
    "duration": 124,
    "start_time": "2022-10-01T11:45:23.563Z"
   },
   {
    "duration": 208,
    "start_time": "2022-10-01T11:45:28.956Z"
   },
   {
    "duration": 141,
    "start_time": "2022-10-01T11:45:34.323Z"
   },
   {
    "duration": 50,
    "start_time": "2022-10-01T12:00:23.124Z"
   },
   {
    "duration": 149,
    "start_time": "2022-10-01T12:17:53.678Z"
   },
   {
    "duration": 63,
    "start_time": "2022-10-01T12:24:50.477Z"
   },
   {
    "duration": 56,
    "start_time": "2022-10-01T12:24:58.083Z"
   },
   {
    "duration": 10,
    "start_time": "2022-10-01T12:31:21.795Z"
   },
   {
    "duration": 83,
    "start_time": "2022-10-01T12:32:31.298Z"
   },
   {
    "duration": 58,
    "start_time": "2022-10-01T12:32:34.192Z"
   },
   {
    "duration": 10,
    "start_time": "2022-10-01T12:32:38.605Z"
   },
   {
    "duration": 264,
    "start_time": "2022-10-01T12:32:43.141Z"
   },
   {
    "duration": 9,
    "start_time": "2022-10-01T12:33:02.885Z"
   },
   {
    "duration": 10,
    "start_time": "2022-10-01T12:33:33.120Z"
   },
   {
    "duration": 126,
    "start_time": "2022-10-01T12:33:56.811Z"
   },
   {
    "duration": 20,
    "start_time": "2022-10-01T12:36:28.006Z"
   },
   {
    "duration": 20,
    "start_time": "2022-10-01T12:36:43.329Z"
   },
   {
    "duration": 4,
    "start_time": "2022-10-01T12:37:37.681Z"
   },
   {
    "duration": 13,
    "start_time": "2022-10-01T12:37:45.995Z"
   },
   {
    "duration": 11,
    "start_time": "2022-10-01T13:30:11.007Z"
   },
   {
    "duration": 16,
    "start_time": "2022-10-01T13:30:15.396Z"
   },
   {
    "duration": 17,
    "start_time": "2022-10-01T13:30:33.835Z"
   },
   {
    "duration": 18,
    "start_time": "2022-10-01T13:30:42.609Z"
   },
   {
    "duration": 119,
    "start_time": "2022-10-01T13:38:00.357Z"
   },
   {
    "duration": 297,
    "start_time": "2022-10-01T13:39:16.216Z"
   },
   {
    "duration": 49,
    "start_time": "2022-10-01T13:41:36.179Z"
   },
   {
    "duration": 49,
    "start_time": "2022-10-01T13:43:22.919Z"
   },
   {
    "duration": 1241,
    "start_time": "2022-10-01T13:45:57.516Z"
   },
   {
    "duration": 13,
    "start_time": "2022-10-01T13:45:58.758Z"
   },
   {
    "duration": 8,
    "start_time": "2022-10-01T13:45:58.772Z"
   },
   {
    "duration": 35,
    "start_time": "2022-10-01T13:45:58.781Z"
   },
   {
    "duration": 17,
    "start_time": "2022-10-01T13:45:58.820Z"
   },
   {
    "duration": 14,
    "start_time": "2022-10-01T13:45:58.839Z"
   },
   {
    "duration": 12,
    "start_time": "2022-10-01T13:45:58.854Z"
   },
   {
    "duration": 10,
    "start_time": "2022-10-01T13:45:58.867Z"
   },
   {
    "duration": 10,
    "start_time": "2022-10-01T13:45:58.879Z"
   },
   {
    "duration": 13,
    "start_time": "2022-10-01T13:45:58.890Z"
   },
   {
    "duration": 12,
    "start_time": "2022-10-01T13:45:58.912Z"
   },
   {
    "duration": 29,
    "start_time": "2022-10-01T13:45:58.926Z"
   },
   {
    "duration": 10,
    "start_time": "2022-10-01T13:45:58.956Z"
   },
   {
    "duration": 191,
    "start_time": "2022-10-01T13:45:58.968Z"
   },
   {
    "duration": 14,
    "start_time": "2022-10-01T13:45:59.161Z"
   },
   {
    "duration": 98,
    "start_time": "2022-10-01T13:45:59.177Z"
   },
   {
    "duration": 0,
    "start_time": "2022-10-01T13:45:59.277Z"
   },
   {
    "duration": 0,
    "start_time": "2022-10-01T13:45:59.278Z"
   },
   {
    "duration": 4,
    "start_time": "2022-10-01T13:46:46.001Z"
   },
   {
    "duration": 4,
    "start_time": "2022-10-01T13:46:58.707Z"
   },
   {
    "duration": 107,
    "start_time": "2022-10-01T13:48:45.301Z"
   },
   {
    "duration": 12,
    "start_time": "2022-10-01T13:48:49.715Z"
   },
   {
    "duration": 19,
    "start_time": "2022-10-01T13:49:00.031Z"
   },
   {
    "duration": 9,
    "start_time": "2022-10-01T13:50:54.490Z"
   },
   {
    "duration": 9,
    "start_time": "2022-10-01T13:51:04.993Z"
   },
   {
    "duration": 31,
    "start_time": "2022-10-01T13:51:09.673Z"
   },
   {
    "duration": 32,
    "start_time": "2022-10-01T13:51:14.907Z"
   },
   {
    "duration": 22,
    "start_time": "2022-10-01T13:51:22.189Z"
   },
   {
    "duration": 132,
    "start_time": "2022-10-01T13:51:52.045Z"
   },
   {
    "duration": 151,
    "start_time": "2022-10-01T13:53:54.803Z"
   },
   {
    "duration": 136,
    "start_time": "2022-10-01T13:54:12.844Z"
   },
   {
    "duration": 50,
    "start_time": "2022-10-01T14:00:35.003Z"
   },
   {
    "duration": 72,
    "start_time": "2022-10-01T14:00:39.522Z"
   },
   {
    "duration": 1135,
    "start_time": "2022-10-01T14:01:10.333Z"
   },
   {
    "duration": 14,
    "start_time": "2022-10-01T14:01:11.470Z"
   },
   {
    "duration": 8,
    "start_time": "2022-10-01T14:01:11.486Z"
   },
   {
    "duration": 21,
    "start_time": "2022-10-01T14:01:11.496Z"
   },
   {
    "duration": 13,
    "start_time": "2022-10-01T14:01:11.519Z"
   },
   {
    "duration": 9,
    "start_time": "2022-10-01T14:01:11.534Z"
   },
   {
    "duration": 10,
    "start_time": "2022-10-01T14:01:11.545Z"
   },
   {
    "duration": 7,
    "start_time": "2022-10-01T14:01:11.556Z"
   },
   {
    "duration": 9,
    "start_time": "2022-10-01T14:01:11.565Z"
   },
   {
    "duration": 17,
    "start_time": "2022-10-01T14:01:11.576Z"
   },
   {
    "duration": 19,
    "start_time": "2022-10-01T14:01:11.595Z"
   },
   {
    "duration": 19,
    "start_time": "2022-10-01T14:01:11.616Z"
   },
   {
    "duration": 11,
    "start_time": "2022-10-01T14:01:11.637Z"
   },
   {
    "duration": 183,
    "start_time": "2022-10-01T14:01:11.652Z"
   },
   {
    "duration": 16,
    "start_time": "2022-10-01T14:01:11.837Z"
   },
   {
    "duration": 0,
    "start_time": "2022-10-01T14:02:09.238Z"
   },
   {
    "duration": 0,
    "start_time": "2022-10-01T14:02:09.239Z"
   },
   {
    "duration": 0,
    "start_time": "2022-10-01T14:02:09.240Z"
   },
   {
    "duration": 0,
    "start_time": "2022-10-01T14:02:09.241Z"
   },
   {
    "duration": 0,
    "start_time": "2022-10-01T14:02:09.242Z"
   },
   {
    "duration": 0,
    "start_time": "2022-10-01T14:02:09.243Z"
   },
   {
    "duration": 0,
    "start_time": "2022-10-01T14:02:09.244Z"
   },
   {
    "duration": 0,
    "start_time": "2022-10-01T14:02:09.245Z"
   },
   {
    "duration": 0,
    "start_time": "2022-10-01T14:02:09.245Z"
   },
   {
    "duration": 0,
    "start_time": "2022-10-01T14:02:09.247Z"
   },
   {
    "duration": 0,
    "start_time": "2022-10-01T14:02:09.248Z"
   },
   {
    "duration": 0,
    "start_time": "2022-10-01T14:02:09.249Z"
   },
   {
    "duration": 0,
    "start_time": "2022-10-01T14:02:09.250Z"
   },
   {
    "duration": 0,
    "start_time": "2022-10-01T14:02:09.250Z"
   },
   {
    "duration": 0,
    "start_time": "2022-10-01T14:02:09.252Z"
   },
   {
    "duration": 0,
    "start_time": "2022-10-01T14:02:09.252Z"
   },
   {
    "duration": 0,
    "start_time": "2022-10-01T14:02:09.253Z"
   },
   {
    "duration": 0,
    "start_time": "2022-10-01T14:02:09.254Z"
   },
   {
    "duration": 0,
    "start_time": "2022-10-01T14:02:09.255Z"
   },
   {
    "duration": 8,
    "start_time": "2022-10-01T14:02:12.419Z"
   },
   {
    "duration": 6,
    "start_time": "2022-10-01T14:02:22.920Z"
   },
   {
    "duration": 1223,
    "start_time": "2022-10-01T14:02:33.782Z"
   },
   {
    "duration": 12,
    "start_time": "2022-10-01T14:02:35.007Z"
   },
   {
    "duration": 9,
    "start_time": "2022-10-01T14:02:35.021Z"
   },
   {
    "duration": 19,
    "start_time": "2022-10-01T14:02:35.031Z"
   },
   {
    "duration": 12,
    "start_time": "2022-10-01T14:02:35.052Z"
   },
   {
    "duration": 13,
    "start_time": "2022-10-01T14:02:35.066Z"
   },
   {
    "duration": 13,
    "start_time": "2022-10-01T14:02:35.081Z"
   },
   {
    "duration": 13,
    "start_time": "2022-10-01T14:02:35.096Z"
   },
   {
    "duration": 7,
    "start_time": "2022-10-01T14:02:35.111Z"
   },
   {
    "duration": 21,
    "start_time": "2022-10-01T14:02:35.119Z"
   },
   {
    "duration": 13,
    "start_time": "2022-10-01T14:02:35.141Z"
   },
   {
    "duration": 14,
    "start_time": "2022-10-01T14:02:35.155Z"
   },
   {
    "duration": 26,
    "start_time": "2022-10-01T14:02:35.170Z"
   },
   {
    "duration": 158,
    "start_time": "2022-10-01T14:02:35.198Z"
   },
   {
    "duration": 14,
    "start_time": "2022-10-01T14:02:35.357Z"
   },
   {
    "duration": 142,
    "start_time": "2022-10-01T14:02:35.372Z"
   },
   {
    "duration": 4,
    "start_time": "2022-10-01T14:02:35.516Z"
   },
   {
    "duration": 121,
    "start_time": "2022-10-01T14:02:35.521Z"
   },
   {
    "duration": 0,
    "start_time": "2022-10-01T14:02:35.644Z"
   },
   {
    "duration": 126,
    "start_time": "2022-10-01T14:03:29.454Z"
   },
   {
    "duration": 4,
    "start_time": "2022-10-01T14:03:54.679Z"
   },
   {
    "duration": 16,
    "start_time": "2022-10-01T14:04:08.478Z"
   },
   {
    "duration": 17,
    "start_time": "2022-10-01T14:04:12.830Z"
   },
   {
    "duration": 130,
    "start_time": "2022-10-01T14:04:17.829Z"
   },
   {
    "duration": 146,
    "start_time": "2022-10-01T14:04:26.063Z"
   },
   {
    "duration": 131,
    "start_time": "2022-10-01T14:05:15.351Z"
   },
   {
    "duration": 135,
    "start_time": "2022-10-01T14:06:02.211Z"
   },
   {
    "duration": 191,
    "start_time": "2022-10-01T14:06:38.634Z"
   },
   {
    "duration": 168,
    "start_time": "2022-10-01T14:06:52.608Z"
   },
   {
    "duration": 136,
    "start_time": "2022-10-01T14:07:06.203Z"
   },
   {
    "duration": 50,
    "start_time": "2022-10-01T14:07:32.317Z"
   },
   {
    "duration": 100,
    "start_time": "2022-10-01T14:07:36.000Z"
   },
   {
    "duration": 119,
    "start_time": "2022-10-01T14:07:38.598Z"
   },
   {
    "duration": 115,
    "start_time": "2022-10-01T14:07:48.218Z"
   },
   {
    "duration": 115,
    "start_time": "2022-10-01T14:07:52.206Z"
   },
   {
    "duration": 133,
    "start_time": "2022-10-01T14:08:01.177Z"
   },
   {
    "duration": 8,
    "start_time": "2022-10-01T14:09:07.991Z"
   },
   {
    "duration": 4,
    "start_time": "2022-10-01T14:16:10.844Z"
   },
   {
    "duration": 12,
    "start_time": "2022-10-01T14:25:04.495Z"
   },
   {
    "duration": 11,
    "start_time": "2022-10-01T14:25:17.933Z"
   },
   {
    "duration": 16,
    "start_time": "2022-10-01T14:25:43.683Z"
   },
   {
    "duration": 534,
    "start_time": "2022-10-01T14:26:09.347Z"
   },
   {
    "duration": 15,
    "start_time": "2022-10-01T14:26:18.051Z"
   },
   {
    "duration": 30,
    "start_time": "2022-10-01T14:27:28.905Z"
   },
   {
    "duration": 27,
    "start_time": "2022-10-01T14:27:44.652Z"
   },
   {
    "duration": 9,
    "start_time": "2022-10-01T14:27:58.145Z"
   },
   {
    "duration": 11,
    "start_time": "2022-10-01T14:28:09.351Z"
   },
   {
    "duration": 14,
    "start_time": "2022-10-01T14:28:38.286Z"
   },
   {
    "duration": 10,
    "start_time": "2022-10-01T14:28:46.797Z"
   },
   {
    "duration": 50,
    "start_time": "2022-10-01T19:25:19.275Z"
   },
   {
    "duration": 1398,
    "start_time": "2022-10-01T19:25:24.420Z"
   },
   {
    "duration": 13,
    "start_time": "2022-10-01T19:25:25.820Z"
   },
   {
    "duration": 8,
    "start_time": "2022-10-01T19:25:25.835Z"
   },
   {
    "duration": 23,
    "start_time": "2022-10-01T19:25:25.844Z"
   },
   {
    "duration": 13,
    "start_time": "2022-10-01T19:25:25.868Z"
   },
   {
    "duration": 27,
    "start_time": "2022-10-01T19:25:25.882Z"
   },
   {
    "duration": 5,
    "start_time": "2022-10-01T19:25:25.910Z"
   },
   {
    "duration": 6,
    "start_time": "2022-10-01T19:25:25.916Z"
   },
   {
    "duration": 8,
    "start_time": "2022-10-01T19:25:25.925Z"
   },
   {
    "duration": 20,
    "start_time": "2022-10-01T19:25:25.934Z"
   },
   {
    "duration": 9,
    "start_time": "2022-10-01T19:25:25.956Z"
   },
   {
    "duration": 17,
    "start_time": "2022-10-01T19:25:25.966Z"
   },
   {
    "duration": 33,
    "start_time": "2022-10-01T19:25:25.985Z"
   },
   {
    "duration": 173,
    "start_time": "2022-10-01T19:25:26.020Z"
   },
   {
    "duration": 18,
    "start_time": "2022-10-01T19:25:26.195Z"
   },
   {
    "duration": 151,
    "start_time": "2022-10-01T19:25:26.215Z"
   },
   {
    "duration": 4,
    "start_time": "2022-10-01T19:25:26.368Z"
   },
   {
    "duration": 13,
    "start_time": "2022-10-01T19:25:26.373Z"
   },
   {
    "duration": 38,
    "start_time": "2022-10-01T19:25:26.388Z"
   },
   {
    "duration": 140,
    "start_time": "2022-10-01T19:25:26.428Z"
   },
   {
    "duration": 0,
    "start_time": "2022-10-01T19:25:26.569Z"
   },
   {
    "duration": 11,
    "start_time": "2022-10-01T19:25:37.208Z"
   },
   {
    "duration": 12,
    "start_time": "2022-10-01T19:25:44.106Z"
   },
   {
    "duration": 132,
    "start_time": "2022-10-01T19:26:32.706Z"
   },
   {
    "duration": 135,
    "start_time": "2022-10-01T19:26:41.957Z"
   },
   {
    "duration": 124,
    "start_time": "2022-10-01T19:27:20.671Z"
   },
   {
    "duration": 210,
    "start_time": "2022-10-01T19:28:09.801Z"
   },
   {
    "duration": 226,
    "start_time": "2022-10-01T19:28:47.400Z"
   },
   {
    "duration": 181,
    "start_time": "2022-10-01T19:33:54.156Z"
   },
   {
    "duration": 183,
    "start_time": "2022-10-01T19:34:32.507Z"
   },
   {
    "duration": 157,
    "start_time": "2022-10-01T19:34:36.844Z"
   },
   {
    "duration": 131,
    "start_time": "2022-10-01T19:40:24.888Z"
   },
   {
    "duration": 8,
    "start_time": "2022-10-01T19:41:15.660Z"
   },
   {
    "duration": 10,
    "start_time": "2022-10-01T19:41:31.477Z"
   },
   {
    "duration": 10,
    "start_time": "2022-10-01T19:46:25.950Z"
   },
   {
    "duration": 10,
    "start_time": "2022-10-01T19:46:33.308Z"
   },
   {
    "duration": 34,
    "start_time": "2022-10-01T19:46:52.362Z"
   },
   {
    "duration": 21,
    "start_time": "2022-10-01T19:47:00.744Z"
   },
   {
    "duration": 21,
    "start_time": "2022-10-01T19:47:09.300Z"
   },
   {
    "duration": 21,
    "start_time": "2022-10-01T19:47:26.098Z"
   },
   {
    "duration": 258,
    "start_time": "2022-10-01T19:47:31.067Z"
   },
   {
    "duration": 264,
    "start_time": "2022-10-01T19:48:00.843Z"
   },
   {
    "duration": 258,
    "start_time": "2022-10-01T19:48:29.261Z"
   },
   {
    "duration": 253,
    "start_time": "2022-10-01T19:48:38.272Z"
   },
   {
    "duration": 256,
    "start_time": "2022-10-01T19:48:51.773Z"
   },
   {
    "duration": 260,
    "start_time": "2022-10-01T19:49:22.871Z"
   },
   {
    "duration": 210,
    "start_time": "2022-10-01T19:49:31.286Z"
   },
   {
    "duration": 319,
    "start_time": "2022-10-01T19:49:36.342Z"
   },
   {
    "duration": 255,
    "start_time": "2022-10-01T19:49:44.893Z"
   },
   {
    "duration": 261,
    "start_time": "2022-10-01T19:49:51.720Z"
   },
   {
    "duration": 10,
    "start_time": "2022-10-01T19:50:27.405Z"
   },
   {
    "duration": 266,
    "start_time": "2022-10-01T19:50:38.169Z"
   },
   {
    "duration": 252,
    "start_time": "2022-10-01T19:51:58.350Z"
   },
   {
    "duration": 260,
    "start_time": "2022-10-01T19:53:06.367Z"
   },
   {
    "duration": 275,
    "start_time": "2022-10-01T19:53:21.972Z"
   },
   {
    "duration": 268,
    "start_time": "2022-10-01T19:53:27.850Z"
   },
   {
    "duration": 270,
    "start_time": "2022-10-01T19:53:57.339Z"
   },
   {
    "duration": 274,
    "start_time": "2022-10-01T19:54:10.048Z"
   },
   {
    "duration": 275,
    "start_time": "2022-10-01T19:54:15.328Z"
   },
   {
    "duration": 443,
    "start_time": "2022-10-01T19:55:25.560Z"
   },
   {
    "duration": 269,
    "start_time": "2022-10-01T19:56:05.434Z"
   },
   {
    "duration": 266,
    "start_time": "2022-10-01T19:57:06.147Z"
   },
   {
    "duration": 137,
    "start_time": "2022-10-01T19:57:35.809Z"
   },
   {
    "duration": 265,
    "start_time": "2022-10-01T19:57:55.867Z"
   },
   {
    "duration": 292,
    "start_time": "2022-10-01T19:58:03.509Z"
   },
   {
    "duration": 276,
    "start_time": "2022-10-01T19:58:10.641Z"
   },
   {
    "duration": 285,
    "start_time": "2022-10-01T20:01:03.584Z"
   },
   {
    "duration": 286,
    "start_time": "2022-10-01T20:02:19.337Z"
   },
   {
    "duration": 276,
    "start_time": "2022-10-01T20:02:43.610Z"
   },
   {
    "duration": 354,
    "start_time": "2022-10-01T20:03:01.081Z"
   },
   {
    "duration": 52,
    "start_time": "2022-10-01T20:03:18.807Z"
   },
   {
    "duration": 326,
    "start_time": "2022-10-01T20:03:22.592Z"
   },
   {
    "duration": 284,
    "start_time": "2022-10-01T20:03:48.936Z"
   },
   {
    "duration": 268,
    "start_time": "2022-10-01T20:04:33.447Z"
   },
   {
    "duration": 269,
    "start_time": "2022-10-01T20:04:40.288Z"
   },
   {
    "duration": 320,
    "start_time": "2022-10-01T20:10:14.900Z"
   },
   {
    "duration": 62,
    "start_time": "2022-10-01T20:10:30.270Z"
   },
   {
    "duration": 48,
    "start_time": "2022-10-01T20:10:48.012Z"
   },
   {
    "duration": 294,
    "start_time": "2022-10-01T20:10:51.904Z"
   },
   {
    "duration": 278,
    "start_time": "2022-10-01T20:11:02.091Z"
   },
   {
    "duration": 17,
    "start_time": "2022-10-01T20:14:08.592Z"
   },
   {
    "duration": 48,
    "start_time": "2022-10-01T20:14:27.433Z"
   },
   {
    "duration": 16,
    "start_time": "2022-10-01T20:14:29.855Z"
   },
   {
    "duration": 13,
    "start_time": "2022-10-01T20:14:46.276Z"
   },
   {
    "duration": 75,
    "start_time": "2022-10-01T20:19:42.533Z"
   },
   {
    "duration": 59,
    "start_time": "2022-10-01T20:21:59.723Z"
   },
   {
    "duration": 63,
    "start_time": "2022-10-01T20:22:03.753Z"
   },
   {
    "duration": 63,
    "start_time": "2022-10-01T20:23:01.671Z"
   },
   {
    "duration": 17,
    "start_time": "2022-10-01T20:23:56.845Z"
   },
   {
    "duration": 17,
    "start_time": "2022-10-01T20:24:33.712Z"
   },
   {
    "duration": 9,
    "start_time": "2022-10-01T20:26:32.935Z"
   },
   {
    "duration": 11,
    "start_time": "2022-10-01T20:26:54.386Z"
   },
   {
    "duration": 29,
    "start_time": "2022-10-01T20:27:02.518Z"
   },
   {
    "duration": 59,
    "start_time": "2022-10-01T20:27:10.424Z"
   },
   {
    "duration": 64,
    "start_time": "2022-10-01T20:27:21.777Z"
   },
   {
    "duration": 60,
    "start_time": "2022-10-01T20:27:57.600Z"
   },
   {
    "duration": 7,
    "start_time": "2022-10-01T20:28:44.222Z"
   },
   {
    "duration": 137,
    "start_time": "2022-10-01T20:33:35.057Z"
   },
   {
    "duration": 272,
    "start_time": "2022-10-01T20:33:40.024Z"
   },
   {
    "duration": 45,
    "start_time": "2022-10-01T20:34:22.986Z"
   },
   {
    "duration": 5,
    "start_time": "2022-10-01T20:38:27.793Z"
   },
   {
    "duration": 5,
    "start_time": "2022-10-01T20:38:49.362Z"
   },
   {
    "duration": 9,
    "start_time": "2022-10-01T20:58:45.045Z"
   },
   {
    "duration": 10,
    "start_time": "2022-10-01T21:00:34.377Z"
   },
   {
    "duration": 1044,
    "start_time": "2022-10-01T21:01:07.876Z"
   },
   {
    "duration": 245,
    "start_time": "2022-10-01T21:01:20.544Z"
   },
   {
    "duration": 92,
    "start_time": "2022-10-01T21:04:08.189Z"
   },
   {
    "duration": 183,
    "start_time": "2022-10-01T21:04:22.108Z"
   },
   {
    "duration": 98,
    "start_time": "2022-10-01T21:04:28.719Z"
   },
   {
    "duration": 9,
    "start_time": "2022-10-01T21:05:04.064Z"
   },
   {
    "duration": 7,
    "start_time": "2022-10-01T21:05:11.401Z"
   },
   {
    "duration": 8,
    "start_time": "2022-10-01T21:06:34.921Z"
   },
   {
    "duration": 8,
    "start_time": "2022-10-01T21:06:49.596Z"
   },
   {
    "duration": 89,
    "start_time": "2022-10-01T21:06:56.854Z"
   },
   {
    "duration": 11,
    "start_time": "2022-10-01T21:07:06.822Z"
   },
   {
    "duration": 58,
    "start_time": "2022-10-01T21:18:24.426Z"
   },
   {
    "duration": 47,
    "start_time": "2022-10-01T21:18:35.699Z"
   },
   {
    "duration": 7,
    "start_time": "2022-10-01T21:18:45.314Z"
   },
   {
    "duration": 53,
    "start_time": "2022-10-01T21:19:01.137Z"
   },
   {
    "duration": 42,
    "start_time": "2022-10-01T21:19:07.892Z"
   },
   {
    "duration": 9,
    "start_time": "2022-10-01T21:19:11.623Z"
   },
   {
    "duration": 9,
    "start_time": "2022-10-01T21:19:21.333Z"
   },
   {
    "duration": 9,
    "start_time": "2022-10-01T21:20:00.134Z"
   },
   {
    "duration": 8,
    "start_time": "2022-10-01T21:20:06.113Z"
   },
   {
    "duration": 742,
    "start_time": "2022-10-01T21:21:19.231Z"
   },
   {
    "duration": 836,
    "start_time": "2022-10-01T21:22:06.910Z"
   },
   {
    "duration": 123,
    "start_time": "2022-10-01T21:22:15.403Z"
   },
   {
    "duration": 809,
    "start_time": "2022-10-01T21:22:20.531Z"
   },
   {
    "duration": 835,
    "start_time": "2022-10-01T21:22:39.440Z"
   },
   {
    "duration": 400,
    "start_time": "2022-10-01T21:22:54.941Z"
   },
   {
    "duration": 275,
    "start_time": "2022-10-01T21:23:41.868Z"
   },
   {
    "duration": 282,
    "start_time": "2022-10-01T21:23:50.760Z"
   },
   {
    "duration": 22,
    "start_time": "2022-10-01T21:24:24.919Z"
   },
   {
    "duration": 279,
    "start_time": "2022-10-01T21:25:05.244Z"
   },
   {
    "duration": 272,
    "start_time": "2022-10-01T21:35:52.594Z"
   },
   {
    "duration": 277,
    "start_time": "2022-10-01T21:36:28.814Z"
   },
   {
    "duration": 284,
    "start_time": "2022-10-01T21:37:40.639Z"
   },
   {
    "duration": 41,
    "start_time": "2022-10-02T09:49:28.818Z"
   },
   {
    "duration": 1433,
    "start_time": "2022-10-02T09:49:33.480Z"
   },
   {
    "duration": 14,
    "start_time": "2022-10-02T09:49:34.915Z"
   },
   {
    "duration": 7,
    "start_time": "2022-10-02T09:49:34.930Z"
   },
   {
    "duration": 13,
    "start_time": "2022-10-02T09:49:34.939Z"
   },
   {
    "duration": 14,
    "start_time": "2022-10-02T09:49:34.954Z"
   },
   {
    "duration": 40,
    "start_time": "2022-10-02T09:49:34.970Z"
   },
   {
    "duration": 6,
    "start_time": "2022-10-02T09:49:35.012Z"
   },
   {
    "duration": 7,
    "start_time": "2022-10-02T09:49:35.019Z"
   },
   {
    "duration": 8,
    "start_time": "2022-10-02T09:49:35.027Z"
   },
   {
    "duration": 14,
    "start_time": "2022-10-02T09:49:35.036Z"
   },
   {
    "duration": 7,
    "start_time": "2022-10-02T09:49:35.051Z"
   },
   {
    "duration": 15,
    "start_time": "2022-10-02T09:49:35.060Z"
   },
   {
    "duration": 11,
    "start_time": "2022-10-02T09:49:35.076Z"
   },
   {
    "duration": 186,
    "start_time": "2022-10-02T09:49:35.101Z"
   },
   {
    "duration": 23,
    "start_time": "2022-10-02T09:49:35.289Z"
   },
   {
    "duration": 164,
    "start_time": "2022-10-02T09:49:35.314Z"
   },
   {
    "duration": 4,
    "start_time": "2022-10-02T09:49:35.480Z"
   },
   {
    "duration": 432,
    "start_time": "2022-10-02T09:49:35.486Z"
   },
   {
    "duration": 263,
    "start_time": "2022-10-02T09:49:36.215Z"
   },
   {
    "duration": 277,
    "start_time": "2022-10-02T09:49:45.999Z"
   },
   {
    "duration": 300,
    "start_time": "2022-10-02T09:50:42.312Z"
   },
   {
    "duration": 280,
    "start_time": "2022-10-02T09:51:19.799Z"
   },
   {
    "duration": 18,
    "start_time": "2022-10-02T10:06:54.619Z"
   },
   {
    "duration": 26,
    "start_time": "2022-10-02T10:07:01.347Z"
   },
   {
    "duration": 101,
    "start_time": "2022-10-02T10:07:30.287Z"
   },
   {
    "duration": 24,
    "start_time": "2022-10-02T10:07:35.153Z"
   },
   {
    "duration": 20,
    "start_time": "2022-10-02T10:07:39.266Z"
   },
   {
    "duration": 38,
    "start_time": "2022-10-02T10:07:53.177Z"
   },
   {
    "duration": 24,
    "start_time": "2022-10-02T10:30:53.671Z"
   },
   {
    "duration": 32,
    "start_time": "2022-10-02T10:31:39.031Z"
   },
   {
    "duration": 27,
    "start_time": "2022-10-02T10:31:50.007Z"
   },
   {
    "duration": 16,
    "start_time": "2022-10-02T10:32:13.582Z"
   },
   {
    "duration": 24,
    "start_time": "2022-10-02T10:32:21.534Z"
   },
   {
    "duration": 24,
    "start_time": "2022-10-02T10:32:30.582Z"
   },
   {
    "duration": 28,
    "start_time": "2022-10-02T10:32:50.796Z"
   },
   {
    "duration": 16,
    "start_time": "2022-10-02T10:33:49.291Z"
   },
   {
    "duration": 5,
    "start_time": "2022-10-02T10:36:43.853Z"
   },
   {
    "duration": 23,
    "start_time": "2022-10-02T10:36:49.440Z"
   },
   {
    "duration": 161,
    "start_time": "2022-10-02T10:56:24.179Z"
   },
   {
    "duration": 9,
    "start_time": "2022-10-02T10:57:10.368Z"
   },
   {
    "duration": 14,
    "start_time": "2022-10-02T10:58:10.781Z"
   },
   {
    "duration": 13,
    "start_time": "2022-10-02T10:59:12.055Z"
   },
   {
    "duration": 326,
    "start_time": "2022-10-02T11:02:04.347Z"
   },
   {
    "duration": 279,
    "start_time": "2022-10-02T11:02:48.377Z"
   },
   {
    "duration": 281,
    "start_time": "2022-10-02T11:03:36.348Z"
   },
   {
    "duration": 14,
    "start_time": "2022-10-02T11:05:42.347Z"
   },
   {
    "duration": 52,
    "start_time": "2022-10-02T11:09:06.436Z"
   },
   {
    "duration": 4,
    "start_time": "2022-10-02T11:22:36.080Z"
   },
   {
    "duration": 52,
    "start_time": "2022-10-02T11:33:26.937Z"
   },
   {
    "duration": 115,
    "start_time": "2022-10-02T11:36:09.159Z"
   },
   {
    "duration": 88,
    "start_time": "2022-10-02T11:36:21.164Z"
   },
   {
    "duration": 85,
    "start_time": "2022-10-02T11:36:30.841Z"
   },
   {
    "duration": 22,
    "start_time": "2022-10-02T11:48:52.913Z"
   },
   {
    "duration": 21,
    "start_time": "2022-10-02T11:49:39.646Z"
   },
   {
    "duration": 104,
    "start_time": "2022-10-02T11:59:05.861Z"
   },
   {
    "duration": 300,
    "start_time": "2022-10-02T12:01:56.044Z"
   },
   {
    "duration": 218,
    "start_time": "2022-10-02T12:02:12.459Z"
   },
   {
    "duration": 201,
    "start_time": "2022-10-02T12:02:29.237Z"
   },
   {
    "duration": 209,
    "start_time": "2022-10-02T12:02:38.476Z"
   },
   {
    "duration": 216,
    "start_time": "2022-10-02T12:02:45.175Z"
   },
   {
    "duration": 213,
    "start_time": "2022-10-02T12:02:50.648Z"
   },
   {
    "duration": 181,
    "start_time": "2022-10-02T12:03:09.957Z"
   },
   {
    "duration": 107,
    "start_time": "2022-10-02T12:03:38.889Z"
   },
   {
    "duration": 249,
    "start_time": "2022-10-02T12:03:48.346Z"
   },
   {
    "duration": 202,
    "start_time": "2022-10-02T12:03:56.807Z"
   },
   {
    "duration": 69,
    "start_time": "2022-10-02T12:04:04.611Z"
   },
   {
    "duration": 143,
    "start_time": "2022-10-02T12:04:15.018Z"
   },
   {
    "duration": 109,
    "start_time": "2022-10-02T12:04:18.623Z"
   },
   {
    "duration": 64,
    "start_time": "2022-10-02T12:04:21.081Z"
   },
   {
    "duration": 198,
    "start_time": "2022-10-02T12:04:25.697Z"
   },
   {
    "duration": 205,
    "start_time": "2022-10-02T12:04:30.311Z"
   },
   {
    "duration": 209,
    "start_time": "2022-10-02T12:04:47.741Z"
   },
   {
    "duration": 298,
    "start_time": "2022-10-02T12:07:40.023Z"
   },
   {
    "duration": 213,
    "start_time": "2022-10-02T12:07:56.005Z"
   },
   {
    "duration": 233,
    "start_time": "2022-10-02T12:08:07.883Z"
   },
   {
    "duration": 219,
    "start_time": "2022-10-02T12:08:39.699Z"
   },
   {
    "duration": 248,
    "start_time": "2022-10-02T12:10:25.754Z"
   },
   {
    "duration": 195,
    "start_time": "2022-10-02T12:11:04.390Z"
   },
   {
    "duration": 393,
    "start_time": "2022-10-02T12:11:19.295Z"
   },
   {
    "duration": 292,
    "start_time": "2022-10-02T12:11:24.670Z"
   },
   {
    "duration": 254,
    "start_time": "2022-10-02T12:14:18.680Z"
   },
   {
    "duration": 244,
    "start_time": "2022-10-02T12:14:39.875Z"
   },
   {
    "duration": 238,
    "start_time": "2022-10-02T12:14:52.354Z"
   },
   {
    "duration": 263,
    "start_time": "2022-10-02T12:20:10.918Z"
   },
   {
    "duration": 272,
    "start_time": "2022-10-02T12:21:55.637Z"
   },
   {
    "duration": 385,
    "start_time": "2022-10-02T12:28:48.356Z"
   },
   {
    "duration": 24,
    "start_time": "2022-10-02T12:29:36.937Z"
   },
   {
    "duration": 248,
    "start_time": "2022-10-02T12:29:41.002Z"
   },
   {
    "duration": 239,
    "start_time": "2022-10-02T12:43:23.777Z"
   },
   {
    "duration": 9,
    "start_time": "2022-10-02T12:58:51.530Z"
   },
   {
    "duration": 14,
    "start_time": "2022-10-02T12:58:56.669Z"
   },
   {
    "duration": 17,
    "start_time": "2022-10-02T12:59:57.798Z"
   },
   {
    "duration": 11,
    "start_time": "2022-10-02T13:00:58.624Z"
   },
   {
    "duration": 38,
    "start_time": "2022-10-02T13:01:07.695Z"
   },
   {
    "duration": 10,
    "start_time": "2022-10-02T13:01:12.187Z"
   },
   {
    "duration": 8,
    "start_time": "2022-10-02T13:01:16.583Z"
   },
   {
    "duration": 1446,
    "start_time": "2022-10-02T13:04:44.542Z"
   },
   {
    "duration": 1144,
    "start_time": "2022-10-02T13:04:46.729Z"
   },
   {
    "duration": 10,
    "start_time": "2022-10-02T13:05:02.253Z"
   },
   {
    "duration": 9,
    "start_time": "2022-10-02T13:06:53.650Z"
   },
   {
    "duration": 15,
    "start_time": "2022-10-02T13:07:27.064Z"
   },
   {
    "duration": 11,
    "start_time": "2022-10-02T13:07:43.638Z"
   },
   {
    "duration": 12,
    "start_time": "2022-10-02T13:07:58.028Z"
   },
   {
    "duration": 14,
    "start_time": "2022-10-02T13:08:12.990Z"
   },
   {
    "duration": 13,
    "start_time": "2022-10-02T13:08:21.670Z"
   },
   {
    "duration": 24,
    "start_time": "2022-10-02T13:11:05.106Z"
   },
   {
    "duration": 16,
    "start_time": "2022-10-02T13:11:08.071Z"
   },
   {
    "duration": 12,
    "start_time": "2022-10-02T13:12:22.464Z"
   },
   {
    "duration": 11,
    "start_time": "2022-10-02T13:12:27.991Z"
   },
   {
    "duration": 74,
    "start_time": "2022-10-02T13:14:17.474Z"
   },
   {
    "duration": 910,
    "start_time": "2022-10-02T13:16:17.164Z"
   },
   {
    "duration": 9,
    "start_time": "2022-10-02T13:16:27.478Z"
   },
   {
    "duration": 43,
    "start_time": "2022-10-02T13:16:55.041Z"
   },
   {
    "duration": 16,
    "start_time": "2022-10-02T13:16:59.274Z"
   },
   {
    "duration": 6,
    "start_time": "2022-10-02T13:17:49.720Z"
   },
   {
    "duration": 6,
    "start_time": "2022-10-02T13:18:03.792Z"
   },
   {
    "duration": 12,
    "start_time": "2022-10-02T13:26:01.875Z"
   },
   {
    "duration": 11,
    "start_time": "2022-10-02T14:38:25.049Z"
   },
   {
    "duration": 12,
    "start_time": "2022-10-02T14:38:33.241Z"
   },
   {
    "duration": 1193,
    "start_time": "2022-10-02T14:38:44.278Z"
   },
   {
    "duration": 15,
    "start_time": "2022-10-02T14:38:45.474Z"
   },
   {
    "duration": 7,
    "start_time": "2022-10-02T14:38:45.491Z"
   },
   {
    "duration": 24,
    "start_time": "2022-10-02T14:38:45.499Z"
   },
   {
    "duration": 12,
    "start_time": "2022-10-02T14:38:45.526Z"
   },
   {
    "duration": 7,
    "start_time": "2022-10-02T14:38:45.539Z"
   },
   {
    "duration": 8,
    "start_time": "2022-10-02T14:38:45.547Z"
   },
   {
    "duration": 6,
    "start_time": "2022-10-02T14:38:45.557Z"
   },
   {
    "duration": 8,
    "start_time": "2022-10-02T14:38:45.565Z"
   },
   {
    "duration": 31,
    "start_time": "2022-10-02T14:38:45.574Z"
   },
   {
    "duration": 12,
    "start_time": "2022-10-02T14:38:45.607Z"
   },
   {
    "duration": 23,
    "start_time": "2022-10-02T14:38:45.620Z"
   },
   {
    "duration": 9,
    "start_time": "2022-10-02T14:38:45.645Z"
   },
   {
    "duration": 176,
    "start_time": "2022-10-02T14:38:45.656Z"
   },
   {
    "duration": 14,
    "start_time": "2022-10-02T14:38:45.834Z"
   },
   {
    "duration": 139,
    "start_time": "2022-10-02T14:38:45.849Z"
   },
   {
    "duration": 4,
    "start_time": "2022-10-02T14:38:45.989Z"
   },
   {
    "duration": 373,
    "start_time": "2022-10-02T14:38:46.000Z"
   },
   {
    "duration": 337,
    "start_time": "2022-10-02T14:38:46.374Z"
   },
   {
    "duration": 26,
    "start_time": "2022-10-02T14:38:46.713Z"
   },
   {
    "duration": 12,
    "start_time": "2022-10-02T14:38:46.741Z"
   },
   {
    "duration": 311,
    "start_time": "2022-10-02T14:38:46.754Z"
   },
   {
    "duration": 334,
    "start_time": "2022-10-02T14:38:47.066Z"
   },
   {
    "duration": 12,
    "start_time": "2022-10-02T14:38:47.404Z"
   },
   {
    "duration": 0,
    "start_time": "2022-10-02T14:38:47.417Z"
   },
   {
    "duration": 0,
    "start_time": "2022-10-02T14:38:47.423Z"
   },
   {
    "duration": 0,
    "start_time": "2022-10-02T14:38:47.424Z"
   },
   {
    "duration": 0,
    "start_time": "2022-10-02T14:38:47.426Z"
   },
   {
    "duration": 0,
    "start_time": "2022-10-02T14:38:47.426Z"
   },
   {
    "duration": 11,
    "start_time": "2022-10-02T14:38:52.730Z"
   },
   {
    "duration": 1169,
    "start_time": "2022-10-02T14:38:57.074Z"
   },
   {
    "duration": 12,
    "start_time": "2022-10-02T14:38:58.245Z"
   },
   {
    "duration": 7,
    "start_time": "2022-10-02T14:38:58.258Z"
   },
   {
    "duration": 15,
    "start_time": "2022-10-02T14:38:58.266Z"
   },
   {
    "duration": 32,
    "start_time": "2022-10-02T14:38:58.283Z"
   },
   {
    "duration": 12,
    "start_time": "2022-10-02T14:38:58.319Z"
   },
   {
    "duration": 7,
    "start_time": "2022-10-02T14:38:58.332Z"
   },
   {
    "duration": 8,
    "start_time": "2022-10-02T14:38:58.341Z"
   },
   {
    "duration": 7,
    "start_time": "2022-10-02T14:38:58.350Z"
   },
   {
    "duration": 16,
    "start_time": "2022-10-02T14:38:58.358Z"
   },
   {
    "duration": 7,
    "start_time": "2022-10-02T14:38:58.376Z"
   },
   {
    "duration": 38,
    "start_time": "2022-10-02T14:38:58.384Z"
   },
   {
    "duration": 11,
    "start_time": "2022-10-02T14:38:58.424Z"
   },
   {
    "duration": 170,
    "start_time": "2022-10-02T14:38:58.438Z"
   },
   {
    "duration": 19,
    "start_time": "2022-10-02T14:38:58.609Z"
   },
   {
    "duration": 147,
    "start_time": "2022-10-02T14:38:58.630Z"
   },
   {
    "duration": 4,
    "start_time": "2022-10-02T14:38:58.778Z"
   },
   {
    "duration": 396,
    "start_time": "2022-10-02T14:38:58.783Z"
   },
   {
    "duration": 338,
    "start_time": "2022-10-02T14:38:59.181Z"
   },
   {
    "duration": 22,
    "start_time": "2022-10-02T14:38:59.521Z"
   },
   {
    "duration": 15,
    "start_time": "2022-10-02T14:38:59.545Z"
   },
   {
    "duration": 296,
    "start_time": "2022-10-02T14:38:59.562Z"
   },
   {
    "duration": 352,
    "start_time": "2022-10-02T14:38:59.860Z"
   },
   {
    "duration": 0,
    "start_time": "2022-10-02T14:39:00.231Z"
   },
   {
    "duration": 0,
    "start_time": "2022-10-02T14:39:00.233Z"
   },
   {
    "duration": 0,
    "start_time": "2022-10-02T14:39:00.234Z"
   },
   {
    "duration": 0,
    "start_time": "2022-10-02T14:39:00.235Z"
   },
   {
    "duration": 0,
    "start_time": "2022-10-02T14:39:00.236Z"
   },
   {
    "duration": 0,
    "start_time": "2022-10-02T14:39:00.237Z"
   },
   {
    "duration": 11,
    "start_time": "2022-10-02T14:39:02.139Z"
   },
   {
    "duration": 10,
    "start_time": "2022-10-02T14:39:13.941Z"
   },
   {
    "duration": 13,
    "start_time": "2022-10-02T14:39:57.109Z"
   },
   {
    "duration": 7,
    "start_time": "2022-10-02T14:40:00.539Z"
   },
   {
    "duration": 11,
    "start_time": "2022-10-02T14:40:04.719Z"
   },
   {
    "duration": 13,
    "start_time": "2022-10-02T14:40:26.910Z"
   },
   {
    "duration": 150,
    "start_time": "2022-10-02T14:53:13.496Z"
   },
   {
    "duration": 11,
    "start_time": "2022-10-02T14:54:18.156Z"
   },
   {
    "duration": 152,
    "start_time": "2022-10-02T14:54:28.940Z"
   },
   {
    "duration": 14,
    "start_time": "2022-10-02T14:55:43.127Z"
   },
   {
    "duration": 52,
    "start_time": "2022-10-02T14:55:55.625Z"
   },
   {
    "duration": 14,
    "start_time": "2022-10-02T14:55:59.963Z"
   },
   {
    "duration": 163,
    "start_time": "2022-10-02T14:56:10.586Z"
   },
   {
    "duration": 14,
    "start_time": "2022-10-02T14:56:40.252Z"
   },
   {
    "duration": 140,
    "start_time": "2022-10-02T14:57:59.412Z"
   },
   {
    "duration": 262,
    "start_time": "2022-10-02T14:59:07.013Z"
   },
   {
    "duration": 145,
    "start_time": "2022-10-02T14:59:28.943Z"
   },
   {
    "duration": 263,
    "start_time": "2022-10-02T14:59:40.394Z"
   },
   {
    "duration": 214,
    "start_time": "2022-10-02T15:01:10.264Z"
   },
   {
    "duration": 219,
    "start_time": "2022-10-02T15:02:02.745Z"
   },
   {
    "duration": 44,
    "start_time": "2022-10-02T15:05:19.158Z"
   },
   {
    "duration": 20,
    "start_time": "2022-10-02T15:05:35.020Z"
   },
   {
    "duration": 136,
    "start_time": "2022-10-02T15:05:39.573Z"
   },
   {
    "duration": 6,
    "start_time": "2022-10-02T15:07:41.414Z"
   },
   {
    "duration": 5,
    "start_time": "2022-10-02T15:07:43.206Z"
   },
   {
    "duration": 4,
    "start_time": "2022-10-02T15:08:14.097Z"
   },
   {
    "duration": 6,
    "start_time": "2022-10-02T15:08:15.778Z"
   },
   {
    "duration": 583,
    "start_time": "2022-10-02T15:08:23.925Z"
   },
   {
    "duration": 5,
    "start_time": "2022-10-02T15:08:29.808Z"
   },
   {
    "duration": 10,
    "start_time": "2022-10-02T15:10:11.144Z"
   },
   {
    "duration": 13,
    "start_time": "2022-10-02T15:11:27.872Z"
   },
   {
    "duration": 10,
    "start_time": "2022-10-02T15:11:41.305Z"
   },
   {
    "duration": 11,
    "start_time": "2022-10-02T15:11:55.969Z"
   },
   {
    "duration": 14,
    "start_time": "2022-10-02T15:12:36.139Z"
   },
   {
    "duration": 15,
    "start_time": "2022-10-02T15:12:49.632Z"
   },
   {
    "duration": 13,
    "start_time": "2022-10-02T15:12:58.873Z"
   },
   {
    "duration": 15,
    "start_time": "2022-10-02T15:13:14.631Z"
   },
   {
    "duration": 15,
    "start_time": "2022-10-02T15:14:49.590Z"
   },
   {
    "duration": 16,
    "start_time": "2022-10-02T15:15:28.831Z"
   },
   {
    "duration": 12,
    "start_time": "2022-10-02T15:15:38.074Z"
   },
   {
    "duration": 16,
    "start_time": "2022-10-02T15:19:40.389Z"
   },
   {
    "duration": 14,
    "start_time": "2022-10-02T15:19:47.468Z"
   },
   {
    "duration": 16,
    "start_time": "2022-10-02T15:24:59.436Z"
   },
   {
    "duration": 142,
    "start_time": "2022-10-02T15:25:17.551Z"
   },
   {
    "duration": 779,
    "start_time": "2022-10-02T15:26:32.191Z"
   },
   {
    "duration": 175,
    "start_time": "2022-10-02T15:26:41.616Z"
   },
   {
    "duration": 73,
    "start_time": "2022-10-02T15:27:38.319Z"
   },
   {
    "duration": 55,
    "start_time": "2022-10-02T15:27:47.029Z"
   },
   {
    "duration": 14,
    "start_time": "2022-10-02T15:28:04.759Z"
   },
   {
    "duration": 116,
    "start_time": "2022-10-02T15:28:12.542Z"
   },
   {
    "duration": 849,
    "start_time": "2022-10-02T15:29:07.422Z"
   },
   {
    "duration": 849,
    "start_time": "2022-10-02T15:29:22.027Z"
   },
   {
    "duration": 264,
    "start_time": "2022-10-02T15:29:25.127Z"
   },
   {
    "duration": 262,
    "start_time": "2022-10-02T15:29:38.867Z"
   },
   {
    "duration": 11,
    "start_time": "2022-10-02T15:32:25.172Z"
   },
   {
    "duration": 291,
    "start_time": "2022-10-02T15:33:20.723Z"
   },
   {
    "duration": 133,
    "start_time": "2022-10-02T15:33:35.318Z"
   },
   {
    "duration": 296,
    "start_time": "2022-10-02T15:33:40.893Z"
   },
   {
    "duration": 119,
    "start_time": "2022-10-02T15:34:21.281Z"
   },
   {
    "duration": 46,
    "start_time": "2022-10-02T15:35:19.915Z"
   },
   {
    "duration": 275,
    "start_time": "2022-10-02T15:35:28.031Z"
   },
   {
    "duration": 231,
    "start_time": "2022-10-02T15:35:34.076Z"
   },
   {
    "duration": 201,
    "start_time": "2022-10-02T15:35:59.650Z"
   },
   {
    "duration": 211,
    "start_time": "2022-10-02T15:36:17.515Z"
   },
   {
    "duration": 282,
    "start_time": "2022-10-02T15:36:30.162Z"
   },
   {
    "duration": 199,
    "start_time": "2022-10-02T15:36:53.938Z"
   },
   {
    "duration": 197,
    "start_time": "2022-10-02T15:37:02.543Z"
   },
   {
    "duration": 128,
    "start_time": "2022-10-02T15:37:15.726Z"
   },
   {
    "duration": 123,
    "start_time": "2022-10-02T15:37:19.674Z"
   },
   {
    "duration": 9,
    "start_time": "2022-10-02T15:37:40.727Z"
   },
   {
    "duration": 117,
    "start_time": "2022-10-02T15:37:44.579Z"
   },
   {
    "duration": 13,
    "start_time": "2022-10-02T15:37:55.887Z"
   },
   {
    "duration": 102,
    "start_time": "2022-10-02T15:45:07.232Z"
   },
   {
    "duration": 45,
    "start_time": "2022-10-02T15:47:49.583Z"
   },
   {
    "duration": 46,
    "start_time": "2022-10-02T15:55:43.019Z"
   },
   {
    "duration": 81,
    "start_time": "2022-10-02T15:56:15.319Z"
   },
   {
    "duration": 60,
    "start_time": "2022-10-02T15:57:19.099Z"
   },
   {
    "duration": 75,
    "start_time": "2022-10-02T15:58:07.944Z"
   },
   {
    "duration": 2,
    "start_time": "2022-10-02T15:58:53.270Z"
   },
   {
    "duration": 64,
    "start_time": "2022-10-02T16:28:17.489Z"
   },
   {
    "duration": 45,
    "start_time": "2022-10-02T16:54:35.500Z"
   },
   {
    "duration": 21,
    "start_time": "2022-10-02T16:57:18.814Z"
   },
   {
    "duration": 5,
    "start_time": "2022-10-02T16:58:35.992Z"
   },
   {
    "duration": 8,
    "start_time": "2022-10-02T16:58:43.582Z"
   },
   {
    "duration": 8,
    "start_time": "2022-10-02T16:59:25.139Z"
   },
   {
    "duration": 8,
    "start_time": "2022-10-02T16:59:36.406Z"
   },
   {
    "duration": 7,
    "start_time": "2022-10-02T16:59:54.265Z"
   },
   {
    "duration": 9,
    "start_time": "2022-10-02T17:00:30.631Z"
   },
   {
    "duration": 8,
    "start_time": "2022-10-02T17:01:11.002Z"
   },
   {
    "duration": 8,
    "start_time": "2022-10-02T17:02:08.089Z"
   },
   {
    "duration": 8,
    "start_time": "2022-10-02T17:02:21.142Z"
   },
   {
    "duration": 5,
    "start_time": "2022-10-02T17:02:26.952Z"
   },
   {
    "duration": 8,
    "start_time": "2022-10-02T17:02:33.886Z"
   },
   {
    "duration": 4,
    "start_time": "2022-10-02T17:02:36.503Z"
   },
   {
    "duration": 5,
    "start_time": "2022-10-02T17:04:54.690Z"
   },
   {
    "duration": 6,
    "start_time": "2022-10-02T17:04:59.446Z"
   },
   {
    "duration": 4,
    "start_time": "2022-10-02T17:05:06.368Z"
   },
   {
    "duration": 4,
    "start_time": "2022-10-02T17:05:12.059Z"
   },
   {
    "duration": 8,
    "start_time": "2022-10-02T17:05:43.346Z"
   },
   {
    "duration": 8,
    "start_time": "2022-10-02T17:05:52.080Z"
   },
   {
    "duration": 8,
    "start_time": "2022-10-02T17:05:57.281Z"
   },
   {
    "duration": 8,
    "start_time": "2022-10-02T17:06:05.109Z"
   },
   {
    "duration": 6,
    "start_time": "2022-10-02T17:06:09.587Z"
   },
   {
    "duration": 5,
    "start_time": "2022-10-02T17:06:12.321Z"
   },
   {
    "duration": 8,
    "start_time": "2022-10-02T17:06:14.896Z"
   },
   {
    "duration": 5,
    "start_time": "2022-10-02T17:06:18.631Z"
   },
   {
    "duration": 6,
    "start_time": "2022-10-02T17:06:44.287Z"
   },
   {
    "duration": 7,
    "start_time": "2022-10-02T17:06:49.872Z"
   },
   {
    "duration": 6,
    "start_time": "2022-10-02T17:06:51.487Z"
   },
   {
    "duration": 5,
    "start_time": "2022-10-02T17:06:53.860Z"
   },
   {
    "duration": 1121,
    "start_time": "2022-10-02T17:07:00.759Z"
   },
   {
    "duration": 13,
    "start_time": "2022-10-02T17:07:01.882Z"
   },
   {
    "duration": 13,
    "start_time": "2022-10-02T17:07:01.897Z"
   },
   {
    "duration": 28,
    "start_time": "2022-10-02T17:07:01.911Z"
   },
   {
    "duration": 13,
    "start_time": "2022-10-02T17:07:01.942Z"
   },
   {
    "duration": 17,
    "start_time": "2022-10-02T17:07:01.957Z"
   },
   {
    "duration": 12,
    "start_time": "2022-10-02T17:07:01.977Z"
   },
   {
    "duration": 7,
    "start_time": "2022-10-02T17:07:01.991Z"
   },
   {
    "duration": 30,
    "start_time": "2022-10-02T17:07:01.999Z"
   },
   {
    "duration": 13,
    "start_time": "2022-10-02T17:07:02.031Z"
   },
   {
    "duration": 10,
    "start_time": "2022-10-02T17:07:02.045Z"
   },
   {
    "duration": 22,
    "start_time": "2022-10-02T17:07:02.057Z"
   },
   {
    "duration": 12,
    "start_time": "2022-10-02T17:07:02.080Z"
   },
   {
    "duration": 191,
    "start_time": "2022-10-02T17:07:02.096Z"
   },
   {
    "duration": 29,
    "start_time": "2022-10-02T17:07:02.289Z"
   },
   {
    "duration": 197,
    "start_time": "2022-10-02T17:07:02.319Z"
   },
   {
    "duration": 4,
    "start_time": "2022-10-02T17:07:02.518Z"
   },
   {
    "duration": 403,
    "start_time": "2022-10-02T17:07:02.524Z"
   },
   {
    "duration": 346,
    "start_time": "2022-10-02T17:07:02.929Z"
   },
   {
    "duration": 26,
    "start_time": "2022-10-02T17:07:03.277Z"
   },
   {
    "duration": 18,
    "start_time": "2022-10-02T17:07:03.310Z"
   },
   {
    "duration": 270,
    "start_time": "2022-10-02T17:07:03.329Z"
   },
   {
    "duration": 326,
    "start_time": "2022-10-02T17:07:03.602Z"
   },
   {
    "duration": 11,
    "start_time": "2022-10-02T17:07:03.929Z"
   },
   {
    "duration": 152,
    "start_time": "2022-10-02T17:07:03.941Z"
   },
   {
    "duration": 20,
    "start_time": "2022-10-02T17:07:04.101Z"
   },
   {
    "duration": 169,
    "start_time": "2022-10-02T17:07:04.123Z"
   },
   {
    "duration": 17,
    "start_time": "2022-10-02T17:07:04.294Z"
   },
   {
    "duration": 139,
    "start_time": "2022-10-02T17:07:04.312Z"
   },
   {
    "duration": 8,
    "start_time": "2022-10-02T17:07:04.453Z"
   },
   {
    "duration": 34,
    "start_time": "2022-10-02T17:07:04.463Z"
   },
   {
    "duration": 6,
    "start_time": "2022-10-02T17:07:04.531Z"
   },
   {
    "duration": 5,
    "start_time": "2022-10-02T17:08:09.241Z"
   },
   {
    "duration": 5,
    "start_time": "2022-10-02T17:08:16.479Z"
   },
   {
    "duration": 6,
    "start_time": "2022-10-02T17:08:23.358Z"
   },
   {
    "duration": 8,
    "start_time": "2022-10-02T17:08:24.868Z"
   },
   {
    "duration": 5,
    "start_time": "2022-10-02T17:08:41.363Z"
   },
   {
    "duration": 8,
    "start_time": "2022-10-02T17:08:47.965Z"
   },
   {
    "duration": 8,
    "start_time": "2022-10-02T17:08:51.049Z"
   },
   {
    "duration": 4,
    "start_time": "2022-10-02T17:08:54.692Z"
   },
   {
    "duration": 5,
    "start_time": "2022-10-02T17:09:32.223Z"
   },
   {
    "duration": 5,
    "start_time": "2022-10-02T17:09:57.287Z"
   },
   {
    "duration": 6,
    "start_time": "2022-10-02T17:10:16.586Z"
   },
   {
    "duration": 7,
    "start_time": "2022-10-02T17:10:20.311Z"
   },
   {
    "duration": 5,
    "start_time": "2022-10-02T17:10:22.888Z"
   },
   {
    "duration": 8,
    "start_time": "2022-10-02T17:11:10.382Z"
   },
   {
    "duration": 8,
    "start_time": "2022-10-02T17:11:12.579Z"
   },
   {
    "duration": 8,
    "start_time": "2022-10-02T17:11:18.744Z"
   },
   {
    "duration": 8,
    "start_time": "2022-10-02T17:11:24.820Z"
   },
   {
    "duration": 4,
    "start_time": "2022-10-02T17:11:27.757Z"
   },
   {
    "duration": 4,
    "start_time": "2022-10-02T17:20:22.341Z"
   },
   {
    "duration": 5,
    "start_time": "2022-10-02T17:25:16.233Z"
   },
   {
    "duration": 54,
    "start_time": "2022-10-02T17:31:02.992Z"
   },
   {
    "duration": 9,
    "start_time": "2022-10-02T17:32:33.836Z"
   },
   {
    "duration": 8,
    "start_time": "2022-10-02T17:32:49.683Z"
   },
   {
    "duration": 12,
    "start_time": "2022-10-02T17:33:12.478Z"
   },
   {
    "duration": 12,
    "start_time": "2022-10-02T17:33:29.835Z"
   },
   {
    "duration": 8,
    "start_time": "2022-10-02T17:33:32.939Z"
   },
   {
    "duration": 5,
    "start_time": "2022-10-02T17:33:35.118Z"
   },
   {
    "duration": 4,
    "start_time": "2022-10-02T17:36:36.959Z"
   },
   {
    "duration": 5,
    "start_time": "2022-10-02T17:36:40.348Z"
   },
   {
    "duration": 47,
    "start_time": "2022-10-02T17:44:33.033Z"
   },
   {
    "duration": 8,
    "start_time": "2022-10-02T17:51:56.179Z"
   },
   {
    "duration": 15,
    "start_time": "2022-10-02T17:52:04.091Z"
   },
   {
    "duration": 12,
    "start_time": "2022-10-02T17:52:22.418Z"
   },
   {
    "duration": 18,
    "start_time": "2022-10-02T17:52:27.541Z"
   },
   {
    "duration": 16,
    "start_time": "2022-10-02T18:02:28.584Z"
   },
   {
    "duration": 10,
    "start_time": "2022-10-02T18:03:10.196Z"
   },
   {
    "duration": 3,
    "start_time": "2022-10-02T18:04:28.333Z"
   },
   {
    "duration": 16,
    "start_time": "2022-10-02T18:04:36.308Z"
   },
   {
    "duration": 6,
    "start_time": "2022-10-02T18:12:05.611Z"
   },
   {
    "duration": 8,
    "start_time": "2022-10-02T18:12:16.007Z"
   },
   {
    "duration": 9,
    "start_time": "2022-10-02T18:12:21.609Z"
   },
   {
    "duration": 12,
    "start_time": "2022-10-02T18:12:46.529Z"
   },
   {
    "duration": 56,
    "start_time": "2022-10-02T18:13:23.504Z"
   },
   {
    "duration": 135,
    "start_time": "2022-10-02T18:13:47.684Z"
   },
   {
    "duration": 141,
    "start_time": "2022-10-02T18:14:19.151Z"
   },
   {
    "duration": 151,
    "start_time": "2022-10-02T18:14:21.341Z"
   },
   {
    "duration": 166,
    "start_time": "2022-10-02T18:14:55.891Z"
   },
   {
    "duration": 158,
    "start_time": "2022-10-02T18:15:40.004Z"
   },
   {
    "duration": 121,
    "start_time": "2022-10-02T18:15:48.477Z"
   },
   {
    "duration": 104,
    "start_time": "2022-10-02T18:15:52.226Z"
   },
   {
    "duration": 113,
    "start_time": "2022-10-02T18:15:57.339Z"
   },
   {
    "duration": 217,
    "start_time": "2022-10-02T18:16:00.167Z"
   },
   {
    "duration": 136,
    "start_time": "2022-10-02T18:16:03.104Z"
   },
   {
    "duration": 140,
    "start_time": "2022-10-02T18:16:31.825Z"
   },
   {
    "duration": 57,
    "start_time": "2022-10-02T18:16:40.405Z"
   },
   {
    "duration": 10,
    "start_time": "2022-10-02T18:16:43.670Z"
   },
   {
    "duration": 137,
    "start_time": "2022-10-02T18:17:40.887Z"
   },
   {
    "duration": 10,
    "start_time": "2022-10-02T18:26:10.156Z"
   },
   {
    "duration": 11,
    "start_time": "2022-10-02T18:26:44.350Z"
   },
   {
    "duration": 10,
    "start_time": "2022-10-02T18:26:48.841Z"
   },
   {
    "duration": 14,
    "start_time": "2022-10-02T18:27:03.364Z"
   },
   {
    "duration": 139,
    "start_time": "2022-10-02T18:28:00.114Z"
   },
   {
    "duration": 152,
    "start_time": "2022-10-02T18:28:44.587Z"
   },
   {
    "duration": 236,
    "start_time": "2022-10-02T18:31:17.407Z"
   },
   {
    "duration": 183,
    "start_time": "2022-10-02T18:31:40.748Z"
   },
   {
    "duration": 47,
    "start_time": "2022-10-02T18:31:54.789Z"
   },
   {
    "duration": 13,
    "start_time": "2022-10-02T18:32:35.890Z"
   },
   {
    "duration": 13,
    "start_time": "2022-10-02T18:33:15.469Z"
   },
   {
    "duration": 14,
    "start_time": "2022-10-02T18:33:20.592Z"
   },
   {
    "duration": 188,
    "start_time": "2022-10-02T18:34:16.159Z"
   },
   {
    "duration": 201,
    "start_time": "2022-10-02T18:34:37.506Z"
   },
   {
    "duration": 199,
    "start_time": "2022-10-02T18:34:42.368Z"
   },
   {
    "duration": 141,
    "start_time": "2022-10-02T18:35:25.513Z"
   },
   {
    "duration": 203,
    "start_time": "2022-10-02T18:35:31.420Z"
   },
   {
    "duration": 97,
    "start_time": "2022-10-02T18:36:47.105Z"
   },
   {
    "duration": 14,
    "start_time": "2022-10-02T18:37:07.706Z"
   },
   {
    "duration": 95,
    "start_time": "2022-10-02T18:37:11.105Z"
   },
   {
    "duration": 171,
    "start_time": "2022-10-02T18:37:21.430Z"
   },
   {
    "duration": 14,
    "start_time": "2022-10-02T18:37:44.062Z"
   },
   {
    "duration": 163,
    "start_time": "2022-10-02T18:37:46.465Z"
   },
   {
    "duration": 13,
    "start_time": "2022-10-02T18:37:50.712Z"
   },
   {
    "duration": 209,
    "start_time": "2022-10-02T18:37:54.024Z"
   },
   {
    "duration": 177,
    "start_time": "2022-10-02T18:38:00.639Z"
   },
   {
    "duration": 242,
    "start_time": "2022-10-02T18:38:04.414Z"
   },
   {
    "duration": 117,
    "start_time": "2022-10-02T18:38:21.379Z"
   },
   {
    "duration": 174,
    "start_time": "2022-10-02T18:39:06.752Z"
   },
   {
    "duration": 190,
    "start_time": "2022-10-02T18:39:18.780Z"
   },
   {
    "duration": 216,
    "start_time": "2022-10-02T18:39:24.109Z"
   },
   {
    "duration": 192,
    "start_time": "2022-10-02T18:39:29.453Z"
   },
   {
    "duration": 295,
    "start_time": "2022-10-02T18:39:34.574Z"
   },
   {
    "duration": 183,
    "start_time": "2022-10-02T18:39:43.917Z"
   },
   {
    "duration": 193,
    "start_time": "2022-10-02T18:40:05.489Z"
   },
   {
    "duration": 173,
    "start_time": "2022-10-02T18:40:18.530Z"
   },
   {
    "duration": 14,
    "start_time": "2022-10-02T18:40:53.591Z"
   },
   {
    "duration": 179,
    "start_time": "2022-10-02T18:41:18.054Z"
   },
   {
    "duration": 48,
    "start_time": "2022-10-02T18:41:34.720Z"
   },
   {
    "duration": 17,
    "start_time": "2022-10-02T18:47:15.228Z"
   },
   {
    "duration": 198,
    "start_time": "2022-10-02T18:55:39.119Z"
   },
   {
    "duration": 14,
    "start_time": "2022-10-02T19:01:40.146Z"
   },
   {
    "duration": 180,
    "start_time": "2022-10-02T19:01:43.815Z"
   },
   {
    "duration": 42,
    "start_time": "2022-10-02T19:06:56.733Z"
   },
   {
    "duration": 7,
    "start_time": "2022-10-02T19:11:52.264Z"
   },
   {
    "duration": 7,
    "start_time": "2022-10-02T19:11:54.044Z"
   },
   {
    "duration": 12,
    "start_time": "2022-10-02T19:12:09.847Z"
   },
   {
    "duration": 266,
    "start_time": "2022-10-02T19:25:45.571Z"
   },
   {
    "duration": 12,
    "start_time": "2022-10-02T19:25:58.594Z"
   },
   {
    "duration": 80,
    "start_time": "2022-10-02T19:34:14.725Z"
   },
   {
    "duration": 13,
    "start_time": "2022-10-02T19:36:13.519Z"
   },
   {
    "duration": 13,
    "start_time": "2022-10-02T19:36:32.547Z"
   },
   {
    "duration": 13,
    "start_time": "2022-10-02T19:36:54.915Z"
   },
   {
    "duration": 13,
    "start_time": "2022-10-02T19:37:19.763Z"
   },
   {
    "duration": 13,
    "start_time": "2022-10-02T19:37:43.070Z"
   },
   {
    "duration": 13,
    "start_time": "2022-10-02T19:37:45.727Z"
   },
   {
    "duration": 121,
    "start_time": "2022-10-02T19:39:03.346Z"
   },
   {
    "duration": 249,
    "start_time": "2022-10-02T19:39:16.614Z"
   },
   {
    "duration": 187,
    "start_time": "2022-10-02T19:39:26.375Z"
   },
   {
    "duration": 182,
    "start_time": "2022-10-02T19:39:43.720Z"
   },
   {
    "duration": 182,
    "start_time": "2022-10-02T19:40:14.882Z"
   },
   {
    "duration": 178,
    "start_time": "2022-10-02T19:40:54.948Z"
   },
   {
    "duration": 56,
    "start_time": "2022-10-02T19:42:40.812Z"
   },
   {
    "duration": 76,
    "start_time": "2022-10-02T19:44:04.639Z"
   },
   {
    "duration": 108,
    "start_time": "2022-10-02T19:45:57.425Z"
   },
   {
    "duration": 56,
    "start_time": "2022-10-02T20:04:07.786Z"
   },
   {
    "duration": 74,
    "start_time": "2022-10-02T20:16:00.712Z"
   },
   {
    "duration": 1091,
    "start_time": "2022-10-03T11:45:09.251Z"
   },
   {
    "duration": 14,
    "start_time": "2022-10-03T11:45:10.343Z"
   },
   {
    "duration": 16,
    "start_time": "2022-10-03T11:45:10.359Z"
   },
   {
    "duration": 21,
    "start_time": "2022-10-03T11:45:10.376Z"
   },
   {
    "duration": 18,
    "start_time": "2022-10-03T11:45:10.398Z"
   },
   {
    "duration": 9,
    "start_time": "2022-10-03T11:45:10.417Z"
   },
   {
    "duration": 10,
    "start_time": "2022-10-03T11:45:10.428Z"
   },
   {
    "duration": 8,
    "start_time": "2022-10-03T11:45:10.439Z"
   },
   {
    "duration": 5,
    "start_time": "2022-10-03T11:45:10.448Z"
   },
   {
    "duration": 15,
    "start_time": "2022-10-03T11:45:10.455Z"
   },
   {
    "duration": 6,
    "start_time": "2022-10-03T11:45:10.472Z"
   },
   {
    "duration": 50,
    "start_time": "2022-10-03T11:45:10.479Z"
   },
   {
    "duration": 10,
    "start_time": "2022-10-03T11:45:10.530Z"
   },
   {
    "duration": 154,
    "start_time": "2022-10-03T11:45:10.543Z"
   },
   {
    "duration": 14,
    "start_time": "2022-10-03T11:45:10.699Z"
   },
   {
    "duration": 129,
    "start_time": "2022-10-03T11:45:10.715Z"
   },
   {
    "duration": 4,
    "start_time": "2022-10-03T11:45:10.846Z"
   },
   {
    "duration": 367,
    "start_time": "2022-10-03T11:45:10.851Z"
   },
   {
    "duration": 313,
    "start_time": "2022-10-03T11:45:11.219Z"
   },
   {
    "duration": 21,
    "start_time": "2022-10-03T11:45:11.534Z"
   },
   {
    "duration": 16,
    "start_time": "2022-10-03T11:45:11.556Z"
   },
   {
    "duration": 293,
    "start_time": "2022-10-03T11:45:11.573Z"
   },
   {
    "duration": 296,
    "start_time": "2022-10-03T11:45:11.867Z"
   },
   {
    "duration": 9,
    "start_time": "2022-10-03T11:45:12.164Z"
   },
   {
    "duration": 137,
    "start_time": "2022-10-03T11:45:12.175Z"
   },
   {
    "duration": 10,
    "start_time": "2022-10-03T11:45:12.313Z"
   },
   {
    "duration": 150,
    "start_time": "2022-10-03T11:45:12.324Z"
   },
   {
    "duration": 12,
    "start_time": "2022-10-03T11:45:12.475Z"
   },
   {
    "duration": 109,
    "start_time": "2022-10-03T11:45:12.488Z"
   },
   {
    "duration": 113,
    "start_time": "2022-10-03T11:45:12.598Z"
   },
   {
    "duration": 0,
    "start_time": "2022-10-03T11:45:12.713Z"
   },
   {
    "duration": 0,
    "start_time": "2022-10-03T11:45:12.714Z"
   },
   {
    "duration": 0,
    "start_time": "2022-10-03T11:45:12.716Z"
   },
   {
    "duration": 0,
    "start_time": "2022-10-03T11:45:12.717Z"
   },
   {
    "duration": 0,
    "start_time": "2022-10-03T11:45:12.719Z"
   },
   {
    "duration": 0,
    "start_time": "2022-10-03T11:45:12.720Z"
   },
   {
    "duration": 0,
    "start_time": "2022-10-03T11:45:12.721Z"
   },
   {
    "duration": 0,
    "start_time": "2022-10-03T11:45:12.722Z"
   },
   {
    "duration": 0,
    "start_time": "2022-10-03T11:45:12.724Z"
   },
   {
    "duration": 0,
    "start_time": "2022-10-03T11:45:12.725Z"
   },
   {
    "duration": 0,
    "start_time": "2022-10-03T11:45:12.726Z"
   },
   {
    "duration": 0,
    "start_time": "2022-10-03T11:45:12.727Z"
   },
   {
    "duration": 0,
    "start_time": "2022-10-03T11:45:12.728Z"
   },
   {
    "duration": 0,
    "start_time": "2022-10-03T11:45:12.729Z"
   },
   {
    "duration": 1,
    "start_time": "2022-10-03T11:45:12.730Z"
   },
   {
    "duration": 0,
    "start_time": "2022-10-03T11:45:12.731Z"
   },
   {
    "duration": 0,
    "start_time": "2022-10-03T11:45:12.733Z"
   },
   {
    "duration": 0,
    "start_time": "2022-10-03T11:45:12.734Z"
   },
   {
    "duration": 0,
    "start_time": "2022-10-03T11:45:12.735Z"
   },
   {
    "duration": 0,
    "start_time": "2022-10-03T11:45:12.736Z"
   },
   {
    "duration": 0,
    "start_time": "2022-10-03T11:45:12.737Z"
   },
   {
    "duration": 0,
    "start_time": "2022-10-03T11:45:12.738Z"
   },
   {
    "duration": 0,
    "start_time": "2022-10-03T11:45:12.739Z"
   },
   {
    "duration": 0,
    "start_time": "2022-10-03T11:45:12.740Z"
   },
   {
    "duration": 1137,
    "start_time": "2022-10-03T11:46:40.210Z"
   },
   {
    "duration": 13,
    "start_time": "2022-10-03T11:46:41.348Z"
   },
   {
    "duration": 9,
    "start_time": "2022-10-03T11:46:41.362Z"
   },
   {
    "duration": 14,
    "start_time": "2022-10-03T11:46:41.373Z"
   },
   {
    "duration": 33,
    "start_time": "2022-10-03T11:46:41.388Z"
   },
   {
    "duration": 8,
    "start_time": "2022-10-03T11:46:41.423Z"
   },
   {
    "duration": 6,
    "start_time": "2022-10-03T11:46:41.432Z"
   },
   {
    "duration": 5,
    "start_time": "2022-10-03T11:46:41.440Z"
   },
   {
    "duration": 6,
    "start_time": "2022-10-03T11:46:41.446Z"
   },
   {
    "duration": 11,
    "start_time": "2022-10-03T11:46:41.455Z"
   },
   {
    "duration": 7,
    "start_time": "2022-10-03T11:46:41.467Z"
   },
   {
    "duration": 44,
    "start_time": "2022-10-03T11:46:41.475Z"
   },
   {
    "duration": 10,
    "start_time": "2022-10-03T11:46:41.521Z"
   },
   {
    "duration": 179,
    "start_time": "2022-10-03T11:46:41.532Z"
   },
   {
    "duration": 15,
    "start_time": "2022-10-03T11:46:41.712Z"
   },
   {
    "duration": 148,
    "start_time": "2022-10-03T11:46:41.728Z"
   },
   {
    "duration": 4,
    "start_time": "2022-10-03T11:46:41.878Z"
   },
   {
    "duration": 369,
    "start_time": "2022-10-03T11:46:41.884Z"
   },
   {
    "duration": 313,
    "start_time": "2022-10-03T11:46:42.255Z"
   },
   {
    "duration": 20,
    "start_time": "2022-10-03T11:46:42.570Z"
   },
   {
    "duration": 12,
    "start_time": "2022-10-03T11:46:42.592Z"
   },
   {
    "duration": 266,
    "start_time": "2022-10-03T11:46:42.606Z"
   },
   {
    "duration": 330,
    "start_time": "2022-10-03T11:46:42.874Z"
   },
   {
    "duration": 9,
    "start_time": "2022-10-03T11:46:43.209Z"
   },
   {
    "duration": 134,
    "start_time": "2022-10-03T11:46:43.219Z"
   },
   {
    "duration": 59,
    "start_time": "2022-10-03T11:46:43.354Z"
   },
   {
    "duration": 171,
    "start_time": "2022-10-03T11:46:43.415Z"
   },
   {
    "duration": 27,
    "start_time": "2022-10-03T11:46:43.589Z"
   },
   {
    "duration": 112,
    "start_time": "2022-10-03T11:46:43.618Z"
   },
   {
    "duration": 13,
    "start_time": "2022-10-03T11:46:43.732Z"
   },
   {
    "duration": 178,
    "start_time": "2022-10-03T11:46:43.746Z"
   },
   {
    "duration": 11,
    "start_time": "2022-10-03T11:46:43.926Z"
   },
   {
    "duration": 177,
    "start_time": "2022-10-03T11:46:43.939Z"
   },
   {
    "duration": 73,
    "start_time": "2022-10-03T11:46:44.117Z"
   },
   {
    "duration": 0,
    "start_time": "2022-10-03T11:46:44.191Z"
   },
   {
    "duration": 0,
    "start_time": "2022-10-03T11:46:44.193Z"
   },
   {
    "duration": 0,
    "start_time": "2022-10-03T11:46:44.194Z"
   },
   {
    "duration": 0,
    "start_time": "2022-10-03T11:46:44.195Z"
   },
   {
    "duration": 0,
    "start_time": "2022-10-03T11:46:44.196Z"
   },
   {
    "duration": 0,
    "start_time": "2022-10-03T11:46:44.198Z"
   },
   {
    "duration": 0,
    "start_time": "2022-10-03T11:46:44.199Z"
   },
   {
    "duration": 0,
    "start_time": "2022-10-03T11:46:44.200Z"
   },
   {
    "duration": 0,
    "start_time": "2022-10-03T11:46:44.201Z"
   },
   {
    "duration": 0,
    "start_time": "2022-10-03T11:46:44.202Z"
   },
   {
    "duration": 0,
    "start_time": "2022-10-03T11:46:44.204Z"
   },
   {
    "duration": 0,
    "start_time": "2022-10-03T11:46:44.205Z"
   },
   {
    "duration": 0,
    "start_time": "2022-10-03T11:46:44.206Z"
   },
   {
    "duration": 0,
    "start_time": "2022-10-03T11:46:44.207Z"
   },
   {
    "duration": 0,
    "start_time": "2022-10-03T11:46:44.209Z"
   },
   {
    "duration": 0,
    "start_time": "2022-10-03T11:46:44.210Z"
   },
   {
    "duration": 0,
    "start_time": "2022-10-03T11:46:44.211Z"
   },
   {
    "duration": 0,
    "start_time": "2022-10-03T11:46:44.212Z"
   },
   {
    "duration": 0,
    "start_time": "2022-10-03T11:46:44.213Z"
   },
   {
    "duration": 1107,
    "start_time": "2022-10-03T11:47:11.044Z"
   },
   {
    "duration": 13,
    "start_time": "2022-10-03T11:47:12.153Z"
   },
   {
    "duration": 7,
    "start_time": "2022-10-03T11:47:12.168Z"
   },
   {
    "duration": 15,
    "start_time": "2022-10-03T11:47:12.176Z"
   },
   {
    "duration": 29,
    "start_time": "2022-10-03T11:47:12.193Z"
   },
   {
    "duration": 4,
    "start_time": "2022-10-03T11:47:12.224Z"
   },
   {
    "duration": 6,
    "start_time": "2022-10-03T11:47:12.230Z"
   },
   {
    "duration": 7,
    "start_time": "2022-10-03T11:47:12.238Z"
   },
   {
    "duration": 6,
    "start_time": "2022-10-03T11:47:12.247Z"
   },
   {
    "duration": 12,
    "start_time": "2022-10-03T11:47:12.254Z"
   },
   {
    "duration": 9,
    "start_time": "2022-10-03T11:47:12.267Z"
   },
   {
    "duration": 45,
    "start_time": "2022-10-03T11:47:12.277Z"
   },
   {
    "duration": 11,
    "start_time": "2022-10-03T11:47:12.324Z"
   },
   {
    "duration": 176,
    "start_time": "2022-10-03T11:47:12.338Z"
   },
   {
    "duration": 15,
    "start_time": "2022-10-03T11:47:12.515Z"
   },
   {
    "duration": 149,
    "start_time": "2022-10-03T11:47:12.531Z"
   },
   {
    "duration": 3,
    "start_time": "2022-10-03T11:47:12.682Z"
   },
   {
    "duration": 383,
    "start_time": "2022-10-03T11:47:12.686Z"
   },
   {
    "duration": 318,
    "start_time": "2022-10-03T11:47:13.070Z"
   },
   {
    "duration": 21,
    "start_time": "2022-10-03T11:47:13.390Z"
   },
   {
    "duration": 12,
    "start_time": "2022-10-03T11:47:13.413Z"
   },
   {
    "duration": 263,
    "start_time": "2022-10-03T11:47:13.426Z"
   },
   {
    "duration": 296,
    "start_time": "2022-10-03T11:47:13.691Z"
   },
   {
    "duration": 10,
    "start_time": "2022-10-03T11:47:13.988Z"
   },
   {
    "duration": 131,
    "start_time": "2022-10-03T11:47:14.009Z"
   },
   {
    "duration": 10,
    "start_time": "2022-10-03T11:47:14.141Z"
   },
   {
    "duration": 144,
    "start_time": "2022-10-03T11:47:14.152Z"
   },
   {
    "duration": 19,
    "start_time": "2022-10-03T11:47:14.298Z"
   },
   {
    "duration": 120,
    "start_time": "2022-10-03T11:47:14.318Z"
   },
   {
    "duration": 16,
    "start_time": "2022-10-03T11:47:14.439Z"
   },
   {
    "duration": 231,
    "start_time": "2022-10-03T11:47:14.456Z"
   },
   {
    "duration": 20,
    "start_time": "2022-10-03T11:47:14.689Z"
   },
   {
    "duration": 182,
    "start_time": "2022-10-03T11:47:14.710Z"
   },
   {
    "duration": 18,
    "start_time": "2022-10-03T11:47:14.894Z"
   },
   {
    "duration": 173,
    "start_time": "2022-10-03T11:47:14.913Z"
   },
   {
    "duration": 78,
    "start_time": "2022-10-03T11:47:15.087Z"
   },
   {
    "duration": 0,
    "start_time": "2022-10-03T11:47:15.167Z"
   },
   {
    "duration": 0,
    "start_time": "2022-10-03T11:47:15.168Z"
   },
   {
    "duration": 0,
    "start_time": "2022-10-03T11:47:15.170Z"
   },
   {
    "duration": 0,
    "start_time": "2022-10-03T11:47:15.171Z"
   },
   {
    "duration": 0,
    "start_time": "2022-10-03T11:47:15.172Z"
   },
   {
    "duration": 0,
    "start_time": "2022-10-03T11:47:15.173Z"
   },
   {
    "duration": 0,
    "start_time": "2022-10-03T11:47:15.174Z"
   },
   {
    "duration": 0,
    "start_time": "2022-10-03T11:47:15.175Z"
   },
   {
    "duration": 0,
    "start_time": "2022-10-03T11:47:15.175Z"
   },
   {
    "duration": 0,
    "start_time": "2022-10-03T11:47:15.176Z"
   },
   {
    "duration": 0,
    "start_time": "2022-10-03T11:47:15.177Z"
   },
   {
    "duration": 0,
    "start_time": "2022-10-03T11:47:15.178Z"
   },
   {
    "duration": 0,
    "start_time": "2022-10-03T11:47:15.179Z"
   },
   {
    "duration": 0,
    "start_time": "2022-10-03T11:47:15.180Z"
   },
   {
    "duration": 0,
    "start_time": "2022-10-03T11:47:15.181Z"
   },
   {
    "duration": 1134,
    "start_time": "2022-10-03T11:47:34.407Z"
   },
   {
    "duration": 13,
    "start_time": "2022-10-03T11:47:35.542Z"
   },
   {
    "duration": 7,
    "start_time": "2022-10-03T11:47:35.556Z"
   },
   {
    "duration": 13,
    "start_time": "2022-10-03T11:47:35.565Z"
   },
   {
    "duration": 30,
    "start_time": "2022-10-03T11:47:35.580Z"
   },
   {
    "duration": 5,
    "start_time": "2022-10-03T11:47:35.611Z"
   },
   {
    "duration": 7,
    "start_time": "2022-10-03T11:47:35.617Z"
   },
   {
    "duration": 5,
    "start_time": "2022-10-03T11:47:35.626Z"
   },
   {
    "duration": 6,
    "start_time": "2022-10-03T11:47:35.632Z"
   },
   {
    "duration": 14,
    "start_time": "2022-10-03T11:47:35.640Z"
   },
   {
    "duration": 9,
    "start_time": "2022-10-03T11:47:35.656Z"
   },
   {
    "duration": 45,
    "start_time": "2022-10-03T11:47:35.667Z"
   },
   {
    "duration": 12,
    "start_time": "2022-10-03T11:47:35.713Z"
   },
   {
    "duration": 162,
    "start_time": "2022-10-03T11:47:35.727Z"
   },
   {
    "duration": 19,
    "start_time": "2022-10-03T11:47:35.890Z"
   },
   {
    "duration": 127,
    "start_time": "2022-10-03T11:47:35.911Z"
   },
   {
    "duration": 3,
    "start_time": "2022-10-03T11:47:36.040Z"
   },
   {
    "duration": 381,
    "start_time": "2022-10-03T11:47:36.044Z"
   },
   {
    "duration": 322,
    "start_time": "2022-10-03T11:47:36.426Z"
   },
   {
    "duration": 22,
    "start_time": "2022-10-03T11:47:36.749Z"
   },
   {
    "duration": 13,
    "start_time": "2022-10-03T11:47:36.772Z"
   },
   {
    "duration": 269,
    "start_time": "2022-10-03T11:47:36.787Z"
   },
   {
    "duration": 302,
    "start_time": "2022-10-03T11:47:37.058Z"
   },
   {
    "duration": 10,
    "start_time": "2022-10-03T11:47:37.362Z"
   },
   {
    "duration": 140,
    "start_time": "2022-10-03T11:47:37.373Z"
   },
   {
    "duration": 9,
    "start_time": "2022-10-03T11:47:37.514Z"
   },
   {
    "duration": 148,
    "start_time": "2022-10-03T11:47:37.525Z"
   },
   {
    "duration": 12,
    "start_time": "2022-10-03T11:47:37.676Z"
   },
   {
    "duration": 113,
    "start_time": "2022-10-03T11:47:37.690Z"
   },
   {
    "duration": 13,
    "start_time": "2022-10-03T11:47:37.805Z"
   },
   {
    "duration": 178,
    "start_time": "2022-10-03T11:47:37.820Z"
   },
   {
    "duration": 18,
    "start_time": "2022-10-03T11:47:38.000Z"
   },
   {
    "duration": 170,
    "start_time": "2022-10-03T11:47:38.020Z"
   },
   {
    "duration": 18,
    "start_time": "2022-10-03T11:47:38.191Z"
   },
   {
    "duration": 166,
    "start_time": "2022-10-03T11:47:38.211Z"
   },
   {
    "duration": 12,
    "start_time": "2022-10-03T11:47:38.378Z"
   },
   {
    "duration": 180,
    "start_time": "2022-10-03T11:47:38.391Z"
   },
   {
    "duration": 52,
    "start_time": "2022-10-03T11:47:38.573Z"
   },
   {
    "duration": 0,
    "start_time": "2022-10-03T11:47:38.627Z"
   },
   {
    "duration": 0,
    "start_time": "2022-10-03T11:47:38.628Z"
   },
   {
    "duration": 0,
    "start_time": "2022-10-03T11:47:38.629Z"
   },
   {
    "duration": 0,
    "start_time": "2022-10-03T11:47:38.630Z"
   },
   {
    "duration": 0,
    "start_time": "2022-10-03T11:47:38.631Z"
   },
   {
    "duration": 0,
    "start_time": "2022-10-03T11:47:38.631Z"
   },
   {
    "duration": 0,
    "start_time": "2022-10-03T11:47:38.632Z"
   },
   {
    "duration": 0,
    "start_time": "2022-10-03T11:47:38.633Z"
   },
   {
    "duration": 0,
    "start_time": "2022-10-03T11:47:38.634Z"
   },
   {
    "duration": 0,
    "start_time": "2022-10-03T11:47:38.635Z"
   },
   {
    "duration": 0,
    "start_time": "2022-10-03T11:47:38.636Z"
   },
   {
    "duration": 0,
    "start_time": "2022-10-03T11:47:38.636Z"
   },
   {
    "duration": 1231,
    "start_time": "2022-10-03T11:47:54.335Z"
   },
   {
    "duration": 12,
    "start_time": "2022-10-03T11:47:55.568Z"
   },
   {
    "duration": 8,
    "start_time": "2022-10-03T11:47:55.581Z"
   },
   {
    "duration": 17,
    "start_time": "2022-10-03T11:47:55.591Z"
   },
   {
    "duration": 13,
    "start_time": "2022-10-03T11:47:55.610Z"
   },
   {
    "duration": 7,
    "start_time": "2022-10-03T11:47:55.624Z"
   },
   {
    "duration": 7,
    "start_time": "2022-10-03T11:47:55.633Z"
   },
   {
    "duration": 7,
    "start_time": "2022-10-03T11:47:55.642Z"
   },
   {
    "duration": 7,
    "start_time": "2022-10-03T11:47:55.650Z"
   },
   {
    "duration": 14,
    "start_time": "2022-10-03T11:47:55.658Z"
   },
   {
    "duration": 7,
    "start_time": "2022-10-03T11:47:55.673Z"
   },
   {
    "duration": 39,
    "start_time": "2022-10-03T11:47:55.682Z"
   },
   {
    "duration": 10,
    "start_time": "2022-10-03T11:47:55.722Z"
   },
   {
    "duration": 174,
    "start_time": "2022-10-03T11:47:55.735Z"
   },
   {
    "duration": 13,
    "start_time": "2022-10-03T11:47:55.910Z"
   },
   {
    "duration": 139,
    "start_time": "2022-10-03T11:47:55.925Z"
   },
   {
    "duration": 4,
    "start_time": "2022-10-03T11:47:56.065Z"
   },
   {
    "duration": 399,
    "start_time": "2022-10-03T11:47:56.070Z"
   },
   {
    "duration": 341,
    "start_time": "2022-10-03T11:47:56.471Z"
   },
   {
    "duration": 20,
    "start_time": "2022-10-03T11:47:56.814Z"
   },
   {
    "duration": 14,
    "start_time": "2022-10-03T11:47:56.836Z"
   },
   {
    "duration": 275,
    "start_time": "2022-10-03T11:47:56.852Z"
   },
   {
    "duration": 315,
    "start_time": "2022-10-03T11:47:57.129Z"
   },
   {
    "duration": 10,
    "start_time": "2022-10-03T11:47:57.446Z"
   },
   {
    "duration": 153,
    "start_time": "2022-10-03T11:47:57.458Z"
   },
   {
    "duration": 10,
    "start_time": "2022-10-03T11:47:57.612Z"
   },
   {
    "duration": 147,
    "start_time": "2022-10-03T11:47:57.623Z"
   },
   {
    "duration": 12,
    "start_time": "2022-10-03T11:47:57.772Z"
   },
   {
    "duration": 114,
    "start_time": "2022-10-03T11:47:57.786Z"
   },
   {
    "duration": 18,
    "start_time": "2022-10-03T11:47:57.901Z"
   },
   {
    "duration": 173,
    "start_time": "2022-10-03T11:47:57.921Z"
   },
   {
    "duration": 22,
    "start_time": "2022-10-03T11:47:58.095Z"
   },
   {
    "duration": 174,
    "start_time": "2022-10-03T11:47:58.118Z"
   },
   {
    "duration": 18,
    "start_time": "2022-10-03T11:47:58.293Z"
   },
   {
    "duration": 162,
    "start_time": "2022-10-03T11:47:58.312Z"
   },
   {
    "duration": 11,
    "start_time": "2022-10-03T11:47:58.476Z"
   },
   {
    "duration": 183,
    "start_time": "2022-10-03T11:47:58.489Z"
   },
   {
    "duration": 12,
    "start_time": "2022-10-03T11:47:58.673Z"
   },
   {
    "duration": 185,
    "start_time": "2022-10-03T11:47:58.687Z"
   },
   {
    "duration": 12,
    "start_time": "2022-10-03T11:47:58.873Z"
   },
   {
    "duration": 185,
    "start_time": "2022-10-03T11:47:58.888Z"
   },
   {
    "duration": 12,
    "start_time": "2022-10-03T11:47:59.075Z"
   },
   {
    "duration": 7,
    "start_time": "2022-10-03T11:47:59.088Z"
   },
   {
    "duration": 7,
    "start_time": "2022-10-03T11:47:59.109Z"
   },
   {
    "duration": 8,
    "start_time": "2022-10-03T11:47:59.117Z"
   },
   {
    "duration": 10,
    "start_time": "2022-10-03T11:47:59.126Z"
   },
   {
    "duration": 6,
    "start_time": "2022-10-03T11:47:59.138Z"
   },
   {
    "duration": 5,
    "start_time": "2022-10-03T11:47:59.145Z"
   },
   {
    "duration": 1364,
    "start_time": "2022-10-03T17:50:52.961Z"
   },
   {
    "duration": 206,
    "start_time": "2022-10-03T17:50:59.602Z"
   },
   {
    "duration": 3,
    "start_time": "2022-10-03T17:51:08.414Z"
   },
   {
    "duration": 82,
    "start_time": "2022-10-03T17:51:10.793Z"
   },
   {
    "duration": 107,
    "start_time": "2022-10-03T17:54:37.568Z"
   },
   {
    "duration": 18,
    "start_time": "2022-10-03T17:54:46.737Z"
   },
   {
    "duration": 15,
    "start_time": "2022-10-03T17:56:10.295Z"
   },
   {
    "duration": 79,
    "start_time": "2022-10-03T17:56:44.430Z"
   },
   {
    "duration": 73,
    "start_time": "2022-10-03T18:12:50.178Z"
   },
   {
    "duration": 6,
    "start_time": "2022-10-03T18:44:48.297Z"
   },
   {
    "duration": 10,
    "start_time": "2022-10-03T18:44:54.175Z"
   },
   {
    "duration": 19,
    "start_time": "2022-10-03T18:46:41.255Z"
   },
   {
    "duration": 20,
    "start_time": "2022-10-03T18:46:47.868Z"
   },
   {
    "duration": 18,
    "start_time": "2022-10-03T18:47:15.004Z"
   },
   {
    "duration": 8,
    "start_time": "2022-10-03T18:49:47.182Z"
   },
   {
    "duration": 17,
    "start_time": "2022-10-03T18:50:08.995Z"
   },
   {
    "duration": 76,
    "start_time": "2022-10-03T18:53:27.161Z"
   },
   {
    "duration": 91,
    "start_time": "2022-10-03T18:53:56.243Z"
   },
   {
    "duration": 68,
    "start_time": "2022-10-03T18:55:12.135Z"
   },
   {
    "duration": 9,
    "start_time": "2022-10-03T18:55:57.472Z"
   },
   {
    "duration": 1035,
    "start_time": "2022-10-03T18:56:03.435Z"
   },
   {
    "duration": 64,
    "start_time": "2022-10-03T18:56:04.471Z"
   },
   {
    "duration": 13,
    "start_time": "2022-10-03T18:56:04.537Z"
   },
   {
    "duration": 7,
    "start_time": "2022-10-03T18:56:04.552Z"
   },
   {
    "duration": 13,
    "start_time": "2022-10-03T18:56:04.561Z"
   },
   {
    "duration": 29,
    "start_time": "2022-10-03T18:56:04.576Z"
   },
   {
    "duration": 6,
    "start_time": "2022-10-03T18:56:04.607Z"
   },
   {
    "duration": 6,
    "start_time": "2022-10-03T18:56:04.614Z"
   },
   {
    "duration": 5,
    "start_time": "2022-10-03T18:56:04.621Z"
   },
   {
    "duration": 4,
    "start_time": "2022-10-03T18:56:04.628Z"
   },
   {
    "duration": 12,
    "start_time": "2022-10-03T18:56:04.634Z"
   },
   {
    "duration": 15,
    "start_time": "2022-10-03T18:56:04.647Z"
   },
   {
    "duration": 34,
    "start_time": "2022-10-03T18:56:04.664Z"
   },
   {
    "duration": 10,
    "start_time": "2022-10-03T18:56:04.700Z"
   },
   {
    "duration": 173,
    "start_time": "2022-10-03T18:56:04.711Z"
   },
   {
    "duration": 19,
    "start_time": "2022-10-03T18:56:04.885Z"
   },
   {
    "duration": 137,
    "start_time": "2022-10-03T18:56:04.905Z"
   },
   {
    "duration": 99,
    "start_time": "2022-10-03T18:56:05.044Z"
   },
   {
    "duration": 0,
    "start_time": "2022-10-03T18:56:05.145Z"
   },
   {
    "duration": 0,
    "start_time": "2022-10-03T18:56:05.146Z"
   },
   {
    "duration": 0,
    "start_time": "2022-10-03T18:56:05.147Z"
   },
   {
    "duration": 0,
    "start_time": "2022-10-03T18:56:05.148Z"
   },
   {
    "duration": 0,
    "start_time": "2022-10-03T18:56:05.149Z"
   },
   {
    "duration": 0,
    "start_time": "2022-10-03T18:56:05.150Z"
   },
   {
    "duration": 0,
    "start_time": "2022-10-03T18:56:05.151Z"
   },
   {
    "duration": 0,
    "start_time": "2022-10-03T18:56:05.152Z"
   },
   {
    "duration": 0,
    "start_time": "2022-10-03T18:56:05.153Z"
   },
   {
    "duration": 0,
    "start_time": "2022-10-03T18:56:05.154Z"
   },
   {
    "duration": 0,
    "start_time": "2022-10-03T18:56:05.155Z"
   },
   {
    "duration": 0,
    "start_time": "2022-10-03T18:56:05.156Z"
   },
   {
    "duration": 0,
    "start_time": "2022-10-03T18:56:05.157Z"
   },
   {
    "duration": 0,
    "start_time": "2022-10-03T18:56:05.157Z"
   },
   {
    "duration": 0,
    "start_time": "2022-10-03T18:56:05.158Z"
   },
   {
    "duration": 0,
    "start_time": "2022-10-03T18:56:05.159Z"
   },
   {
    "duration": 0,
    "start_time": "2022-10-03T18:56:05.160Z"
   },
   {
    "duration": 0,
    "start_time": "2022-10-03T18:56:05.161Z"
   },
   {
    "duration": 0,
    "start_time": "2022-10-03T18:56:05.162Z"
   },
   {
    "duration": 0,
    "start_time": "2022-10-03T18:56:05.162Z"
   },
   {
    "duration": 0,
    "start_time": "2022-10-03T18:56:05.194Z"
   },
   {
    "duration": 0,
    "start_time": "2022-10-03T18:56:05.196Z"
   },
   {
    "duration": 0,
    "start_time": "2022-10-03T18:56:05.197Z"
   },
   {
    "duration": 1,
    "start_time": "2022-10-03T18:56:05.197Z"
   },
   {
    "duration": 0,
    "start_time": "2022-10-03T18:56:05.198Z"
   },
   {
    "duration": 0,
    "start_time": "2022-10-03T18:56:05.199Z"
   },
   {
    "duration": 0,
    "start_time": "2022-10-03T18:56:05.200Z"
   },
   {
    "duration": 0,
    "start_time": "2022-10-03T18:56:05.201Z"
   },
   {
    "duration": 0,
    "start_time": "2022-10-03T18:56:05.202Z"
   },
   {
    "duration": 0,
    "start_time": "2022-10-03T18:56:05.202Z"
   },
   {
    "duration": 0,
    "start_time": "2022-10-03T18:56:05.203Z"
   },
   {
    "duration": 8,
    "start_time": "2022-10-03T18:56:15.901Z"
   },
   {
    "duration": 8,
    "start_time": "2022-10-03T18:56:26.237Z"
   },
   {
    "duration": 23,
    "start_time": "2022-10-03T18:56:32.253Z"
   },
   {
    "duration": 13,
    "start_time": "2022-10-03T18:56:39.466Z"
   },
   {
    "duration": 289,
    "start_time": "2022-10-03T18:56:42.445Z"
   },
   {
    "duration": 247,
    "start_time": "2022-10-03T18:56:46.835Z"
   },
   {
    "duration": 273,
    "start_time": "2022-10-03T18:58:17.430Z"
   },
   {
    "duration": 9,
    "start_time": "2022-10-03T19:00:48.902Z"
   },
   {
    "duration": 91,
    "start_time": "2022-10-03T19:01:59.853Z"
   },
   {
    "duration": 368,
    "start_time": "2022-10-03T19:03:30.646Z"
   },
   {
    "duration": 9,
    "start_time": "2022-10-03T19:05:48.701Z"
   },
   {
    "duration": 17,
    "start_time": "2022-10-03T19:07:03.603Z"
   },
   {
    "duration": 17,
    "start_time": "2022-10-03T19:07:11.315Z"
   },
   {
    "duration": 265,
    "start_time": "2022-10-03T19:08:57.459Z"
   },
   {
    "duration": 17,
    "start_time": "2022-10-03T19:09:19.265Z"
   },
   {
    "duration": 18,
    "start_time": "2022-10-03T19:09:32.866Z"
   },
   {
    "duration": 291,
    "start_time": "2022-10-03T19:16:22.969Z"
   },
   {
    "duration": 75,
    "start_time": "2022-10-03T19:25:38.766Z"
   },
   {
    "duration": 16,
    "start_time": "2022-10-03T19:30:33.370Z"
   },
   {
    "duration": 3,
    "start_time": "2022-10-03T19:31:49.134Z"
   },
   {
    "duration": 17,
    "start_time": "2022-10-03T19:31:59.392Z"
   },
   {
    "duration": 17,
    "start_time": "2022-10-03T19:32:11.705Z"
   },
   {
    "duration": 23,
    "start_time": "2022-10-03T19:32:15.476Z"
   },
   {
    "duration": 11,
    "start_time": "2022-10-03T19:35:09.934Z"
   },
   {
    "duration": 169,
    "start_time": "2022-10-03T19:35:12.195Z"
   },
   {
    "duration": 10,
    "start_time": "2022-10-03T19:35:47.756Z"
   },
   {
    "duration": 11,
    "start_time": "2022-10-03T19:36:04.221Z"
   },
   {
    "duration": 15,
    "start_time": "2022-10-03T19:36:07.466Z"
   },
   {
    "duration": 20,
    "start_time": "2022-10-03T19:42:48.436Z"
   },
   {
    "duration": 14,
    "start_time": "2022-10-03T19:42:57.232Z"
   },
   {
    "duration": 14,
    "start_time": "2022-10-03T19:43:38.814Z"
   },
   {
    "duration": 11,
    "start_time": "2022-10-03T19:44:39.559Z"
   },
   {
    "duration": 11,
    "start_time": "2022-10-03T19:45:01.987Z"
   },
   {
    "duration": 12,
    "start_time": "2022-10-03T19:46:01.085Z"
   },
   {
    "duration": 11,
    "start_time": "2022-10-03T19:46:15.995Z"
   },
   {
    "duration": 13,
    "start_time": "2022-10-03T19:46:33.508Z"
   },
   {
    "duration": 35,
    "start_time": "2022-10-03T19:47:57.281Z"
   },
   {
    "duration": 163,
    "start_time": "2022-10-03T19:53:03.534Z"
   },
   {
    "duration": 174,
    "start_time": "2022-10-03T19:54:59.451Z"
   },
   {
    "duration": 21,
    "start_time": "2022-10-03T19:56:51.132Z"
   },
   {
    "duration": 164,
    "start_time": "2022-10-03T19:57:00.688Z"
   },
   {
    "duration": 11,
    "start_time": "2022-10-03T19:58:15.330Z"
   },
   {
    "duration": 68,
    "start_time": "2022-10-03T19:58:35.727Z"
   },
   {
    "duration": 76,
    "start_time": "2022-10-03T19:59:22.534Z"
   },
   {
    "duration": 11,
    "start_time": "2022-10-03T19:59:29.638Z"
   },
   {
    "duration": 147,
    "start_time": "2022-10-03T19:59:44.609Z"
   },
   {
    "duration": 255,
    "start_time": "2022-10-03T20:00:00.399Z"
   },
   {
    "duration": 18,
    "start_time": "2022-10-03T20:00:07.299Z"
   },
   {
    "duration": 147,
    "start_time": "2022-10-03T20:00:14.233Z"
   },
   {
    "duration": 11,
    "start_time": "2022-10-03T20:04:53.434Z"
   },
   {
    "duration": 11,
    "start_time": "2022-10-03T20:05:22.604Z"
   },
   {
    "duration": 10,
    "start_time": "2022-10-03T20:06:13.334Z"
   },
   {
    "duration": 10,
    "start_time": "2022-10-03T20:06:35.303Z"
   },
   {
    "duration": 12,
    "start_time": "2022-10-03T20:06:42.457Z"
   },
   {
    "duration": 11,
    "start_time": "2022-10-03T20:07:25.258Z"
   },
   {
    "duration": 11,
    "start_time": "2022-10-03T20:07:28.086Z"
   },
   {
    "duration": 11,
    "start_time": "2022-10-03T20:07:30.030Z"
   },
   {
    "duration": 149,
    "start_time": "2022-10-03T20:07:54.203Z"
   },
   {
    "duration": 152,
    "start_time": "2022-10-03T20:08:01.048Z"
   },
   {
    "duration": 93,
    "start_time": "2022-10-03T20:08:06.724Z"
   },
   {
    "duration": 142,
    "start_time": "2022-10-03T20:08:46.463Z"
   },
   {
    "duration": 147,
    "start_time": "2022-10-03T20:09:18.309Z"
   },
   {
    "duration": 142,
    "start_time": "2022-10-03T20:09:44.830Z"
   },
   {
    "duration": 153,
    "start_time": "2022-10-03T20:09:50.538Z"
   },
   {
    "duration": 76,
    "start_time": "2022-10-03T20:10:28.291Z"
   },
   {
    "duration": 11,
    "start_time": "2022-10-03T20:12:36.096Z"
   },
   {
    "duration": 11,
    "start_time": "2022-10-03T20:12:50.750Z"
   },
   {
    "duration": 11,
    "start_time": "2022-10-03T20:13:21.132Z"
   },
   {
    "duration": 10,
    "start_time": "2022-10-03T20:13:37.351Z"
   },
   {
    "duration": 73,
    "start_time": "2022-10-03T20:14:09.356Z"
   },
   {
    "duration": 133,
    "start_time": "2022-10-03T20:15:36.019Z"
   },
   {
    "duration": 156,
    "start_time": "2022-10-03T20:15:53.324Z"
   },
   {
    "duration": 152,
    "start_time": "2022-10-03T20:16:02.613Z"
   },
   {
    "duration": 219,
    "start_time": "2022-10-03T20:16:35.202Z"
   },
   {
    "duration": 72,
    "start_time": "2022-10-03T20:16:47.585Z"
   },
   {
    "duration": 151,
    "start_time": "2022-10-03T20:17:18.699Z"
   },
   {
    "duration": 138,
    "start_time": "2022-10-03T20:17:26.973Z"
   },
   {
    "duration": 150,
    "start_time": "2022-10-03T20:17:46.970Z"
   },
   {
    "duration": 74,
    "start_time": "2022-10-03T20:21:46.230Z"
   },
   {
    "duration": 89,
    "start_time": "2022-10-03T20:29:04.117Z"
   },
   {
    "duration": 10,
    "start_time": "2022-10-03T20:29:47.808Z"
   },
   {
    "duration": 14,
    "start_time": "2022-10-03T20:29:53.127Z"
   },
   {
    "duration": 3,
    "start_time": "2022-10-03T20:31:48.910Z"
   },
   {
    "duration": 277,
    "start_time": "2022-10-03T20:31:52.937Z"
   },
   {
    "duration": 75,
    "start_time": "2022-10-03T20:38:04.478Z"
   },
   {
    "duration": 8,
    "start_time": "2022-10-03T20:41:30.267Z"
   },
   {
    "duration": 14,
    "start_time": "2022-10-03T20:41:45.893Z"
   },
   {
    "duration": 15,
    "start_time": "2022-10-03T20:42:36.832Z"
   },
   {
    "duration": 9,
    "start_time": "2022-10-03T20:43:21.031Z"
   },
   {
    "duration": 14,
    "start_time": "2022-10-03T20:43:28.670Z"
   },
   {
    "duration": 106,
    "start_time": "2022-10-03T20:43:35.619Z"
   },
   {
    "duration": 6,
    "start_time": "2022-10-03T20:51:25.150Z"
   },
   {
    "duration": 12,
    "start_time": "2022-10-03T20:51:33.554Z"
   },
   {
    "duration": 15,
    "start_time": "2022-10-03T20:53:24.213Z"
   },
   {
    "duration": 5,
    "start_time": "2022-10-03T20:56:26.774Z"
   },
   {
    "duration": 8,
    "start_time": "2022-10-03T20:56:32.305Z"
   },
   {
    "duration": 16,
    "start_time": "2022-10-03T20:56:46.688Z"
   },
   {
    "duration": 8,
    "start_time": "2022-10-03T20:56:53.013Z"
   },
   {
    "duration": 7,
    "start_time": "2022-10-03T20:59:43.716Z"
   },
   {
    "duration": 11,
    "start_time": "2022-10-03T20:59:49.946Z"
   },
   {
    "duration": 8,
    "start_time": "2022-10-03T20:59:57.144Z"
   },
   {
    "duration": 8,
    "start_time": "2022-10-03T21:00:15.947Z"
   },
   {
    "duration": 7,
    "start_time": "2022-10-03T21:00:26.133Z"
   },
   {
    "duration": 4,
    "start_time": "2022-10-03T21:13:39.612Z"
   },
   {
    "duration": 6,
    "start_time": "2022-10-03T21:13:48.741Z"
   },
   {
    "duration": 4,
    "start_time": "2022-10-03T21:14:00.424Z"
   },
   {
    "duration": 6,
    "start_time": "2022-10-03T21:14:02.480Z"
   },
   {
    "duration": 4,
    "start_time": "2022-10-03T21:14:04.375Z"
   },
   {
    "duration": 6,
    "start_time": "2022-10-03T21:14:05.701Z"
   },
   {
    "duration": 4,
    "start_time": "2022-10-03T21:14:46.342Z"
   },
   {
    "duration": 6,
    "start_time": "2022-10-03T21:14:50.072Z"
   },
   {
    "duration": 8,
    "start_time": "2022-10-03T21:15:14.891Z"
   },
   {
    "duration": 4,
    "start_time": "2022-10-03T21:15:20.671Z"
   },
   {
    "duration": 3,
    "start_time": "2022-10-03T21:15:28.096Z"
   },
   {
    "duration": 6,
    "start_time": "2022-10-03T21:15:29.816Z"
   },
   {
    "duration": 4,
    "start_time": "2022-10-03T21:15:39.973Z"
   },
   {
    "duration": 7,
    "start_time": "2022-10-03T21:15:41.991Z"
   },
   {
    "duration": 4,
    "start_time": "2022-10-03T21:17:16.269Z"
   },
   {
    "duration": 6,
    "start_time": "2022-10-03T21:17:19.583Z"
   },
   {
    "duration": 4,
    "start_time": "2022-10-03T21:19:04.566Z"
   },
   {
    "duration": 7,
    "start_time": "2022-10-03T21:19:06.476Z"
   },
   {
    "duration": 18,
    "start_time": "2022-10-03T21:21:55.885Z"
   },
   {
    "duration": 16,
    "start_time": "2022-10-03T21:22:05.608Z"
   },
   {
    "duration": 4,
    "start_time": "2022-10-03T21:22:10.148Z"
   },
   {
    "duration": 7,
    "start_time": "2022-10-03T21:22:16.357Z"
   },
   {
    "duration": 8,
    "start_time": "2022-10-03T21:22:18.308Z"
   },
   {
    "duration": 19,
    "start_time": "2022-10-03T21:22:21.251Z"
   },
   {
    "duration": 7,
    "start_time": "2022-10-03T21:22:29.074Z"
   },
   {
    "duration": 7,
    "start_time": "2022-10-03T21:22:31.121Z"
   },
   {
    "duration": 1038,
    "start_time": "2022-10-03T21:22:38.248Z"
   },
   {
    "duration": 70,
    "start_time": "2022-10-03T21:22:39.289Z"
   },
   {
    "duration": 15,
    "start_time": "2022-10-03T21:22:39.360Z"
   },
   {
    "duration": 9,
    "start_time": "2022-10-03T21:22:39.377Z"
   },
   {
    "duration": 16,
    "start_time": "2022-10-03T21:22:39.389Z"
   },
   {
    "duration": 14,
    "start_time": "2022-10-03T21:22:39.406Z"
   },
   {
    "duration": 7,
    "start_time": "2022-10-03T21:22:39.422Z"
   },
   {
    "duration": 6,
    "start_time": "2022-10-03T21:22:39.431Z"
   },
   {
    "duration": 9,
    "start_time": "2022-10-03T21:22:39.438Z"
   },
   {
    "duration": 8,
    "start_time": "2022-10-03T21:22:39.448Z"
   },
   {
    "duration": 13,
    "start_time": "2022-10-03T21:22:39.457Z"
   },
   {
    "duration": 30,
    "start_time": "2022-10-03T21:22:39.471Z"
   },
   {
    "duration": 15,
    "start_time": "2022-10-03T21:22:39.503Z"
   },
   {
    "duration": 10,
    "start_time": "2022-10-03T21:22:39.520Z"
   },
   {
    "duration": 177,
    "start_time": "2022-10-03T21:22:39.531Z"
   },
   {
    "duration": 15,
    "start_time": "2022-10-03T21:22:39.710Z"
   },
   {
    "duration": 135,
    "start_time": "2022-10-03T21:22:39.726Z"
   },
   {
    "duration": 3,
    "start_time": "2022-10-03T21:22:39.863Z"
   },
   {
    "duration": 371,
    "start_time": "2022-10-03T21:22:39.867Z"
   },
   {
    "duration": 304,
    "start_time": "2022-10-03T21:22:40.240Z"
   },
   {
    "duration": 22,
    "start_time": "2022-10-03T21:22:40.546Z"
   },
   {
    "duration": 13,
    "start_time": "2022-10-03T21:22:40.569Z"
   },
   {
    "duration": 285,
    "start_time": "2022-10-03T21:22:40.584Z"
   },
   {
    "duration": 340,
    "start_time": "2022-10-03T21:22:40.870Z"
   },
   {
    "duration": 294,
    "start_time": "2022-10-03T21:22:41.211Z"
   },
   {
    "duration": 36,
    "start_time": "2022-10-03T21:22:41.506Z"
   },
   {
    "duration": 11,
    "start_time": "2022-10-03T21:22:41.544Z"
   },
   {
    "duration": 177,
    "start_time": "2022-10-03T21:22:41.557Z"
   },
   {
    "duration": 11,
    "start_time": "2022-10-03T21:22:41.736Z"
   },
   {
    "duration": 165,
    "start_time": "2022-10-03T21:22:41.749Z"
   },
   {
    "duration": 13,
    "start_time": "2022-10-03T21:22:41.915Z"
   },
   {
    "duration": 12,
    "start_time": "2022-10-03T21:22:41.930Z"
   },
   {
    "duration": 160,
    "start_time": "2022-10-03T21:22:41.943Z"
   },
   {
    "duration": 11,
    "start_time": "2022-10-03T21:22:42.105Z"
   },
   {
    "duration": 157,
    "start_time": "2022-10-03T21:22:42.117Z"
   },
   {
    "duration": 19,
    "start_time": "2022-10-03T21:22:42.277Z"
   },
   {
    "duration": 153,
    "start_time": "2022-10-03T21:22:42.297Z"
   },
   {
    "duration": 11,
    "start_time": "2022-10-03T21:22:42.452Z"
   },
   {
    "duration": 163,
    "start_time": "2022-10-03T21:22:42.464Z"
   },
   {
    "duration": 11,
    "start_time": "2022-10-03T21:22:42.629Z"
   },
   {
    "duration": 142,
    "start_time": "2022-10-03T21:22:42.644Z"
   },
   {
    "duration": 11,
    "start_time": "2022-10-03T21:22:42.795Z"
   },
   {
    "duration": 164,
    "start_time": "2022-10-03T21:22:42.808Z"
   },
   {
    "duration": 10,
    "start_time": "2022-10-03T21:22:42.974Z"
   },
   {
    "duration": 236,
    "start_time": "2022-10-03T21:22:42.986Z"
   },
   {
    "duration": 10,
    "start_time": "2022-10-03T21:22:43.224Z"
   },
   {
    "duration": 161,
    "start_time": "2022-10-03T21:22:43.236Z"
   },
   {
    "duration": 13,
    "start_time": "2022-10-03T21:22:43.399Z"
   },
   {
    "duration": 126,
    "start_time": "2022-10-03T21:22:43.414Z"
   },
   {
    "duration": 13,
    "start_time": "2022-10-03T21:22:43.542Z"
   },
   {
    "duration": 189,
    "start_time": "2022-10-03T21:22:43.557Z"
   },
   {
    "duration": 13,
    "start_time": "2022-10-03T21:22:43.748Z"
   },
   {
    "duration": 194,
    "start_time": "2022-10-03T21:22:43.763Z"
   },
   {
    "duration": 13,
    "start_time": "2022-10-03T21:22:43.958Z"
   },
   {
    "duration": 185,
    "start_time": "2022-10-03T21:22:43.972Z"
   },
   {
    "duration": 13,
    "start_time": "2022-10-03T21:22:44.158Z"
   },
   {
    "duration": 193,
    "start_time": "2022-10-03T21:22:44.172Z"
   },
   {
    "duration": 15,
    "start_time": "2022-10-03T21:22:44.366Z"
   },
   {
    "duration": 191,
    "start_time": "2022-10-03T21:22:44.396Z"
   },
   {
    "duration": 14,
    "start_time": "2022-10-03T21:22:44.594Z"
   },
   {
    "duration": 185,
    "start_time": "2022-10-03T21:22:44.610Z"
   },
   {
    "duration": 7,
    "start_time": "2022-10-03T21:22:44.796Z"
   },
   {
    "duration": 11,
    "start_time": "2022-10-03T21:22:44.804Z"
   },
   {
    "duration": 11,
    "start_time": "2022-10-03T21:22:44.817Z"
   },
   {
    "duration": 18,
    "start_time": "2022-10-03T21:22:44.830Z"
   },
   {
    "duration": 9,
    "start_time": "2022-10-03T21:22:44.850Z"
   },
   {
    "duration": 39,
    "start_time": "2022-10-03T21:22:44.860Z"
   },
   {
    "duration": 5,
    "start_time": "2022-10-03T21:22:44.901Z"
   },
   {
    "duration": 12,
    "start_time": "2022-10-03T21:22:44.908Z"
   },
   {
    "duration": 7,
    "start_time": "2022-10-03T21:22:44.922Z"
   },
   {
    "duration": 18,
    "start_time": "2022-10-03T21:22:44.931Z"
   },
   {
    "duration": 14,
    "start_time": "2022-10-03T21:23:13.795Z"
   },
   {
    "duration": 14,
    "start_time": "2022-10-03T21:23:18.375Z"
   },
   {
    "duration": 14,
    "start_time": "2022-10-03T21:23:19.021Z"
   },
   {
    "duration": 9,
    "start_time": "2022-10-03T21:23:22.371Z"
   },
   {
    "duration": 9,
    "start_time": "2022-10-03T21:23:27.945Z"
   },
   {
    "duration": 7,
    "start_time": "2022-10-03T21:23:31.274Z"
   },
   {
    "duration": 6,
    "start_time": "2022-10-03T21:26:35.421Z"
   },
   {
    "duration": 4,
    "start_time": "2022-10-03T21:26:44.604Z"
   },
   {
    "duration": 6,
    "start_time": "2022-10-03T21:26:50.675Z"
   },
   {
    "duration": 6,
    "start_time": "2022-10-03T21:26:53.673Z"
   },
   {
    "duration": 4,
    "start_time": "2022-10-03T21:26:59.094Z"
   },
   {
    "duration": 7,
    "start_time": "2022-10-03T21:27:01.411Z"
   },
   {
    "duration": 4,
    "start_time": "2022-10-03T21:27:15.177Z"
   },
   {
    "duration": 6,
    "start_time": "2022-10-03T21:27:17.187Z"
   },
   {
    "duration": 6,
    "start_time": "2022-10-03T21:27:18.375Z"
   },
   {
    "duration": 6,
    "start_time": "2022-10-03T21:27:19.793Z"
   },
   {
    "duration": 5,
    "start_time": "2022-10-03T21:27:21.305Z"
   },
   {
    "duration": 6,
    "start_time": "2022-10-03T21:27:24.248Z"
   },
   {
    "duration": 1116,
    "start_time": "2022-10-03T21:27:40.985Z"
   },
   {
    "duration": 67,
    "start_time": "2022-10-03T21:27:42.103Z"
   },
   {
    "duration": 14,
    "start_time": "2022-10-03T21:27:42.171Z"
   },
   {
    "duration": 8,
    "start_time": "2022-10-03T21:27:42.187Z"
   },
   {
    "duration": 16,
    "start_time": "2022-10-03T21:27:42.196Z"
   },
   {
    "duration": 14,
    "start_time": "2022-10-03T21:27:42.213Z"
   },
   {
    "duration": 7,
    "start_time": "2022-10-03T21:27:42.228Z"
   },
   {
    "duration": 5,
    "start_time": "2022-10-03T21:27:42.237Z"
   },
   {
    "duration": 5,
    "start_time": "2022-10-03T21:27:42.244Z"
   },
   {
    "duration": 5,
    "start_time": "2022-10-03T21:27:42.252Z"
   },
   {
    "duration": 41,
    "start_time": "2022-10-03T21:27:42.258Z"
   },
   {
    "duration": 8,
    "start_time": "2022-10-03T21:27:42.300Z"
   },
   {
    "duration": 17,
    "start_time": "2022-10-03T21:27:42.310Z"
   },
   {
    "duration": 9,
    "start_time": "2022-10-03T21:27:42.329Z"
   },
   {
    "duration": 181,
    "start_time": "2022-10-03T21:27:42.340Z"
   },
   {
    "duration": 14,
    "start_time": "2022-10-03T21:27:42.522Z"
   },
   {
    "duration": 146,
    "start_time": "2022-10-03T21:27:42.537Z"
   },
   {
    "duration": 2,
    "start_time": "2022-10-03T21:27:42.685Z"
   },
   {
    "duration": 389,
    "start_time": "2022-10-03T21:27:42.695Z"
   },
   {
    "duration": 310,
    "start_time": "2022-10-03T21:27:43.086Z"
   },
   {
    "duration": 23,
    "start_time": "2022-10-03T21:27:43.398Z"
   },
   {
    "duration": 13,
    "start_time": "2022-10-03T21:27:43.423Z"
   },
   {
    "duration": 284,
    "start_time": "2022-10-03T21:27:43.437Z"
   },
   {
    "duration": 331,
    "start_time": "2022-10-03T21:27:43.723Z"
   },
   {
    "duration": 279,
    "start_time": "2022-10-03T21:27:44.055Z"
   },
   {
    "duration": 32,
    "start_time": "2022-10-03T21:27:44.336Z"
   },
   {
    "duration": 25,
    "start_time": "2022-10-03T21:27:44.370Z"
   },
   {
    "duration": 149,
    "start_time": "2022-10-03T21:27:44.398Z"
   },
   {
    "duration": 10,
    "start_time": "2022-10-03T21:27:44.549Z"
   },
   {
    "duration": 165,
    "start_time": "2022-10-03T21:27:44.560Z"
   },
   {
    "duration": 12,
    "start_time": "2022-10-03T21:27:44.727Z"
   },
   {
    "duration": 10,
    "start_time": "2022-10-03T21:27:44.741Z"
   },
   {
    "duration": 156,
    "start_time": "2022-10-03T21:27:44.753Z"
   },
   {
    "duration": 10,
    "start_time": "2022-10-03T21:27:44.910Z"
   },
   {
    "duration": 159,
    "start_time": "2022-10-03T21:27:44.921Z"
   },
   {
    "duration": 14,
    "start_time": "2022-10-03T21:27:45.082Z"
   },
   {
    "duration": 137,
    "start_time": "2022-10-03T21:27:45.098Z"
   },
   {
    "duration": 9,
    "start_time": "2022-10-03T21:27:45.237Z"
   },
   {
    "duration": 158,
    "start_time": "2022-10-03T21:27:45.248Z"
   },
   {
    "duration": 11,
    "start_time": "2022-10-03T21:27:45.408Z"
   },
   {
    "duration": 140,
    "start_time": "2022-10-03T21:27:45.420Z"
   },
   {
    "duration": 11,
    "start_time": "2022-10-03T21:27:45.562Z"
   },
   {
    "duration": 145,
    "start_time": "2022-10-03T21:27:45.574Z"
   },
   {
    "duration": 11,
    "start_time": "2022-10-03T21:27:45.720Z"
   },
   {
    "duration": 239,
    "start_time": "2022-10-03T21:27:45.732Z"
   },
   {
    "duration": 10,
    "start_time": "2022-10-03T21:27:45.973Z"
   },
   {
    "duration": 149,
    "start_time": "2022-10-03T21:27:45.994Z"
   },
   {
    "duration": 12,
    "start_time": "2022-10-03T21:27:46.145Z"
   },
   {
    "duration": 121,
    "start_time": "2022-10-03T21:27:46.158Z"
   },
   {
    "duration": 21,
    "start_time": "2022-10-03T21:27:46.280Z"
   },
   {
    "duration": 182,
    "start_time": "2022-10-03T21:27:46.303Z"
   },
   {
    "duration": 17,
    "start_time": "2022-10-03T21:27:46.486Z"
   },
   {
    "duration": 217,
    "start_time": "2022-10-03T21:27:46.505Z"
   },
   {
    "duration": 13,
    "start_time": "2022-10-03T21:27:46.724Z"
   },
   {
    "duration": 178,
    "start_time": "2022-10-03T21:27:46.738Z"
   },
   {
    "duration": 14,
    "start_time": "2022-10-03T21:27:46.917Z"
   },
   {
    "duration": 195,
    "start_time": "2022-10-03T21:27:46.932Z"
   },
   {
    "duration": 13,
    "start_time": "2022-10-03T21:27:47.129Z"
   },
   {
    "duration": 189,
    "start_time": "2022-10-03T21:27:47.143Z"
   },
   {
    "duration": 13,
    "start_time": "2022-10-03T21:27:47.334Z"
   },
   {
    "duration": 194,
    "start_time": "2022-10-03T21:27:47.349Z"
   },
   {
    "duration": 6,
    "start_time": "2022-10-03T21:27:47.544Z"
   },
   {
    "duration": 8,
    "start_time": "2022-10-03T21:27:47.552Z"
   },
   {
    "duration": 9,
    "start_time": "2022-10-03T21:27:47.561Z"
   },
   {
    "duration": 26,
    "start_time": "2022-10-03T21:27:47.571Z"
   },
   {
    "duration": 13,
    "start_time": "2022-10-03T21:27:47.599Z"
   },
   {
    "duration": 7,
    "start_time": "2022-10-03T21:27:47.613Z"
   },
   {
    "duration": 9,
    "start_time": "2022-10-03T21:27:47.622Z"
   },
   {
    "duration": 9,
    "start_time": "2022-10-03T21:27:47.632Z"
   },
   {
    "duration": 10,
    "start_time": "2022-10-03T21:27:47.643Z"
   },
   {
    "duration": 8,
    "start_time": "2022-10-03T21:27:47.654Z"
   },
   {
    "duration": 35,
    "start_time": "2022-10-03T21:27:47.664Z"
   },
   {
    "duration": 4,
    "start_time": "2022-10-03T21:29:15.897Z"
   },
   {
    "duration": 4,
    "start_time": "2022-10-03T21:29:25.541Z"
   },
   {
    "duration": 7,
    "start_time": "2022-10-03T21:29:30.020Z"
   },
   {
    "duration": 6,
    "start_time": "2022-10-03T21:29:30.944Z"
   },
   {
    "duration": 5,
    "start_time": "2022-10-03T21:29:32.687Z"
   },
   {
    "duration": 1071,
    "start_time": "2022-10-03T21:29:38.711Z"
   },
   {
    "duration": 66,
    "start_time": "2022-10-03T21:29:39.784Z"
   },
   {
    "duration": 13,
    "start_time": "2022-10-03T21:29:39.851Z"
   },
   {
    "duration": 11,
    "start_time": "2022-10-03T21:29:39.866Z"
   },
   {
    "duration": 14,
    "start_time": "2022-10-03T21:29:39.878Z"
   },
   {
    "duration": 13,
    "start_time": "2022-10-03T21:29:39.893Z"
   },
   {
    "duration": 5,
    "start_time": "2022-10-03T21:29:39.908Z"
   },
   {
    "duration": 7,
    "start_time": "2022-10-03T21:29:39.915Z"
   },
   {
    "duration": 6,
    "start_time": "2022-10-03T21:29:39.923Z"
   },
   {
    "duration": 5,
    "start_time": "2022-10-03T21:29:39.931Z"
   },
   {
    "duration": 14,
    "start_time": "2022-10-03T21:29:39.938Z"
   },
   {
    "duration": 8,
    "start_time": "2022-10-03T21:29:39.953Z"
   },
   {
    "duration": 45,
    "start_time": "2022-10-03T21:29:39.962Z"
   },
   {
    "duration": 11,
    "start_time": "2022-10-03T21:29:40.009Z"
   },
   {
    "duration": 174,
    "start_time": "2022-10-03T21:29:40.021Z"
   },
   {
    "duration": 14,
    "start_time": "2022-10-03T21:29:40.196Z"
   },
   {
    "duration": 137,
    "start_time": "2022-10-03T21:29:40.211Z"
   },
   {
    "duration": 2,
    "start_time": "2022-10-03T21:29:40.350Z"
   },
   {
    "duration": 365,
    "start_time": "2022-10-03T21:29:40.353Z"
   },
   {
    "duration": 324,
    "start_time": "2022-10-03T21:29:40.720Z"
   },
   {
    "duration": 24,
    "start_time": "2022-10-03T21:29:41.046Z"
   },
   {
    "duration": 13,
    "start_time": "2022-10-03T21:29:41.072Z"
   },
   {
    "duration": 275,
    "start_time": "2022-10-03T21:29:41.086Z"
   },
   {
    "duration": 334,
    "start_time": "2022-10-03T21:29:41.362Z"
   },
   {
    "duration": 264,
    "start_time": "2022-10-03T21:29:41.698Z"
   },
   {
    "duration": 39,
    "start_time": "2022-10-03T21:29:41.964Z"
   },
   {
    "duration": 9,
    "start_time": "2022-10-03T21:29:42.005Z"
   },
   {
    "duration": 151,
    "start_time": "2022-10-03T21:29:42.018Z"
   },
   {
    "duration": 10,
    "start_time": "2022-10-03T21:29:42.170Z"
   },
   {
    "duration": 155,
    "start_time": "2022-10-03T21:29:42.182Z"
   },
   {
    "duration": 12,
    "start_time": "2022-10-03T21:29:42.339Z"
   },
   {
    "duration": 12,
    "start_time": "2022-10-03T21:29:42.352Z"
   },
   {
    "duration": 145,
    "start_time": "2022-10-03T21:29:42.365Z"
   },
   {
    "duration": 10,
    "start_time": "2022-10-03T21:29:42.512Z"
   },
   {
    "duration": 154,
    "start_time": "2022-10-03T21:29:42.523Z"
   },
   {
    "duration": 10,
    "start_time": "2022-10-03T21:29:42.678Z"
   },
   {
    "duration": 144,
    "start_time": "2022-10-03T21:29:42.694Z"
   },
   {
    "duration": 12,
    "start_time": "2022-10-03T21:29:42.840Z"
   },
   {
    "duration": 165,
    "start_time": "2022-10-03T21:29:42.853Z"
   },
   {
    "duration": 11,
    "start_time": "2022-10-03T21:29:43.019Z"
   },
   {
    "duration": 139,
    "start_time": "2022-10-03T21:29:43.031Z"
   },
   {
    "duration": 10,
    "start_time": "2022-10-03T21:29:43.172Z"
   },
   {
    "duration": 150,
    "start_time": "2022-10-03T21:29:43.184Z"
   },
   {
    "duration": 11,
    "start_time": "2022-10-03T21:29:43.336Z"
   },
   {
    "duration": 232,
    "start_time": "2022-10-03T21:29:43.349Z"
   },
   {
    "duration": 12,
    "start_time": "2022-10-03T21:29:43.583Z"
   },
   {
    "duration": 150,
    "start_time": "2022-10-03T21:29:43.597Z"
   },
   {
    "duration": 14,
    "start_time": "2022-10-03T21:29:43.749Z"
   },
   {
    "duration": 131,
    "start_time": "2022-10-03T21:29:43.765Z"
   },
   {
    "duration": 13,
    "start_time": "2022-10-03T21:29:43.898Z"
   },
   {
    "duration": 192,
    "start_time": "2022-10-03T21:29:43.912Z"
   },
   {
    "duration": 14,
    "start_time": "2022-10-03T21:29:44.105Z"
   },
   {
    "duration": 191,
    "start_time": "2022-10-03T21:29:44.121Z"
   },
   {
    "duration": 14,
    "start_time": "2022-10-03T21:29:44.314Z"
   },
   {
    "duration": 181,
    "start_time": "2022-10-03T21:29:44.330Z"
   },
   {
    "duration": 14,
    "start_time": "2022-10-03T21:29:44.512Z"
   },
   {
    "duration": 205,
    "start_time": "2022-10-03T21:29:44.527Z"
   },
   {
    "duration": 13,
    "start_time": "2022-10-03T21:29:44.733Z"
   },
   {
    "duration": 212,
    "start_time": "2022-10-03T21:29:44.748Z"
   },
   {
    "duration": 14,
    "start_time": "2022-10-03T21:29:44.962Z"
   },
   {
    "duration": 208,
    "start_time": "2022-10-03T21:29:44.977Z"
   },
   {
    "duration": 9,
    "start_time": "2022-10-03T21:29:45.187Z"
   },
   {
    "duration": 4,
    "start_time": "2022-10-03T21:29:45.197Z"
   },
   {
    "duration": 7,
    "start_time": "2022-10-03T21:29:45.203Z"
   },
   {
    "duration": 7,
    "start_time": "2022-10-03T21:29:45.211Z"
   },
   {
    "duration": 8,
    "start_time": "2022-10-03T21:29:45.220Z"
   },
   {
    "duration": 8,
    "start_time": "2022-10-03T21:29:45.229Z"
   },
   {
    "duration": 12,
    "start_time": "2022-10-03T21:29:45.238Z"
   },
   {
    "duration": 7,
    "start_time": "2022-10-03T21:29:45.251Z"
   },
   {
    "duration": 42,
    "start_time": "2022-10-03T21:29:45.259Z"
   },
   {
    "duration": 6,
    "start_time": "2022-10-03T21:29:45.302Z"
   },
   {
    "duration": 9,
    "start_time": "2022-10-03T21:29:45.309Z"
   },
   {
    "duration": 7,
    "start_time": "2022-10-03T21:29:45.319Z"
   },
   {
    "duration": 6,
    "start_time": "2022-10-03T21:29:45.327Z"
   },
   {
    "duration": 6,
    "start_time": "2022-10-03T21:29:52.105Z"
   },
   {
    "duration": 6,
    "start_time": "2022-10-03T21:29:52.942Z"
   },
   {
    "duration": 5,
    "start_time": "2022-10-03T21:30:31.370Z"
   },
   {
    "duration": 4,
    "start_time": "2022-10-03T21:30:35.670Z"
   },
   {
    "duration": 6,
    "start_time": "2022-10-03T21:30:37.332Z"
   },
   {
    "duration": 5,
    "start_time": "2022-10-03T21:31:13.504Z"
   },
   {
    "duration": 5,
    "start_time": "2022-10-03T21:32:13.296Z"
   },
   {
    "duration": 6,
    "start_time": "2022-10-03T21:32:17.183Z"
   },
   {
    "duration": 7,
    "start_time": "2022-10-03T21:32:18.343Z"
   },
   {
    "duration": 6,
    "start_time": "2022-10-03T21:32:19.499Z"
   },
   {
    "duration": 14,
    "start_time": "2022-10-03T21:32:39.697Z"
   },
   {
    "duration": 14,
    "start_time": "2022-10-03T21:32:40.737Z"
   },
   {
    "duration": 5,
    "start_time": "2022-10-03T21:33:47.157Z"
   },
   {
    "duration": 1113,
    "start_time": "2022-10-03T21:33:55.375Z"
   },
   {
    "duration": 78,
    "start_time": "2022-10-03T21:33:56.490Z"
   },
   {
    "duration": 17,
    "start_time": "2022-10-03T21:33:56.570Z"
   },
   {
    "duration": 13,
    "start_time": "2022-10-03T21:33:56.589Z"
   },
   {
    "duration": 22,
    "start_time": "2022-10-03T21:33:56.604Z"
   },
   {
    "duration": 21,
    "start_time": "2022-10-03T21:33:56.628Z"
   },
   {
    "duration": 6,
    "start_time": "2022-10-03T21:33:56.651Z"
   },
   {
    "duration": 7,
    "start_time": "2022-10-03T21:33:56.659Z"
   },
   {
    "duration": 27,
    "start_time": "2022-10-03T21:33:56.668Z"
   },
   {
    "duration": 4,
    "start_time": "2022-10-03T21:33:56.698Z"
   },
   {
    "duration": 14,
    "start_time": "2022-10-03T21:33:56.704Z"
   },
   {
    "duration": 8,
    "start_time": "2022-10-03T21:33:56.719Z"
   },
   {
    "duration": 16,
    "start_time": "2022-10-03T21:33:56.728Z"
   },
   {
    "duration": 13,
    "start_time": "2022-10-03T21:33:56.746Z"
   },
   {
    "duration": 201,
    "start_time": "2022-10-03T21:33:56.761Z"
   },
   {
    "duration": 17,
    "start_time": "2022-10-03T21:33:56.963Z"
   },
   {
    "duration": 154,
    "start_time": "2022-10-03T21:33:56.981Z"
   },
   {
    "duration": 2,
    "start_time": "2022-10-03T21:33:57.137Z"
   },
   {
    "duration": 376,
    "start_time": "2022-10-03T21:33:57.140Z"
   },
   {
    "duration": 318,
    "start_time": "2022-10-03T21:33:57.518Z"
   },
   {
    "duration": 24,
    "start_time": "2022-10-03T21:33:57.837Z"
   },
   {
    "duration": 13,
    "start_time": "2022-10-03T21:33:57.863Z"
   },
   {
    "duration": 283,
    "start_time": "2022-10-03T21:33:57.878Z"
   },
   {
    "duration": 324,
    "start_time": "2022-10-03T21:33:58.162Z"
   },
   {
    "duration": 289,
    "start_time": "2022-10-03T21:33:58.488Z"
   },
   {
    "duration": 35,
    "start_time": "2022-10-03T21:33:58.779Z"
   },
   {
    "duration": 12,
    "start_time": "2022-10-03T21:33:58.816Z"
   },
   {
    "duration": 152,
    "start_time": "2022-10-03T21:33:58.831Z"
   },
   {
    "duration": 18,
    "start_time": "2022-10-03T21:33:58.985Z"
   },
   {
    "duration": 158,
    "start_time": "2022-10-03T21:33:59.005Z"
   },
   {
    "duration": 14,
    "start_time": "2022-10-03T21:33:59.165Z"
   },
   {
    "duration": 22,
    "start_time": "2022-10-03T21:33:59.181Z"
   },
   {
    "duration": 143,
    "start_time": "2022-10-03T21:33:59.204Z"
   },
   {
    "duration": 10,
    "start_time": "2022-10-03T21:33:59.348Z"
   },
   {
    "duration": 146,
    "start_time": "2022-10-03T21:33:59.360Z"
   },
   {
    "duration": 11,
    "start_time": "2022-10-03T21:33:59.507Z"
   },
   {
    "duration": 144,
    "start_time": "2022-10-03T21:33:59.519Z"
   },
   {
    "duration": 11,
    "start_time": "2022-10-03T21:33:59.664Z"
   },
   {
    "duration": 156,
    "start_time": "2022-10-03T21:33:59.676Z"
   },
   {
    "duration": 10,
    "start_time": "2022-10-03T21:33:59.833Z"
   },
   {
    "duration": 137,
    "start_time": "2022-10-03T21:33:59.844Z"
   },
   {
    "duration": 17,
    "start_time": "2022-10-03T21:33:59.983Z"
   },
   {
    "duration": 158,
    "start_time": "2022-10-03T21:34:00.002Z"
   },
   {
    "duration": 11,
    "start_time": "2022-10-03T21:34:00.162Z"
   },
   {
    "duration": 242,
    "start_time": "2022-10-03T21:34:00.175Z"
   },
   {
    "duration": 11,
    "start_time": "2022-10-03T21:34:00.420Z"
   },
   {
    "duration": 174,
    "start_time": "2022-10-03T21:34:00.433Z"
   },
   {
    "duration": 14,
    "start_time": "2022-10-03T21:34:00.608Z"
   },
   {
    "duration": 124,
    "start_time": "2022-10-03T21:34:00.623Z"
   },
   {
    "duration": 14,
    "start_time": "2022-10-03T21:34:00.748Z"
   },
   {
    "duration": 193,
    "start_time": "2022-10-03T21:34:00.764Z"
   },
   {
    "duration": 14,
    "start_time": "2022-10-03T21:34:00.958Z"
   },
   {
    "duration": 203,
    "start_time": "2022-10-03T21:34:00.974Z"
   },
   {
    "duration": 17,
    "start_time": "2022-10-03T21:34:01.179Z"
   },
   {
    "duration": 181,
    "start_time": "2022-10-03T21:34:01.197Z"
   },
   {
    "duration": 17,
    "start_time": "2022-10-03T21:34:01.380Z"
   },
   {
    "duration": 185,
    "start_time": "2022-10-03T21:34:01.398Z"
   },
   {
    "duration": 20,
    "start_time": "2022-10-03T21:34:01.585Z"
   },
   {
    "duration": 191,
    "start_time": "2022-10-03T21:34:01.607Z"
   },
   {
    "duration": 14,
    "start_time": "2022-10-03T21:34:01.799Z"
   },
   {
    "duration": 194,
    "start_time": "2022-10-03T21:34:01.814Z"
   },
   {
    "duration": 4,
    "start_time": "2022-10-03T21:34:02.010Z"
   },
   {
    "duration": 12,
    "start_time": "2022-10-03T21:34:02.016Z"
   },
   {
    "duration": 9,
    "start_time": "2022-10-03T21:34:02.030Z"
   },
   {
    "duration": 11,
    "start_time": "2022-10-03T21:34:02.041Z"
   },
   {
    "duration": 22,
    "start_time": "2022-10-03T21:34:02.053Z"
   },
   {
    "duration": 20,
    "start_time": "2022-10-03T21:34:02.076Z"
   },
   {
    "duration": 14,
    "start_time": "2022-10-03T21:34:02.097Z"
   },
   {
    "duration": 10,
    "start_time": "2022-10-03T21:34:02.113Z"
   },
   {
    "duration": 15,
    "start_time": "2022-10-03T21:34:02.125Z"
   },
   {
    "duration": 8,
    "start_time": "2022-10-03T21:34:02.141Z"
   },
   {
    "duration": 6,
    "start_time": "2022-10-03T21:34:02.151Z"
   },
   {
    "duration": 13,
    "start_time": "2022-10-03T21:34:05.666Z"
   },
   {
    "duration": 7,
    "start_time": "2022-10-03T21:36:59.702Z"
   },
   {
    "duration": 6,
    "start_time": "2022-10-03T21:37:08.768Z"
   },
   {
    "duration": 6,
    "start_time": "2022-10-03T21:37:09.750Z"
   },
   {
    "duration": 1072,
    "start_time": "2022-10-03T21:37:14.913Z"
   },
   {
    "duration": 68,
    "start_time": "2022-10-03T21:37:15.987Z"
   },
   {
    "duration": 14,
    "start_time": "2022-10-03T21:37:16.057Z"
   },
   {
    "duration": 9,
    "start_time": "2022-10-03T21:37:16.074Z"
   },
   {
    "duration": 19,
    "start_time": "2022-10-03T21:37:16.085Z"
   },
   {
    "duration": 14,
    "start_time": "2022-10-03T21:37:16.106Z"
   },
   {
    "duration": 5,
    "start_time": "2022-10-03T21:37:16.121Z"
   },
   {
    "duration": 6,
    "start_time": "2022-10-03T21:37:16.128Z"
   },
   {
    "duration": 5,
    "start_time": "2022-10-03T21:37:16.135Z"
   },
   {
    "duration": 5,
    "start_time": "2022-10-03T21:37:16.143Z"
   },
   {
    "duration": 45,
    "start_time": "2022-10-03T21:37:16.150Z"
   },
   {
    "duration": 9,
    "start_time": "2022-10-03T21:37:16.197Z"
   },
   {
    "duration": 16,
    "start_time": "2022-10-03T21:37:16.208Z"
   },
   {
    "duration": 11,
    "start_time": "2022-10-03T21:37:16.226Z"
   },
   {
    "duration": 178,
    "start_time": "2022-10-03T21:37:16.239Z"
   },
   {
    "duration": 14,
    "start_time": "2022-10-03T21:37:16.418Z"
   },
   {
    "duration": 157,
    "start_time": "2022-10-03T21:37:16.433Z"
   },
   {
    "duration": 3,
    "start_time": "2022-10-03T21:37:16.596Z"
   },
   {
    "duration": 390,
    "start_time": "2022-10-03T21:37:16.601Z"
   },
   {
    "duration": 310,
    "start_time": "2022-10-03T21:37:16.994Z"
   },
   {
    "duration": 22,
    "start_time": "2022-10-03T21:37:17.306Z"
   },
   {
    "duration": 12,
    "start_time": "2022-10-03T21:37:17.329Z"
   },
   {
    "duration": 266,
    "start_time": "2022-10-03T21:37:17.343Z"
   },
   {
    "duration": 332,
    "start_time": "2022-10-03T21:37:17.610Z"
   },
   {
    "duration": 297,
    "start_time": "2022-10-03T21:37:17.944Z"
   },
   {
    "duration": 35,
    "start_time": "2022-10-03T21:37:18.242Z"
   },
   {
    "duration": 21,
    "start_time": "2022-10-03T21:37:18.279Z"
   },
   {
    "duration": 143,
    "start_time": "2022-10-03T21:37:18.304Z"
   },
   {
    "duration": 12,
    "start_time": "2022-10-03T21:37:18.449Z"
   },
   {
    "duration": 162,
    "start_time": "2022-10-03T21:37:18.462Z"
   },
   {
    "duration": 14,
    "start_time": "2022-10-03T21:37:18.626Z"
   },
   {
    "duration": 16,
    "start_time": "2022-10-03T21:37:18.641Z"
   },
   {
    "duration": 158,
    "start_time": "2022-10-03T21:37:18.658Z"
   },
   {
    "duration": 12,
    "start_time": "2022-10-03T21:37:18.818Z"
   },
   {
    "duration": 164,
    "start_time": "2022-10-03T21:37:18.831Z"
   },
   {
    "duration": 11,
    "start_time": "2022-10-03T21:37:18.996Z"
   },
   {
    "duration": 159,
    "start_time": "2022-10-03T21:37:19.009Z"
   },
   {
    "duration": 11,
    "start_time": "2022-10-03T21:37:19.169Z"
   },
   {
    "duration": 180,
    "start_time": "2022-10-03T21:37:19.181Z"
   },
   {
    "duration": 12,
    "start_time": "2022-10-03T21:37:19.363Z"
   },
   {
    "duration": 146,
    "start_time": "2022-10-03T21:37:19.376Z"
   },
   {
    "duration": 11,
    "start_time": "2022-10-03T21:37:19.523Z"
   },
   {
    "duration": 142,
    "start_time": "2022-10-03T21:37:19.535Z"
   },
   {
    "duration": 19,
    "start_time": "2022-10-03T21:37:19.679Z"
   },
   {
    "duration": 258,
    "start_time": "2022-10-03T21:37:19.699Z"
   },
   {
    "duration": 10,
    "start_time": "2022-10-03T21:37:19.959Z"
   },
   {
    "duration": 172,
    "start_time": "2022-10-03T21:37:19.971Z"
   },
   {
    "duration": 15,
    "start_time": "2022-10-03T21:37:20.145Z"
   },
   {
    "duration": 144,
    "start_time": "2022-10-03T21:37:20.162Z"
   },
   {
    "duration": 18,
    "start_time": "2022-10-03T21:37:20.308Z"
   },
   {
    "duration": 209,
    "start_time": "2022-10-03T21:37:20.328Z"
   },
   {
    "duration": 14,
    "start_time": "2022-10-03T21:37:20.539Z"
   },
   {
    "duration": 192,
    "start_time": "2022-10-03T21:37:20.554Z"
   },
   {
    "duration": 15,
    "start_time": "2022-10-03T21:37:20.747Z"
   },
   {
    "duration": 186,
    "start_time": "2022-10-03T21:37:20.764Z"
   },
   {
    "duration": 13,
    "start_time": "2022-10-03T21:37:20.951Z"
   },
   {
    "duration": 200,
    "start_time": "2022-10-03T21:37:20.965Z"
   },
   {
    "duration": 14,
    "start_time": "2022-10-03T21:37:21.167Z"
   },
   {
    "duration": 232,
    "start_time": "2022-10-03T21:37:21.182Z"
   },
   {
    "duration": 13,
    "start_time": "2022-10-03T21:37:21.416Z"
   },
   {
    "duration": 190,
    "start_time": "2022-10-03T21:37:21.431Z"
   },
   {
    "duration": 6,
    "start_time": "2022-10-03T21:37:21.623Z"
   },
   {
    "duration": 11,
    "start_time": "2022-10-03T21:37:21.631Z"
   },
   {
    "duration": 12,
    "start_time": "2022-10-03T21:37:21.643Z"
   },
   {
    "duration": 13,
    "start_time": "2022-10-03T21:37:21.657Z"
   },
   {
    "duration": 8,
    "start_time": "2022-10-03T21:37:21.671Z"
   },
   {
    "duration": 14,
    "start_time": "2022-10-03T21:37:21.680Z"
   },
   {
    "duration": 7,
    "start_time": "2022-10-03T21:37:21.695Z"
   },
   {
    "duration": 9,
    "start_time": "2022-10-03T21:37:21.703Z"
   },
   {
    "duration": 5,
    "start_time": "2022-10-03T21:37:21.713Z"
   },
   {
    "duration": 8,
    "start_time": "2022-10-03T21:37:21.719Z"
   },
   {
    "duration": 6,
    "start_time": "2022-10-03T21:37:21.729Z"
   },
   {
    "duration": 6,
    "start_time": "2022-10-03T21:37:21.736Z"
   },
   {
    "duration": 7,
    "start_time": "2022-10-03T21:37:26.003Z"
   },
   {
    "duration": 7,
    "start_time": "2022-10-03T21:37:36.564Z"
   },
   {
    "duration": 15,
    "start_time": "2022-10-03T21:37:55.779Z"
   },
   {
    "duration": 6,
    "start_time": "2022-10-03T21:38:20.529Z"
   },
   {
    "duration": 6,
    "start_time": "2022-10-03T21:38:21.484Z"
   },
   {
    "duration": 6,
    "start_time": "2022-10-03T21:38:46.875Z"
   },
   {
    "duration": 6,
    "start_time": "2022-10-03T21:38:47.525Z"
   },
   {
    "duration": 1092,
    "start_time": "2022-10-03T21:38:52.180Z"
   },
   {
    "duration": 64,
    "start_time": "2022-10-03T21:38:53.274Z"
   },
   {
    "duration": 13,
    "start_time": "2022-10-03T21:38:53.339Z"
   },
   {
    "duration": 9,
    "start_time": "2022-10-03T21:38:53.354Z"
   },
   {
    "duration": 14,
    "start_time": "2022-10-03T21:38:53.364Z"
   },
   {
    "duration": 24,
    "start_time": "2022-10-03T21:38:53.379Z"
   },
   {
    "duration": 5,
    "start_time": "2022-10-03T21:38:53.405Z"
   },
   {
    "duration": 5,
    "start_time": "2022-10-03T21:38:53.412Z"
   },
   {
    "duration": 6,
    "start_time": "2022-10-03T21:38:53.418Z"
   },
   {
    "duration": 4,
    "start_time": "2022-10-03T21:38:53.426Z"
   },
   {
    "duration": 13,
    "start_time": "2022-10-03T21:38:53.432Z"
   },
   {
    "duration": 7,
    "start_time": "2022-10-03T21:38:53.446Z"
   },
   {
    "duration": 46,
    "start_time": "2022-10-03T21:38:53.454Z"
   },
   {
    "duration": 10,
    "start_time": "2022-10-03T21:38:53.502Z"
   },
   {
    "duration": 164,
    "start_time": "2022-10-03T21:38:53.513Z"
   },
   {
    "duration": 21,
    "start_time": "2022-10-03T21:38:53.679Z"
   },
   {
    "duration": 140,
    "start_time": "2022-10-03T21:38:53.702Z"
   },
   {
    "duration": 3,
    "start_time": "2022-10-03T21:38:53.844Z"
   },
   {
    "duration": 353,
    "start_time": "2022-10-03T21:38:53.848Z"
   },
   {
    "duration": 314,
    "start_time": "2022-10-03T21:38:54.202Z"
   },
   {
    "duration": 23,
    "start_time": "2022-10-03T21:38:54.517Z"
   },
   {
    "duration": 12,
    "start_time": "2022-10-03T21:38:54.541Z"
   },
   {
    "duration": 262,
    "start_time": "2022-10-03T21:38:54.554Z"
   },
   {
    "duration": 324,
    "start_time": "2022-10-03T21:38:54.818Z"
   },
   {
    "duration": 275,
    "start_time": "2022-10-03T21:38:55.144Z"
   },
   {
    "duration": 32,
    "start_time": "2022-10-03T21:38:55.421Z"
   },
   {
    "duration": 9,
    "start_time": "2022-10-03T21:38:55.455Z"
   },
   {
    "duration": 162,
    "start_time": "2022-10-03T21:38:55.468Z"
   },
   {
    "duration": 11,
    "start_time": "2022-10-03T21:38:55.632Z"
   },
   {
    "duration": 154,
    "start_time": "2022-10-03T21:38:55.645Z"
   },
   {
    "duration": 13,
    "start_time": "2022-10-03T21:38:55.801Z"
   },
   {
    "duration": 10,
    "start_time": "2022-10-03T21:38:55.816Z"
   },
   {
    "duration": 150,
    "start_time": "2022-10-03T21:38:55.828Z"
   },
   {
    "duration": 18,
    "start_time": "2022-10-03T21:38:55.980Z"
   },
   {
    "duration": 155,
    "start_time": "2022-10-03T21:38:56.000Z"
   },
   {
    "duration": 11,
    "start_time": "2022-10-03T21:38:56.156Z"
   },
   {
    "duration": 147,
    "start_time": "2022-10-03T21:38:56.168Z"
   },
   {
    "duration": 11,
    "start_time": "2022-10-03T21:38:56.316Z"
   },
   {
    "duration": 159,
    "start_time": "2022-10-03T21:38:56.328Z"
   },
   {
    "duration": 13,
    "start_time": "2022-10-03T21:38:56.489Z"
   },
   {
    "duration": 171,
    "start_time": "2022-10-03T21:38:56.503Z"
   },
   {
    "duration": 10,
    "start_time": "2022-10-03T21:38:56.675Z"
   },
   {
    "duration": 139,
    "start_time": "2022-10-03T21:38:56.695Z"
   },
   {
    "duration": 12,
    "start_time": "2022-10-03T21:38:56.836Z"
   },
   {
    "duration": 234,
    "start_time": "2022-10-03T21:38:56.849Z"
   },
   {
    "duration": 19,
    "start_time": "2022-10-03T21:38:57.085Z"
   },
   {
    "duration": 159,
    "start_time": "2022-10-03T21:38:57.105Z"
   },
   {
    "duration": 12,
    "start_time": "2022-10-03T21:38:57.266Z"
   },
   {
    "duration": 118,
    "start_time": "2022-10-03T21:38:57.279Z"
   },
   {
    "duration": 12,
    "start_time": "2022-10-03T21:38:57.399Z"
   },
   {
    "duration": 177,
    "start_time": "2022-10-03T21:38:57.413Z"
   },
   {
    "duration": 13,
    "start_time": "2022-10-03T21:38:57.591Z"
   },
   {
    "duration": 187,
    "start_time": "2022-10-03T21:38:57.605Z"
   },
   {
    "duration": 12,
    "start_time": "2022-10-03T21:38:57.794Z"
   },
   {
    "duration": 174,
    "start_time": "2022-10-03T21:38:57.808Z"
   },
   {
    "duration": 17,
    "start_time": "2022-10-03T21:38:57.983Z"
   },
   {
    "duration": 200,
    "start_time": "2022-10-03T21:38:58.002Z"
   },
   {
    "duration": 13,
    "start_time": "2022-10-03T21:38:58.204Z"
   },
   {
    "duration": 195,
    "start_time": "2022-10-03T21:38:58.219Z"
   },
   {
    "duration": 14,
    "start_time": "2022-10-03T21:38:58.415Z"
   },
   {
    "duration": 194,
    "start_time": "2022-10-03T21:38:58.431Z"
   },
   {
    "duration": 4,
    "start_time": "2022-10-03T21:38:58.627Z"
   },
   {
    "duration": 1417,
    "start_time": "2022-10-03T21:38:58.632Z"
   },
   {
    "duration": 0,
    "start_time": "2022-10-03T21:39:00.050Z"
   },
   {
    "duration": 0,
    "start_time": "2022-10-03T21:39:00.052Z"
   },
   {
    "duration": 0,
    "start_time": "2022-10-03T21:39:00.052Z"
   },
   {
    "duration": 0,
    "start_time": "2022-10-03T21:39:00.054Z"
   },
   {
    "duration": 0,
    "start_time": "2022-10-03T21:39:00.055Z"
   },
   {
    "duration": 0,
    "start_time": "2022-10-03T21:39:00.056Z"
   },
   {
    "duration": 0,
    "start_time": "2022-10-03T21:39:00.057Z"
   },
   {
    "duration": 0,
    "start_time": "2022-10-03T21:39:00.058Z"
   },
   {
    "duration": 0,
    "start_time": "2022-10-03T21:39:00.059Z"
   },
   {
    "duration": 5,
    "start_time": "2022-10-03T21:39:08.967Z"
   },
   {
    "duration": 80,
    "start_time": "2022-10-03T21:44:41.240Z"
   },
   {
    "duration": 4,
    "start_time": "2022-10-03T21:44:46.209Z"
   },
   {
    "duration": 7,
    "start_time": "2022-10-03T21:44:49.320Z"
   },
   {
    "duration": 5,
    "start_time": "2022-10-03T21:45:04.606Z"
   },
   {
    "duration": 4,
    "start_time": "2022-10-03T21:45:48.782Z"
   },
   {
    "duration": 6,
    "start_time": "2022-10-03T21:45:51.029Z"
   },
   {
    "duration": 7,
    "start_time": "2022-10-03T21:45:52.041Z"
   },
   {
    "duration": 12,
    "start_time": "2022-10-03T21:46:00.338Z"
   },
   {
    "duration": 4,
    "start_time": "2022-10-03T21:46:06.863Z"
   },
   {
    "duration": 6,
    "start_time": "2022-10-03T21:46:09.263Z"
   },
   {
    "duration": 10,
    "start_time": "2022-10-03T21:46:13.841Z"
   },
   {
    "duration": 13,
    "start_time": "2022-10-03T21:46:19.645Z"
   },
   {
    "duration": 6,
    "start_time": "2022-10-03T21:47:17.661Z"
   },
   {
    "duration": 4,
    "start_time": "2022-10-03T21:47:28.846Z"
   },
   {
    "duration": 5,
    "start_time": "2022-10-03T21:47:31.715Z"
   },
   {
    "duration": 3,
    "start_time": "2022-10-03T21:47:33.947Z"
   },
   {
    "duration": 7,
    "start_time": "2022-10-03T21:47:36.515Z"
   },
   {
    "duration": 5,
    "start_time": "2022-10-03T21:48:00.250Z"
   },
   {
    "duration": 4,
    "start_time": "2022-10-03T21:48:01.932Z"
   },
   {
    "duration": 4,
    "start_time": "2022-10-03T21:48:12.633Z"
   },
   {
    "duration": 6,
    "start_time": "2022-10-03T21:48:15.520Z"
   },
   {
    "duration": 6,
    "start_time": "2022-10-03T21:48:32.597Z"
   },
   {
    "duration": 15,
    "start_time": "2022-10-03T21:48:40.858Z"
   },
   {
    "duration": 4,
    "start_time": "2022-10-03T21:52:15.001Z"
   },
   {
    "duration": 3,
    "start_time": "2022-10-03T21:52:17.622Z"
   },
   {
    "duration": 3,
    "start_time": "2022-10-03T21:52:40.447Z"
   },
   {
    "duration": 3,
    "start_time": "2022-10-03T21:52:43.026Z"
   },
   {
    "duration": 77,
    "start_time": "2022-10-03T21:54:02.599Z"
   },
   {
    "duration": 6,
    "start_time": "2022-10-03T21:54:34.913Z"
   },
   {
    "duration": 12,
    "start_time": "2022-10-03T21:55:38.453Z"
   },
   {
    "duration": 85,
    "start_time": "2022-10-03T21:59:40.443Z"
   },
   {
    "duration": 98,
    "start_time": "2022-10-03T22:00:56.519Z"
   },
   {
    "duration": 46,
    "start_time": "2023-01-18T09:39:40.385Z"
   },
   {
    "duration": 1420,
    "start_time": "2023-01-18T09:39:41.940Z"
   },
   {
    "duration": 3,
    "start_time": "2023-01-18T09:39:43.362Z"
   },
   {
    "duration": 106,
    "start_time": "2023-01-18T09:39:52.777Z"
   },
   {
    "duration": 67,
    "start_time": "2023-01-18T09:40:25.395Z"
   },
   {
    "duration": 3,
    "start_time": "2023-01-18T09:40:31.467Z"
   },
   {
    "duration": 58,
    "start_time": "2023-01-18T09:40:32.609Z"
   },
   {
    "duration": 16,
    "start_time": "2023-01-18T09:40:36.545Z"
   },
   {
    "duration": 10,
    "start_time": "2023-01-18T09:40:41.813Z"
   },
   {
    "duration": 26,
    "start_time": "2023-01-18T09:40:41.825Z"
   },
   {
    "duration": 17,
    "start_time": "2023-01-18T09:40:46.633Z"
   },
   {
    "duration": 6,
    "start_time": "2023-01-18T09:40:49.126Z"
   },
   {
    "duration": 6,
    "start_time": "2023-01-18T09:40:50.275Z"
   },
   {
    "duration": 5,
    "start_time": "2023-01-18T09:40:52.545Z"
   },
   {
    "duration": 5,
    "start_time": "2023-01-18T09:40:53.617Z"
   },
   {
    "duration": 15,
    "start_time": "2023-01-18T09:40:54.885Z"
   },
   {
    "duration": 8,
    "start_time": "2023-01-18T09:40:57.353Z"
   },
   {
    "duration": 19,
    "start_time": "2023-01-18T09:40:59.579Z"
   },
   {
    "duration": 11,
    "start_time": "2023-01-18T09:41:03.751Z"
   },
   {
    "duration": 10,
    "start_time": "2023-01-18T09:41:26.042Z"
   },
   {
    "duration": 17,
    "start_time": "2023-01-18T09:42:00.402Z"
   },
   {
    "duration": 12,
    "start_time": "2023-01-18T09:42:22.811Z"
   },
   {
    "duration": 11,
    "start_time": "2023-01-18T09:42:31.497Z"
   },
   {
    "duration": 195,
    "start_time": "2023-01-18T09:42:38.705Z"
   },
   {
    "duration": 17,
    "start_time": "2023-01-18T09:43:01.764Z"
   },
   {
    "duration": 146,
    "start_time": "2023-01-18T09:43:07.100Z"
   },
   {
    "duration": 2,
    "start_time": "2023-01-18T09:43:16.579Z"
   },
   {
    "duration": 313,
    "start_time": "2023-01-18T09:43:17.591Z"
   },
   {
    "duration": 366,
    "start_time": "2023-01-18T09:43:20.786Z"
   },
   {
    "duration": 24,
    "start_time": "2023-01-18T09:43:23.615Z"
   },
   {
    "duration": 15,
    "start_time": "2023-01-18T09:43:47.015Z"
   },
   {
    "duration": 308,
    "start_time": "2023-01-18T09:43:54.315Z"
   },
   {
    "duration": 378,
    "start_time": "2023-01-18T09:44:07.072Z"
   },
   {
    "duration": 35,
    "start_time": "2023-01-18T09:44:11.289Z"
   },
   {
    "duration": 15,
    "start_time": "2023-01-18T09:44:15.860Z"
   },
   {
    "duration": 153,
    "start_time": "2023-01-18T09:44:21.754Z"
   },
   {
    "duration": 12,
    "start_time": "2023-01-18T09:44:24.625Z"
   },
   {
    "duration": 163,
    "start_time": "2023-01-18T09:44:26.072Z"
   },
   {
    "duration": 161,
    "start_time": "2023-01-18T09:44:29.348Z"
   },
   {
    "duration": 14,
    "start_time": "2023-01-18T09:44:47.312Z"
   },
   {
    "duration": 11,
    "start_time": "2023-01-18T09:44:49.392Z"
   },
   {
    "duration": 155,
    "start_time": "2023-01-18T09:44:55.944Z"
   },
   {
    "duration": 12,
    "start_time": "2023-01-18T09:44:58.291Z"
   },
   {
    "duration": 172,
    "start_time": "2023-01-18T09:45:04.417Z"
   },
   {
    "duration": 150,
    "start_time": "2023-01-18T09:45:11.358Z"
   },
   {
    "duration": 162,
    "start_time": "2023-01-18T09:45:15.204Z"
   },
   {
    "duration": 145,
    "start_time": "2023-01-18T09:45:19.979Z"
   },
   {
    "duration": 152,
    "start_time": "2023-01-18T09:45:25.975Z"
   },
   {
    "duration": 162,
    "start_time": "2023-01-18T09:45:31.150Z"
   },
   {
    "duration": 187,
    "start_time": "2023-01-18T09:45:35.735Z"
   },
   {
    "duration": 15,
    "start_time": "2023-01-18T09:45:50.494Z"
   },
   {
    "duration": 212,
    "start_time": "2023-01-18T09:45:57.247Z"
   },
   {
    "duration": 14,
    "start_time": "2023-01-18T09:46:13.972Z"
   },
   {
    "duration": 15,
    "start_time": "2023-01-18T09:46:41.876Z"
   },
   {
    "duration": 14,
    "start_time": "2023-01-18T09:46:56.729Z"
   },
   {
    "duration": 13,
    "start_time": "2023-01-18T09:47:12.247Z"
   },
   {
    "duration": 13,
    "start_time": "2023-01-18T09:47:26.845Z"
   },
   {
    "duration": 15,
    "start_time": "2023-01-18T09:47:41.017Z"
   },
   {
    "duration": 12,
    "start_time": "2023-01-18T09:47:50.833Z"
   },
   {
    "duration": 13,
    "start_time": "2023-01-18T09:47:59.076Z"
   },
   {
    "duration": 14,
    "start_time": "2023-01-18T09:48:01.820Z"
   },
   {
    "duration": 8,
    "start_time": "2023-01-18T09:48:08.120Z"
   },
   {
    "duration": 9,
    "start_time": "2023-01-18T09:48:09.383Z"
   },
   {
    "duration": 5,
    "start_time": "2023-01-18T09:48:11.279Z"
   },
   {
    "duration": 9,
    "start_time": "2023-01-18T09:48:17.703Z"
   },
   {
    "duration": 11,
    "start_time": "2023-01-18T09:48:18.980Z"
   },
   {
    "duration": 4,
    "start_time": "2023-01-18T09:48:20.745Z"
   },
   {
    "duration": 1079,
    "start_time": "2023-03-12T18:25:37.936Z"
   },
   {
    "duration": 3,
    "start_time": "2023-03-12T18:25:39.017Z"
   },
   {
    "duration": 209,
    "start_time": "2023-03-12T18:25:39.021Z"
   },
   {
    "duration": 15,
    "start_time": "2023-03-12T18:25:39.232Z"
   },
   {
    "duration": 11,
    "start_time": "2023-03-12T18:25:39.250Z"
   },
   {
    "duration": 15,
    "start_time": "2023-03-12T18:25:39.263Z"
   },
   {
    "duration": 13,
    "start_time": "2023-03-12T18:25:39.280Z"
   },
   {
    "duration": 4,
    "start_time": "2023-03-12T18:25:39.295Z"
   },
   {
    "duration": 6,
    "start_time": "2023-03-12T18:25:39.301Z"
   },
   {
    "duration": 40,
    "start_time": "2023-03-12T18:25:39.309Z"
   },
   {
    "duration": 16,
    "start_time": "2023-03-12T18:25:39.351Z"
   },
   {
    "duration": 14,
    "start_time": "2023-03-12T18:25:39.368Z"
   },
   {
    "duration": 9,
    "start_time": "2023-03-12T18:25:39.383Z"
   },
   {
    "duration": 22,
    "start_time": "2023-03-12T18:25:39.396Z"
   },
   {
    "duration": 23,
    "start_time": "2023-03-12T18:25:39.420Z"
   },
   {
    "duration": 169,
    "start_time": "2023-03-12T18:25:39.445Z"
   },
   {
    "duration": 14,
    "start_time": "2023-03-12T18:25:39.615Z"
   },
   {
    "duration": 146,
    "start_time": "2023-03-12T18:25:39.630Z"
   },
   {
    "duration": 3,
    "start_time": "2023-03-12T18:25:39.777Z"
   },
   {
    "duration": 358,
    "start_time": "2023-03-12T18:25:39.782Z"
   },
   {
    "duration": 316,
    "start_time": "2023-03-12T18:25:40.142Z"
   },
   {
    "duration": 23,
    "start_time": "2023-03-12T18:25:40.459Z"
   },
   {
    "duration": 12,
    "start_time": "2023-03-12T18:25:40.483Z"
   },
   {
    "duration": 273,
    "start_time": "2023-03-12T18:25:40.497Z"
   },
   {
    "duration": 318,
    "start_time": "2023-03-12T18:25:40.771Z"
   },
   {
    "duration": 283,
    "start_time": "2023-03-12T18:25:41.090Z"
   },
   {
    "duration": 32,
    "start_time": "2023-03-12T18:25:41.375Z"
   },
   {
    "duration": 10,
    "start_time": "2023-03-12T18:25:41.409Z"
   },
   {
    "duration": 162,
    "start_time": "2023-03-12T18:25:41.420Z"
   },
   {
    "duration": 10,
    "start_time": "2023-03-12T18:25:41.583Z"
   },
   {
    "duration": 164,
    "start_time": "2023-03-12T18:25:41.594Z"
   },
   {
    "duration": 13,
    "start_time": "2023-03-12T18:25:41.760Z"
   },
   {
    "duration": 13,
    "start_time": "2023-03-12T18:25:41.775Z"
   },
   {
    "duration": 158,
    "start_time": "2023-03-12T18:25:41.790Z"
   },
   {
    "duration": 11,
    "start_time": "2023-03-12T18:25:41.949Z"
   },
   {
    "duration": 172,
    "start_time": "2023-03-12T18:25:41.962Z"
   },
   {
    "duration": 14,
    "start_time": "2023-03-12T18:25:42.139Z"
   },
   {
    "duration": 165,
    "start_time": "2023-03-12T18:25:42.154Z"
   },
   {
    "duration": 11,
    "start_time": "2023-03-12T18:25:42.320Z"
   },
   {
    "duration": 202,
    "start_time": "2023-03-12T18:25:42.332Z"
   },
   {
    "duration": 13,
    "start_time": "2023-03-12T18:25:42.541Z"
   },
   {
    "duration": 152,
    "start_time": "2023-03-12T18:25:42.556Z"
   },
   {
    "duration": 10,
    "start_time": "2023-03-12T18:25:42.709Z"
   },
   {
    "duration": 152,
    "start_time": "2023-03-12T18:25:42.720Z"
   },
   {
    "duration": 10,
    "start_time": "2023-03-12T18:25:42.874Z"
   },
   {
    "duration": 226,
    "start_time": "2023-03-12T18:25:42.886Z"
   },
   {
    "duration": 10,
    "start_time": "2023-03-12T18:25:43.114Z"
   },
   {
    "duration": 165,
    "start_time": "2023-03-12T18:25:43.125Z"
   },
   {
    "duration": 15,
    "start_time": "2023-03-12T18:25:43.292Z"
   },
   {
    "duration": 139,
    "start_time": "2023-03-12T18:25:43.309Z"
   },
   {
    "duration": 15,
    "start_time": "2023-03-12T18:25:43.450Z"
   },
   {
    "duration": 196,
    "start_time": "2023-03-12T18:25:43.466Z"
   },
   {
    "duration": 13,
    "start_time": "2023-03-12T18:25:43.664Z"
   },
   {
    "duration": 198,
    "start_time": "2023-03-12T18:25:43.679Z"
   },
   {
    "duration": 13,
    "start_time": "2023-03-12T18:25:43.879Z"
   },
   {
    "duration": 177,
    "start_time": "2023-03-12T18:25:43.894Z"
   },
   {
    "duration": 13,
    "start_time": "2023-03-12T18:25:44.072Z"
   },
   {
    "duration": 197,
    "start_time": "2023-03-12T18:25:44.087Z"
   },
   {
    "duration": 13,
    "start_time": "2023-03-12T18:25:44.286Z"
   },
   {
    "duration": 201,
    "start_time": "2023-03-12T18:25:44.300Z"
   },
   {
    "duration": 13,
    "start_time": "2023-03-12T18:25:44.503Z"
   },
   {
    "duration": 188,
    "start_time": "2023-03-12T18:25:44.517Z"
   },
   {
    "duration": 3,
    "start_time": "2023-03-12T18:25:44.706Z"
   },
   {
    "duration": 7,
    "start_time": "2023-03-12T18:25:44.711Z"
   },
   {
    "duration": 27,
    "start_time": "2023-03-12T18:25:44.720Z"
   },
   {
    "duration": 7,
    "start_time": "2023-03-12T18:25:44.749Z"
   },
   {
    "duration": 9,
    "start_time": "2023-03-12T18:25:44.757Z"
   },
   {
    "duration": 6,
    "start_time": "2023-03-12T18:25:44.768Z"
   },
   {
    "duration": 9,
    "start_time": "2023-03-12T18:25:44.776Z"
   },
   {
    "duration": 7,
    "start_time": "2023-03-12T18:25:44.787Z"
   },
   {
    "duration": 7,
    "start_time": "2023-03-12T18:25:44.796Z"
   }
  ],
  "kernelspec": {
   "display_name": "Python 3 (ipykernel)",
   "language": "python",
   "name": "python3"
  },
  "language_info": {
   "codemirror_mode": {
    "name": "ipython",
    "version": 3
   },
   "file_extension": ".py",
   "mimetype": "text/x-python",
   "name": "python",
   "nbconvert_exporter": "python",
   "pygments_lexer": "ipython3",
   "version": "3.9.5"
  },
  "toc": {
   "base_numbering": 1,
   "nav_menu": {},
   "number_sections": true,
   "sideBar": true,
   "skip_h1_title": true,
   "title_cell": "Содержание ",
   "title_sidebar": "Contents",
   "toc_cell": false,
   "toc_position": {},
   "toc_section_display": true,
   "toc_window_display": true
  }
 },
 "nbformat": 4,
 "nbformat_minor": 2
}
