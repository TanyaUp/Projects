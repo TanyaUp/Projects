{
 "cells": [
  {
   "cell_type": "markdown",
   "metadata": {
    "toc": true
   },
   "source": [
    "<h1>Содержание<span class=\"tocSkip\"></span></h1>\n",
    "<div class=\"toc\"><ul class=\"toc-item\"><li><span><a href=\"#Исследование-данных\" data-toc-modified-id=\"Исследование-данных-1\"><span class=\"toc-item-num\">1&nbsp;&nbsp;</span>Исследование данных</a></span></li><li><span><a href=\"#Анализ-объектов,-содержащихся-в-базе-данных-сервиса\" data-toc-modified-id=\"Анализ-объектов,-содержащихся-в-базе-данных-сервиса-2\"><span class=\"toc-item-num\">2&nbsp;&nbsp;</span>Анализ объектов, содержащихся в базе данных сервиса</a></span><ul class=\"toc-item\"><li><span><a href=\"#Количество-книг,-которые-вышли-после-1-января-2000-года\" data-toc-modified-id=\"Количество-книг,-которые-вышли-после-1-января-2000-года-2.1\"><span class=\"toc-item-num\">2.1&nbsp;&nbsp;</span>Количество книг, которые вышли после 1 января 2000 года</a></span></li><li><span><a href=\"#Количество-обзоров-и-средняя-оценка-для-каждой-книги\" data-toc-modified-id=\"Количество-обзоров-и-средняя-оценка-для-каждой-книги-2.2\"><span class=\"toc-item-num\">2.2&nbsp;&nbsp;</span>Количество обзоров и средняя оценка для каждой книги</a></span></li><li><span><a href=\"#Издательство,-которое-выпустило-наибольшее-число-книг-толще-50-страниц\" data-toc-modified-id=\"Издательство,-которое-выпустило-наибольшее-число-книг-толще-50-страниц-2.3\"><span class=\"toc-item-num\">2.3&nbsp;&nbsp;</span>Издательство, которое выпустило наибольшее число книг толще 50 страниц</a></span></li><li><span><a href=\"#Автор-с-самой-высокой-средней-оценкой-книг-(учтены-только-книги-с-50-и-более-оценками)\" data-toc-modified-id=\"Автор-с-самой-высокой-средней-оценкой-книг-(учтены-только-книги-с-50-и-более-оценками)-2.4\"><span class=\"toc-item-num\">2.4&nbsp;&nbsp;</span>Автор с самой высокой средней оценкой книг (учтены только книги с 50 и более оценками)</a></span></li><li><span><a href=\"#Cреднее-количество-обзоров-от-пользователей,-которые-поставили-больше-50-оценок\" data-toc-modified-id=\"Cреднее-количество-обзоров-от-пользователей,-которые-поставили-больше-50-оценок-2.5\"><span class=\"toc-item-num\">2.5&nbsp;&nbsp;</span>Cреднее количество обзоров от пользователей, которые поставили больше 50 оценок</a></span></li></ul></li><li><span><a href=\"#Выводы\" data-toc-modified-id=\"Выводы-3\"><span class=\"toc-item-num\">3&nbsp;&nbsp;</span>Выводы</a></span></li></ul></div>"
   ]
  },
  {
   "cell_type": "markdown",
   "metadata": {},
   "source": [
    "# Анализ базы данных сервиса для чтения книг"
   ]
  },
  {
   "cell_type": "markdown",
   "metadata": {},
   "source": [
    "В предостоящем проекте проведем исследование данных, содержащихся в сервисе для чтения книг.\n",
    "\n",
    "Цель исследования — проанализировать базу данных сервиса, содержащую информацию о его различных объектах, которая поможет сформулировать ценностное предложение для нового продукта.\n",
    "\n",
    "Анализ данных пройдёт по следующим направлениям:\n",
    "\n",
    "- Обзор исходных данных\n",
    "- Анализ объектов, содержащихся в базе данных сервиса (книги и их авторы, пользовательские обзоры и рейтинги, а также издательства)\n",
    "- Вывод"
   ]
  },
  {
   "cell_type": "markdown",
   "metadata": {},
   "source": [
    "# Введение "
   ]
  },
  {
   "cell_type": "code",
   "execution_count": 74,
   "metadata": {},
   "outputs": [],
   "source": [
    "# импортируем библиотеки\n",
    "\n",
    "import pandas as pd\n",
    "from sqlalchemy import create_engine"
   ]
  },
  {
   "cell_type": "code",
   "execution_count": 75,
   "metadata": {},
   "outputs": [],
   "source": [
    "# устанавливаем параметры\n",
    "\n",
    "db_config = {'user': 'praktikum_student', # имя пользователя\n",
    "'pwd': 'Sdf4$2;d-d30pp', # пароль\n",
    "'host': 'rc1b-wcoijxj3yxfsf3fs.mdb.yandexcloud.net',\n",
    "'port': 6432, # порт подключения\n",
    "'db': 'data-analyst-final-project-db'} # название базы данных\n",
    "connection_string = 'postgresql://{}:{}@{}:{}/{}'.format(db_config['user'],\n",
    " db_config['pwd'],\n",
    " db_config['host'],\n",
    " db_config['port'],\n",
    " db_config['db'])"
   ]
  },
  {
   "cell_type": "code",
   "execution_count": 77,
   "metadata": {},
   "outputs": [],
   "source": [
    "# сохраняем коннектор\n",
    "\n",
    "engine = create_engine(connection_string, connect_args={'sslmode':'require'})"
   ]
  },
  {
   "cell_type": "markdown",
   "metadata": {},
   "source": [
    "## Исследование данных"
   ]
  },
  {
   "cell_type": "code",
   "execution_count": 2,
   "metadata": {},
   "outputs": [],
   "source": [
    "def data(i):\n",
    "    return pd.io.sql.read_sql(i, con = engine)"
   ]
  },
  {
   "cell_type": "code",
   "execution_count": 3,
   "metadata": {},
   "outputs": [],
   "source": [
    "query_books = '''\n",
    "\n",
    "SELECT * \n",
    "FROM books\n",
    "LIMIT 5;\n",
    "\n",
    "'''\n",
    "books = pd.io.sql.read_sql(query_books, con = engine)\n",
    "\n",
    "query_authors = '''\n",
    "SELECT * \n",
    "FROM authors\n",
    "LIMIT 5;\n",
    "'''\n",
    "\n",
    "authors = pd.io.sql.read_sql(query_authors, con = engine)\n",
    "\n",
    "query_publishers = '''\n",
    "\n",
    "SELECT * \n",
    "FROM publishers\n",
    "LIMIT 5;\n",
    "\n",
    "'''\n",
    "\n",
    "publishers = pd.io.sql.read_sql(query_publishers, con = engine)\n",
    "\n",
    "query_ratings = '''\n",
    "\n",
    "SELECT * \n",
    "FROM ratings\n",
    "LIMIT 5;\n",
    "\n",
    "'''\n",
    "\n",
    "ratings = pd.io.sql.read_sql(query_ratings, con = engine)\n",
    "\n",
    "query_reviews = '''\n",
    "\n",
    "SELECT * \n",
    "FROM reviews\n",
    "LIMIT 5;\n",
    "\n",
    "'''\n",
    "reviews = pd.io.sql.read_sql(query_reviews, con = engine)"
   ]
  },
  {
   "cell_type": "code",
   "execution_count": 4,
   "metadata": {},
   "outputs": [
    {
     "data": {
      "text/html": [
       "<div>\n",
       "<style scoped>\n",
       "    .dataframe tbody tr th:only-of-type {\n",
       "        vertical-align: middle;\n",
       "    }\n",
       "\n",
       "    .dataframe tbody tr th {\n",
       "        vertical-align: top;\n",
       "    }\n",
       "\n",
       "    .dataframe thead th {\n",
       "        text-align: right;\n",
       "    }\n",
       "</style>\n",
       "<table border=\"1\" class=\"dataframe\">\n",
       "  <thead>\n",
       "    <tr style=\"text-align: right;\">\n",
       "      <th></th>\n",
       "      <th>book_id</th>\n",
       "      <th>author_id</th>\n",
       "      <th>title</th>\n",
       "      <th>num_pages</th>\n",
       "      <th>publication_date</th>\n",
       "      <th>publisher_id</th>\n",
       "    </tr>\n",
       "  </thead>\n",
       "  <tbody>\n",
       "    <tr>\n",
       "      <th>0</th>\n",
       "      <td>1</td>\n",
       "      <td>546</td>\n",
       "      <td>'Salem's Lot</td>\n",
       "      <td>594</td>\n",
       "      <td>2005-11-01</td>\n",
       "      <td>93</td>\n",
       "    </tr>\n",
       "    <tr>\n",
       "      <th>1</th>\n",
       "      <td>2</td>\n",
       "      <td>465</td>\n",
       "      <td>1 000 Places to See Before You Die</td>\n",
       "      <td>992</td>\n",
       "      <td>2003-05-22</td>\n",
       "      <td>336</td>\n",
       "    </tr>\n",
       "    <tr>\n",
       "      <th>2</th>\n",
       "      <td>3</td>\n",
       "      <td>407</td>\n",
       "      <td>13 Little Blue Envelopes (Little Blue Envelope...</td>\n",
       "      <td>322</td>\n",
       "      <td>2010-12-21</td>\n",
       "      <td>135</td>\n",
       "    </tr>\n",
       "    <tr>\n",
       "      <th>3</th>\n",
       "      <td>4</td>\n",
       "      <td>82</td>\n",
       "      <td>1491: New Revelations of the Americas Before C...</td>\n",
       "      <td>541</td>\n",
       "      <td>2006-10-10</td>\n",
       "      <td>309</td>\n",
       "    </tr>\n",
       "    <tr>\n",
       "      <th>4</th>\n",
       "      <td>5</td>\n",
       "      <td>125</td>\n",
       "      <td>1776</td>\n",
       "      <td>386</td>\n",
       "      <td>2006-07-04</td>\n",
       "      <td>268</td>\n",
       "    </tr>\n",
       "  </tbody>\n",
       "</table>\n",
       "</div>"
      ],
      "text/plain": [
       "   book_id  author_id                                              title  \\\n",
       "0        1        546                                       'Salem's Lot   \n",
       "1        2        465                 1 000 Places to See Before You Die   \n",
       "2        3        407  13 Little Blue Envelopes (Little Blue Envelope...   \n",
       "3        4         82  1491: New Revelations of the Americas Before C...   \n",
       "4        5        125                                               1776   \n",
       "\n",
       "   num_pages publication_date  publisher_id  \n",
       "0        594       2005-11-01            93  \n",
       "1        992       2003-05-22           336  \n",
       "2        322       2010-12-21           135  \n",
       "3        541       2006-10-10           309  \n",
       "4        386       2006-07-04           268  "
      ]
     },
     "execution_count": 4,
     "metadata": {},
     "output_type": "execute_result"
    }
   ],
   "source": [
    "data(query_books)"
   ]
  },
  {
   "cell_type": "markdown",
   "metadata": {},
   "source": [
    "В датасете books содержится информация с названием книги, дате ее публикации, а также id книги, id издательства и id автора."
   ]
  },
  {
   "cell_type": "code",
   "execution_count": 5,
   "metadata": {},
   "outputs": [
    {
     "data": {
      "text/html": [
       "<div>\n",
       "<style scoped>\n",
       "    .dataframe tbody tr th:only-of-type {\n",
       "        vertical-align: middle;\n",
       "    }\n",
       "\n",
       "    .dataframe tbody tr th {\n",
       "        vertical-align: top;\n",
       "    }\n",
       "\n",
       "    .dataframe thead th {\n",
       "        text-align: right;\n",
       "    }\n",
       "</style>\n",
       "<table border=\"1\" class=\"dataframe\">\n",
       "  <thead>\n",
       "    <tr style=\"text-align: right;\">\n",
       "      <th></th>\n",
       "      <th>author_id</th>\n",
       "      <th>author</th>\n",
       "    </tr>\n",
       "  </thead>\n",
       "  <tbody>\n",
       "    <tr>\n",
       "      <th>0</th>\n",
       "      <td>1</td>\n",
       "      <td>A.S. Byatt</td>\n",
       "    </tr>\n",
       "    <tr>\n",
       "      <th>1</th>\n",
       "      <td>2</td>\n",
       "      <td>Aesop/Laura Harris/Laura Gibbs</td>\n",
       "    </tr>\n",
       "    <tr>\n",
       "      <th>2</th>\n",
       "      <td>3</td>\n",
       "      <td>Agatha Christie</td>\n",
       "    </tr>\n",
       "    <tr>\n",
       "      <th>3</th>\n",
       "      <td>4</td>\n",
       "      <td>Alan Brennert</td>\n",
       "    </tr>\n",
       "    <tr>\n",
       "      <th>4</th>\n",
       "      <td>5</td>\n",
       "      <td>Alan Moore/David   Lloyd</td>\n",
       "    </tr>\n",
       "  </tbody>\n",
       "</table>\n",
       "</div>"
      ],
      "text/plain": [
       "   author_id                          author\n",
       "0          1                      A.S. Byatt\n",
       "1          2  Aesop/Laura Harris/Laura Gibbs\n",
       "2          3                 Agatha Christie\n",
       "3          4                   Alan Brennert\n",
       "4          5        Alan Moore/David   Lloyd"
      ]
     },
     "execution_count": 5,
     "metadata": {},
     "output_type": "execute_result"
    }
   ],
   "source": [
    "data(query_authors)"
   ]
  },
  {
   "cell_type": "markdown",
   "metadata": {},
   "source": [
    "Таблица authors включает в себя данные об авторах: их имена и id."
   ]
  },
  {
   "cell_type": "code",
   "execution_count": 6,
   "metadata": {},
   "outputs": [
    {
     "data": {
      "text/html": [
       "<div>\n",
       "<style scoped>\n",
       "    .dataframe tbody tr th:only-of-type {\n",
       "        vertical-align: middle;\n",
       "    }\n",
       "\n",
       "    .dataframe tbody tr th {\n",
       "        vertical-align: top;\n",
       "    }\n",
       "\n",
       "    .dataframe thead th {\n",
       "        text-align: right;\n",
       "    }\n",
       "</style>\n",
       "<table border=\"1\" class=\"dataframe\">\n",
       "  <thead>\n",
       "    <tr style=\"text-align: right;\">\n",
       "      <th></th>\n",
       "      <th>publisher_id</th>\n",
       "      <th>publisher</th>\n",
       "    </tr>\n",
       "  </thead>\n",
       "  <tbody>\n",
       "    <tr>\n",
       "      <th>0</th>\n",
       "      <td>1</td>\n",
       "      <td>Ace</td>\n",
       "    </tr>\n",
       "    <tr>\n",
       "      <th>1</th>\n",
       "      <td>2</td>\n",
       "      <td>Ace Book</td>\n",
       "    </tr>\n",
       "    <tr>\n",
       "      <th>2</th>\n",
       "      <td>3</td>\n",
       "      <td>Ace Books</td>\n",
       "    </tr>\n",
       "    <tr>\n",
       "      <th>3</th>\n",
       "      <td>4</td>\n",
       "      <td>Ace Hardcover</td>\n",
       "    </tr>\n",
       "    <tr>\n",
       "      <th>4</th>\n",
       "      <td>5</td>\n",
       "      <td>Addison Wesley Publishing Company</td>\n",
       "    </tr>\n",
       "  </tbody>\n",
       "</table>\n",
       "</div>"
      ],
      "text/plain": [
       "   publisher_id                          publisher\n",
       "0             1                                Ace\n",
       "1             2                           Ace Book\n",
       "2             3                          Ace Books\n",
       "3             4                      Ace Hardcover\n",
       "4             5  Addison Wesley Publishing Company"
      ]
     },
     "execution_count": 6,
     "metadata": {},
     "output_type": "execute_result"
    }
   ],
   "source": [
    "data(query_publishers)"
   ]
  },
  {
   "cell_type": "markdown",
   "metadata": {},
   "source": [
    "publishers содержит данные об издательствах: названия издательств и их id."
   ]
  },
  {
   "cell_type": "code",
   "execution_count": 7,
   "metadata": {},
   "outputs": [
    {
     "data": {
      "text/html": [
       "<div>\n",
       "<style scoped>\n",
       "    .dataframe tbody tr th:only-of-type {\n",
       "        vertical-align: middle;\n",
       "    }\n",
       "\n",
       "    .dataframe tbody tr th {\n",
       "        vertical-align: top;\n",
       "    }\n",
       "\n",
       "    .dataframe thead th {\n",
       "        text-align: right;\n",
       "    }\n",
       "</style>\n",
       "<table border=\"1\" class=\"dataframe\">\n",
       "  <thead>\n",
       "    <tr style=\"text-align: right;\">\n",
       "      <th></th>\n",
       "      <th>rating_id</th>\n",
       "      <th>book_id</th>\n",
       "      <th>username</th>\n",
       "      <th>rating</th>\n",
       "    </tr>\n",
       "  </thead>\n",
       "  <tbody>\n",
       "    <tr>\n",
       "      <th>0</th>\n",
       "      <td>1</td>\n",
       "      <td>1</td>\n",
       "      <td>ryanfranco</td>\n",
       "      <td>4</td>\n",
       "    </tr>\n",
       "    <tr>\n",
       "      <th>1</th>\n",
       "      <td>2</td>\n",
       "      <td>1</td>\n",
       "      <td>grantpatricia</td>\n",
       "      <td>2</td>\n",
       "    </tr>\n",
       "    <tr>\n",
       "      <th>2</th>\n",
       "      <td>3</td>\n",
       "      <td>1</td>\n",
       "      <td>brandtandrea</td>\n",
       "      <td>5</td>\n",
       "    </tr>\n",
       "    <tr>\n",
       "      <th>3</th>\n",
       "      <td>4</td>\n",
       "      <td>2</td>\n",
       "      <td>lorichen</td>\n",
       "      <td>3</td>\n",
       "    </tr>\n",
       "    <tr>\n",
       "      <th>4</th>\n",
       "      <td>5</td>\n",
       "      <td>2</td>\n",
       "      <td>mariokeller</td>\n",
       "      <td>2</td>\n",
       "    </tr>\n",
       "  </tbody>\n",
       "</table>\n",
       "</div>"
      ],
      "text/plain": [
       "   rating_id  book_id       username  rating\n",
       "0          1        1     ryanfranco       4\n",
       "1          2        1  grantpatricia       2\n",
       "2          3        1   brandtandrea       5\n",
       "3          4        2       lorichen       3\n",
       "4          5        2    mariokeller       2"
      ]
     },
     "execution_count": 7,
     "metadata": {},
     "output_type": "execute_result"
    }
   ],
   "source": [
    "data(query_ratings)"
   ]
  },
  {
   "cell_type": "markdown",
   "metadata": {},
   "source": [
    "Датасет ratings позволяет узнать о пользователях и об оценках, которые они ставят книгам: имя пользователя, id оценки, id книги и оценка книги."
   ]
  },
  {
   "cell_type": "code",
   "execution_count": 8,
   "metadata": {},
   "outputs": [
    {
     "data": {
      "text/html": [
       "<div>\n",
       "<style scoped>\n",
       "    .dataframe tbody tr th:only-of-type {\n",
       "        vertical-align: middle;\n",
       "    }\n",
       "\n",
       "    .dataframe tbody tr th {\n",
       "        vertical-align: top;\n",
       "    }\n",
       "\n",
       "    .dataframe thead th {\n",
       "        text-align: right;\n",
       "    }\n",
       "</style>\n",
       "<table border=\"1\" class=\"dataframe\">\n",
       "  <thead>\n",
       "    <tr style=\"text-align: right;\">\n",
       "      <th></th>\n",
       "      <th>review_id</th>\n",
       "      <th>book_id</th>\n",
       "      <th>username</th>\n",
       "      <th>text</th>\n",
       "    </tr>\n",
       "  </thead>\n",
       "  <tbody>\n",
       "    <tr>\n",
       "      <th>0</th>\n",
       "      <td>1</td>\n",
       "      <td>1</td>\n",
       "      <td>brandtandrea</td>\n",
       "      <td>Mention society tell send professor analysis. ...</td>\n",
       "    </tr>\n",
       "    <tr>\n",
       "      <th>1</th>\n",
       "      <td>2</td>\n",
       "      <td>1</td>\n",
       "      <td>ryanfranco</td>\n",
       "      <td>Foot glass pretty audience hit themselves. Amo...</td>\n",
       "    </tr>\n",
       "    <tr>\n",
       "      <th>2</th>\n",
       "      <td>3</td>\n",
       "      <td>2</td>\n",
       "      <td>lorichen</td>\n",
       "      <td>Listen treat keep worry. Miss husband tax but ...</td>\n",
       "    </tr>\n",
       "    <tr>\n",
       "      <th>3</th>\n",
       "      <td>4</td>\n",
       "      <td>3</td>\n",
       "      <td>johnsonamanda</td>\n",
       "      <td>Finally month interesting blue could nature cu...</td>\n",
       "    </tr>\n",
       "    <tr>\n",
       "      <th>4</th>\n",
       "      <td>5</td>\n",
       "      <td>3</td>\n",
       "      <td>scotttamara</td>\n",
       "      <td>Nation purpose heavy give wait song will. List...</td>\n",
       "    </tr>\n",
       "  </tbody>\n",
       "</table>\n",
       "</div>"
      ],
      "text/plain": [
       "   review_id  book_id       username  \\\n",
       "0          1        1   brandtandrea   \n",
       "1          2        1     ryanfranco   \n",
       "2          3        2       lorichen   \n",
       "3          4        3  johnsonamanda   \n",
       "4          5        3    scotttamara   \n",
       "\n",
       "                                                text  \n",
       "0  Mention society tell send professor analysis. ...  \n",
       "1  Foot glass pretty audience hit themselves. Amo...  \n",
       "2  Listen treat keep worry. Miss husband tax but ...  \n",
       "3  Finally month interesting blue could nature cu...  \n",
       "4  Nation purpose heavy give wait song will. List...  "
      ]
     },
     "execution_count": 8,
     "metadata": {},
     "output_type": "execute_result"
    }
   ],
   "source": [
    "data(query_reviews)"
   ]
  },
  {
   "cell_type": "markdown",
   "metadata": {},
   "source": [
    "query_reviews содержит информацию о пользовательских обзорах и включает в себя следующие позици: id обзора, id книги, имя пользователя и текст обзора."
   ]
  },
  {
   "cell_type": "markdown",
   "metadata": {},
   "source": [
    "Таким образом, выведены первые строки исследуемых датасетов, содержащие следующую информацию о книгах, их авторах, издательствах, пользовательских оценках книг и пользовательских обзоров."
   ]
  },
  {
   "cell_type": "markdown",
   "metadata": {},
   "source": [
    "## Анализ объектов, содержащихся в базе данных сервиса "
   ]
  },
  {
   "cell_type": "markdown",
   "metadata": {},
   "source": [
    "### Количество книг, которые вышли после 1 января 2000 года"
   ]
  },
  {
   "cell_type": "code",
   "execution_count": 9,
   "metadata": {},
   "outputs": [
    {
     "data": {
      "text/html": [
       "<div>\n",
       "<style scoped>\n",
       "    .dataframe tbody tr th:only-of-type {\n",
       "        vertical-align: middle;\n",
       "    }\n",
       "\n",
       "    .dataframe tbody tr th {\n",
       "        vertical-align: top;\n",
       "    }\n",
       "\n",
       "    .dataframe thead th {\n",
       "        text-align: right;\n",
       "    }\n",
       "</style>\n",
       "<table border=\"1\" class=\"dataframe\">\n",
       "  <thead>\n",
       "    <tr style=\"text-align: right;\">\n",
       "      <th></th>\n",
       "      <th>amount</th>\n",
       "    </tr>\n",
       "  </thead>\n",
       "  <tbody>\n",
       "    <tr>\n",
       "      <th>0</th>\n",
       "      <td>819</td>\n",
       "    </tr>\n",
       "  </tbody>\n",
       "</table>\n",
       "</div>"
      ],
      "text/plain": [
       "   amount\n",
       "0     819"
      ]
     },
     "execution_count": 9,
     "metadata": {},
     "output_type": "execute_result"
    }
   ],
   "source": [
    "query_amount_book = '''\n",
    "\n",
    "SELECT COUNT(book_id) AS amount\n",
    "FROM books\n",
    "WHERE publication_date > '2000-01-01'\n",
    "\n",
    "'''\n",
    "amount_book = pd.io.sql.read_sql(query_amount_book, con = engine)\n",
    "amount_book"
   ]
  },
  {
   "cell_type": "markdown",
   "metadata": {},
   "source": [
    "### Количество обзоров и средняя оценка для каждой книги "
   ]
  },
  {
   "cell_type": "code",
   "execution_count": 78,
   "metadata": {},
   "outputs": [
    {
     "data": {
      "text/html": [
       "<div>\n",
       "<style scoped>\n",
       "    .dataframe tbody tr th:only-of-type {\n",
       "        vertical-align: middle;\n",
       "    }\n",
       "\n",
       "    .dataframe tbody tr th {\n",
       "        vertical-align: top;\n",
       "    }\n",
       "\n",
       "    .dataframe thead th {\n",
       "        text-align: right;\n",
       "    }\n",
       "</style>\n",
       "<table border=\"1\" class=\"dataframe\">\n",
       "  <thead>\n",
       "    <tr style=\"text-align: right;\">\n",
       "      <th></th>\n",
       "      <th>book_id</th>\n",
       "      <th>title</th>\n",
       "      <th>reviews_amount</th>\n",
       "      <th>avg_rating</th>\n",
       "    </tr>\n",
       "  </thead>\n",
       "  <tbody>\n",
       "    <tr>\n",
       "      <th>0</th>\n",
       "      <td>948</td>\n",
       "      <td>Twilight (Twilight  #1)</td>\n",
       "      <td>7</td>\n",
       "      <td>3.66</td>\n",
       "    </tr>\n",
       "    <tr>\n",
       "      <th>1</th>\n",
       "      <td>963</td>\n",
       "      <td>Water for Elephants</td>\n",
       "      <td>6</td>\n",
       "      <td>3.98</td>\n",
       "    </tr>\n",
       "    <tr>\n",
       "      <th>2</th>\n",
       "      <td>734</td>\n",
       "      <td>The Glass Castle</td>\n",
       "      <td>6</td>\n",
       "      <td>4.21</td>\n",
       "    </tr>\n",
       "    <tr>\n",
       "      <th>3</th>\n",
       "      <td>302</td>\n",
       "      <td>Harry Potter and the Prisoner of Azkaban (Harr...</td>\n",
       "      <td>6</td>\n",
       "      <td>4.41</td>\n",
       "    </tr>\n",
       "    <tr>\n",
       "      <th>4</th>\n",
       "      <td>695</td>\n",
       "      <td>The Curious Incident of the Dog in the Night-Time</td>\n",
       "      <td>6</td>\n",
       "      <td>4.08</td>\n",
       "    </tr>\n",
       "    <tr>\n",
       "      <th>...</th>\n",
       "      <td>...</td>\n",
       "      <td>...</td>\n",
       "      <td>...</td>\n",
       "      <td>...</td>\n",
       "    </tr>\n",
       "    <tr>\n",
       "      <th>995</th>\n",
       "      <td>83</td>\n",
       "      <td>Anne Rice's The Vampire Lestat: A Graphic Novel</td>\n",
       "      <td>0</td>\n",
       "      <td>3.67</td>\n",
       "    </tr>\n",
       "    <tr>\n",
       "      <th>996</th>\n",
       "      <td>808</td>\n",
       "      <td>The Natural Way to Draw</td>\n",
       "      <td>0</td>\n",
       "      <td>3.00</td>\n",
       "    </tr>\n",
       "    <tr>\n",
       "      <th>997</th>\n",
       "      <td>672</td>\n",
       "      <td>The Cat in the Hat and Other Dr. Seuss Favorites</td>\n",
       "      <td>0</td>\n",
       "      <td>5.00</td>\n",
       "    </tr>\n",
       "    <tr>\n",
       "      <th>998</th>\n",
       "      <td>221</td>\n",
       "      <td>Essential Tales and Poems</td>\n",
       "      <td>0</td>\n",
       "      <td>4.00</td>\n",
       "    </tr>\n",
       "    <tr>\n",
       "      <th>999</th>\n",
       "      <td>191</td>\n",
       "      <td>Disney's Beauty and the Beast (A Little Golden...</td>\n",
       "      <td>0</td>\n",
       "      <td>4.00</td>\n",
       "    </tr>\n",
       "  </tbody>\n",
       "</table>\n",
       "<p>1000 rows × 4 columns</p>\n",
       "</div>"
      ],
      "text/plain": [
       "     book_id                                              title  \\\n",
       "0        948                            Twilight (Twilight  #1)   \n",
       "1        963                                Water for Elephants   \n",
       "2        734                                   The Glass Castle   \n",
       "3        302  Harry Potter and the Prisoner of Azkaban (Harr...   \n",
       "4        695  The Curious Incident of the Dog in the Night-Time   \n",
       "..       ...                                                ...   \n",
       "995       83    Anne Rice's The Vampire Lestat: A Graphic Novel   \n",
       "996      808                            The Natural Way to Draw   \n",
       "997      672   The Cat in the Hat and Other Dr. Seuss Favorites   \n",
       "998      221                          Essential Tales and Poems   \n",
       "999      191  Disney's Beauty and the Beast (A Little Golden...   \n",
       "\n",
       "     reviews_amount  avg_rating  \n",
       "0                 7        3.66  \n",
       "1                 6        3.98  \n",
       "2                 6        4.21  \n",
       "3                 6        4.41  \n",
       "4                 6        4.08  \n",
       "..              ...         ...  \n",
       "995               0        3.67  \n",
       "996               0        3.00  \n",
       "997               0        5.00  \n",
       "998               0        4.00  \n",
       "999               0        4.00  \n",
       "\n",
       "[1000 rows x 4 columns]"
      ]
     },
     "execution_count": 78,
     "metadata": {},
     "output_type": "execute_result"
    }
   ],
   "source": [
    "query_ratings_reviews = '''\n",
    "\n",
    "SELECT b.book_id,\n",
    "       b.title,\n",
    "       COUNT(DISTINCT(r.review_id)) AS reviews_amount,\n",
    "       ROUND(AVG(ra.rating),2) AS avg_rating\n",
    "FROM books AS b\n",
    "LEFT JOIN reviews AS r ON r.book_id = b.book_id\n",
    "LEFT JOIN ratings AS ra ON ra.book_id = b.book_id\n",
    "GROUP BY b.book_id, \n",
    "         b.title\n",
    "ORDER BY reviews_amount DESC;\n",
    "\n",
    "'''\n",
    "ratings_reviews = pd.io.sql.read_sql(query_ratings_reviews, con = engine)\n",
    "ratings_reviews"
   ]
  },
  {
   "cell_type": "markdown",
   "metadata": {},
   "source": [
    "### Издательство, которое выпустило наибольшее число книг толще 50 страниц"
   ]
  },
  {
   "cell_type": "code",
   "execution_count": 11,
   "metadata": {},
   "outputs": [
    {
     "data": {
      "text/html": [
       "<div>\n",
       "<style scoped>\n",
       "    .dataframe tbody tr th:only-of-type {\n",
       "        vertical-align: middle;\n",
       "    }\n",
       "\n",
       "    .dataframe tbody tr th {\n",
       "        vertical-align: top;\n",
       "    }\n",
       "\n",
       "    .dataframe thead th {\n",
       "        text-align: right;\n",
       "    }\n",
       "</style>\n",
       "<table border=\"1\" class=\"dataframe\">\n",
       "  <thead>\n",
       "    <tr style=\"text-align: right;\">\n",
       "      <th></th>\n",
       "      <th>publisher_id</th>\n",
       "      <th>publisher</th>\n",
       "      <th>amount_books</th>\n",
       "    </tr>\n",
       "  </thead>\n",
       "  <tbody>\n",
       "    <tr>\n",
       "      <th>0</th>\n",
       "      <td>212</td>\n",
       "      <td>Penguin Books</td>\n",
       "      <td>42</td>\n",
       "    </tr>\n",
       "  </tbody>\n",
       "</table>\n",
       "</div>"
      ],
      "text/plain": [
       "   publisher_id      publisher  amount_books\n",
       "0           212  Penguin Books            42"
      ]
     },
     "execution_count": 11,
     "metadata": {},
     "output_type": "execute_result"
    }
   ],
   "source": [
    "query_publisher = '''\n",
    "\n",
    "SELECT p.publisher_id,\n",
    "       p.publisher,\n",
    "       COUNT(b.book_id) AS amount_books\n",
    "       \n",
    "FROM publishers AS p\n",
    "INNER JOIN books AS b ON p.publisher_id = b.publisher_id\n",
    "WHERE b.num_pages > 50\n",
    "GROUP BY p.publisher_id,\n",
    "       p.publisher\n",
    "ORDER BY amount_books DESC\n",
    "LIMIT 1;\n",
    "\n",
    "'''\n",
    "publisher_books = pd.io.sql.read_sql(query_publisher, con = engine)\n",
    "publisher_books"
   ]
  },
  {
   "cell_type": "markdown",
   "metadata": {},
   "source": [
    "### Автор с самой высокой средней оценкой книг (учтены только книги с 50 и более оценками)"
   ]
  },
  {
   "cell_type": "code",
   "execution_count": 16,
   "metadata": {},
   "outputs": [
    {
     "data": {
      "text/html": [
       "<div>\n",
       "<style scoped>\n",
       "    .dataframe tbody tr th:only-of-type {\n",
       "        vertical-align: middle;\n",
       "    }\n",
       "\n",
       "    .dataframe tbody tr th {\n",
       "        vertical-align: top;\n",
       "    }\n",
       "\n",
       "    .dataframe thead th {\n",
       "        text-align: right;\n",
       "    }\n",
       "</style>\n",
       "<table border=\"1\" class=\"dataframe\">\n",
       "  <thead>\n",
       "    <tr style=\"text-align: right;\">\n",
       "      <th></th>\n",
       "      <th>author</th>\n",
       "      <th>avg_rating</th>\n",
       "    </tr>\n",
       "  </thead>\n",
       "  <tbody>\n",
       "    <tr>\n",
       "      <th>0</th>\n",
       "      <td>J.K. Rowling/Mary GrandPré</td>\n",
       "      <td>4.28</td>\n",
       "    </tr>\n",
       "  </tbody>\n",
       "</table>\n",
       "</div>"
      ],
      "text/plain": [
       "                       author  avg_rating\n",
       "0  J.K. Rowling/Mary GrandPré        4.28"
      ]
     },
     "execution_count": 16,
     "metadata": {},
     "output_type": "execute_result"
    }
   ],
   "source": [
    "query_popular_author = '''\n",
    "\n",
    "SELECT author,\n",
    "       ROUND(AVG(popular_books.avg_rating),2) AS avg_rating\n",
    "FROM (SELECT a.author,\n",
    "             b.book_id,\n",
    "             AVG(r.rating) AS avg_rating,\n",
    "             COUNT(r.rating) AS rating_amount\n",
    "      FROM authors AS a\n",
    "      INNER JOIN books AS b ON b.author_id = a.author_id\n",
    "      INNER JOIN ratings AS r ON r.book_id = b.book_id\n",
    "      GROUP BY a.author,\n",
    "            b.book_id\n",
    "      HAVING COUNT(r.rating) >= 50) AS popular_books\n",
    "GROUP BY author\n",
    "ORDER BY avg_rating DESC    \n",
    "LIMIT 1;\n",
    "\n",
    "'''\n",
    "popular_author = pd.io.sql.read_sql(query_popular_author, con = engine)\n",
    "popular_author"
   ]
  },
  {
   "cell_type": "markdown",
   "metadata": {},
   "source": [
    "### Cреднее количество обзоров от пользователей, которые поставили больше 50 оценок"
   ]
  },
  {
   "cell_type": "code",
   "execution_count": 13,
   "metadata": {},
   "outputs": [
    {
     "data": {
      "text/html": [
       "<div>\n",
       "<style scoped>\n",
       "    .dataframe tbody tr th:only-of-type {\n",
       "        vertical-align: middle;\n",
       "    }\n",
       "\n",
       "    .dataframe tbody tr th {\n",
       "        vertical-align: top;\n",
       "    }\n",
       "\n",
       "    .dataframe thead th {\n",
       "        text-align: right;\n",
       "    }\n",
       "</style>\n",
       "<table border=\"1\" class=\"dataframe\">\n",
       "  <thead>\n",
       "    <tr style=\"text-align: right;\">\n",
       "      <th></th>\n",
       "      <th>avg_amount</th>\n",
       "    </tr>\n",
       "  </thead>\n",
       "  <tbody>\n",
       "    <tr>\n",
       "      <th>0</th>\n",
       "      <td>24.0</td>\n",
       "    </tr>\n",
       "  </tbody>\n",
       "</table>\n",
       "</div>"
      ],
      "text/plain": [
       "   avg_amount\n",
       "0        24.0"
      ]
     },
     "execution_count": 13,
     "metadata": {},
     "output_type": "execute_result"
    }
   ],
   "source": [
    "query_avg_reviews_amount = '''\n",
    "\n",
    "SELECT ROUND(AVG(count)) AS avg_amount\n",
    "FROM (SELECT username,\n",
    "             COUNT(review_id)\n",
    "      FROM reviews\n",
    "      WHERE username IN (SELECT username\n",
    "                         FROM ratings\n",
    "                         GROUP BY username\n",
    "                         HAVING COUNT(rating_id) > 50)\n",
    "      GROUP BY username)  AS count_reviews\n",
    "\n",
    "'''\n",
    "avg_reviews_amount = pd.io.sql.read_sql(query_avg_reviews_amount, con = engine)\n",
    "avg_reviews_amount"
   ]
  },
  {
   "cell_type": "markdown",
   "metadata": {},
   "source": [
    "## Выводы"
   ]
  },
  {
   "cell_type": "markdown",
   "metadata": {},
   "source": [
    "Проанализировав данные об объектах базы данных сервиса, сформулируем следующие выводы:\n",
    "    \n",
    "- В базе данных содержится 819 книг, которые вышли после 1 января 2000 года\n",
    "- Таблица ratings_reviews включает в себя количество обзоров и средняя оценка для каждой книги: наибольшее количество обзоров определено у книги Twilight (Twilight #1)\n",
    "- \"Penguin Books\" - издательство, которое выпустило наибольшее число книг толще 50 страниц: количество книг составляет 42 штуки\n",
    "- J.K. Rowling, работающая над книгами вместе с иллюстратором Mary GrandPré, является автором с самой высокой средней оценкой книг - 4.28 (при расчете учитывались только книги с 50 и более оценками)\n",
    "- 24 - среднее количество обзоров от пользователей, которые поставили больше 50 оценок\n",
    "    "
   ]
  }
 ],
 "metadata": {
  "ExecuteTimeLog": [
   {
    "duration": 536,
    "start_time": "2023-02-23T08:03:26.924Z"
   },
   {
    "duration": 7722,
    "start_time": "2023-02-23T08:03:39.017Z"
   },
   {
    "duration": 118,
    "start_time": "2023-02-23T08:03:49.456Z"
   },
   {
    "duration": 4,
    "start_time": "2023-02-23T08:03:54.798Z"
   },
   {
    "duration": 34,
    "start_time": "2023-02-23T08:03:56.585Z"
   },
   {
    "duration": 3,
    "start_time": "2023-02-23T18:44:40.422Z"
   },
   {
    "duration": 9080,
    "start_time": "2023-02-23T18:48:12.185Z"
   },
   {
    "duration": 78,
    "start_time": "2023-02-23T18:48:29.553Z"
   },
   {
    "duration": 5,
    "start_time": "2023-02-23T18:48:54.122Z"
   },
   {
    "duration": 253,
    "start_time": "2023-02-23T18:48:55.780Z"
   },
   {
    "duration": 5,
    "start_time": "2023-02-23T18:49:18.283Z"
   },
   {
    "duration": 130,
    "start_time": "2023-02-23T18:49:21.802Z"
   },
   {
    "duration": 5,
    "start_time": "2023-02-23T18:49:38.496Z"
   },
   {
    "duration": 44,
    "start_time": "2023-02-23T18:49:40.678Z"
   },
   {
    "duration": 5,
    "start_time": "2023-02-23T18:49:45.733Z"
   },
   {
    "duration": 43,
    "start_time": "2023-02-23T18:49:47.366Z"
   },
   {
    "duration": 10,
    "start_time": "2023-02-23T18:49:51.041Z"
   },
   {
    "duration": 5,
    "start_time": "2023-02-23T18:53:44.901Z"
   },
   {
    "duration": 70,
    "start_time": "2023-02-23T18:53:46.399Z"
   },
   {
    "duration": 6,
    "start_time": "2023-02-23T18:53:51.386Z"
   },
   {
    "duration": 72,
    "start_time": "2023-02-23T18:53:54.650Z"
   },
   {
    "duration": 5,
    "start_time": "2023-02-23T18:53:56.598Z"
   },
   {
    "duration": 6,
    "start_time": "2023-02-23T18:53:59.031Z"
   },
   {
    "duration": 58,
    "start_time": "2023-02-23T18:56:07.344Z"
   },
   {
    "duration": 10,
    "start_time": "2023-02-23T18:56:43.876Z"
   },
   {
    "duration": 10,
    "start_time": "2023-02-23T18:56:47.710Z"
   },
   {
    "duration": 15,
    "start_time": "2023-02-23T18:56:49.787Z"
   },
   {
    "duration": 6,
    "start_time": "2023-02-23T18:56:53.123Z"
   },
   {
    "duration": 4,
    "start_time": "2023-02-23T18:58:16.774Z"
   },
   {
    "duration": 4,
    "start_time": "2023-02-23T18:58:27.929Z"
   },
   {
    "duration": 135,
    "start_time": "2023-02-23T18:58:40.296Z"
   },
   {
    "duration": 85,
    "start_time": "2023-02-23T18:58:47.031Z"
   },
   {
    "duration": 112,
    "start_time": "2023-02-23T18:59:04.466Z"
   },
   {
    "duration": 3,
    "start_time": "2023-02-23T18:59:15.458Z"
   },
   {
    "duration": 75,
    "start_time": "2023-02-23T18:59:23.338Z"
   },
   {
    "duration": 71,
    "start_time": "2023-02-23T18:59:26.741Z"
   },
   {
    "duration": 121,
    "start_time": "2023-02-23T18:59:30.058Z"
   },
   {
    "duration": 52,
    "start_time": "2023-02-23T18:59:34.858Z"
   },
   {
    "duration": 18,
    "start_time": "2023-02-23T19:02:56.368Z"
   },
   {
    "duration": 23,
    "start_time": "2023-02-23T19:03:02.089Z"
   },
   {
    "duration": 37,
    "start_time": "2023-02-23T19:03:05.865Z"
   },
   {
    "duration": 60,
    "start_time": "2023-02-23T19:03:44.735Z"
   },
   {
    "duration": 128,
    "start_time": "2023-02-23T19:04:05.899Z"
   },
   {
    "duration": 21,
    "start_time": "2023-02-23T19:04:37.543Z"
   },
   {
    "duration": 26,
    "start_time": "2023-02-23T19:04:46.628Z"
   },
   {
    "duration": 15,
    "start_time": "2023-02-23T19:04:55.186Z"
   },
   {
    "duration": 13,
    "start_time": "2023-02-23T19:05:04.558Z"
   },
   {
    "duration": 13,
    "start_time": "2023-02-23T19:05:05.301Z"
   },
   {
    "duration": 47,
    "start_time": "2023-02-23T19:05:59.270Z"
   },
   {
    "duration": 112,
    "start_time": "2023-02-23T19:06:24.157Z"
   },
   {
    "duration": 28,
    "start_time": "2023-02-23T19:06:26.133Z"
   },
   {
    "duration": 3,
    "start_time": "2023-02-23T19:06:50.666Z"
   },
   {
    "duration": 76,
    "start_time": "2023-02-23T19:06:55.153Z"
   },
   {
    "duration": 14,
    "start_time": "2023-02-23T19:07:01.380Z"
   },
   {
    "duration": 8,
    "start_time": "2023-02-23T19:07:44.411Z"
   },
   {
    "duration": 5,
    "start_time": "2023-02-23T19:07:48.139Z"
   },
   {
    "duration": 47,
    "start_time": "2023-02-23T19:07:49.760Z"
   },
   {
    "duration": 13,
    "start_time": "2023-02-23T19:07:51.962Z"
   },
   {
    "duration": 47,
    "start_time": "2023-02-23T19:08:05.183Z"
   },
   {
    "duration": 48,
    "start_time": "2023-02-23T19:08:11.393Z"
   },
   {
    "duration": 177,
    "start_time": "2023-02-23T19:08:25.021Z"
   },
   {
    "duration": 66,
    "start_time": "2023-02-23T19:08:39.558Z"
   },
   {
    "duration": 66,
    "start_time": "2023-02-23T19:09:03.395Z"
   },
   {
    "duration": 80,
    "start_time": "2023-02-23T19:09:45.897Z"
   },
   {
    "duration": 32,
    "start_time": "2023-02-23T19:10:02.077Z"
   },
   {
    "duration": 17,
    "start_time": "2023-02-23T19:10:03.686Z"
   },
   {
    "duration": 4,
    "start_time": "2023-02-23T19:10:10.604Z"
   },
   {
    "duration": 27,
    "start_time": "2023-02-23T19:10:17.998Z"
   },
   {
    "duration": 4,
    "start_time": "2023-02-23T19:10:19.777Z"
   },
   {
    "duration": 30,
    "start_time": "2023-02-23T19:10:27.102Z"
   },
   {
    "duration": 32,
    "start_time": "2023-02-23T19:10:28.599Z"
   },
   {
    "duration": 50,
    "start_time": "2023-02-23T19:10:30.619Z"
   },
   {
    "duration": 13,
    "start_time": "2023-02-23T19:10:44.968Z"
   },
   {
    "duration": 15,
    "start_time": "2023-02-23T19:11:29.471Z"
   },
   {
    "duration": 12,
    "start_time": "2023-02-23T19:12:01.600Z"
   },
   {
    "duration": 12,
    "start_time": "2023-02-23T19:12:03.176Z"
   },
   {
    "duration": 44,
    "start_time": "2023-02-23T19:12:04.640Z"
   },
   {
    "duration": 109,
    "start_time": "2023-02-23T19:27:23.182Z"
   },
   {
    "duration": 108,
    "start_time": "2023-02-23T19:28:19.323Z"
   },
   {
    "duration": 25,
    "start_time": "2023-02-23T19:28:58.749Z"
   },
   {
    "duration": 25,
    "start_time": "2023-02-23T19:29:07.539Z"
   },
   {
    "duration": 37,
    "start_time": "2023-02-23T19:29:20.535Z"
   },
   {
    "duration": 18,
    "start_time": "2023-02-23T19:29:36.757Z"
   },
   {
    "duration": 38,
    "start_time": "2023-02-23T19:30:29.614Z"
   },
   {
    "duration": 121,
    "start_time": "2023-02-23T19:31:21.914Z"
   },
   {
    "duration": 112,
    "start_time": "2023-02-23T19:31:34.016Z"
   },
   {
    "duration": 131,
    "start_time": "2023-02-23T19:32:02.767Z"
   },
   {
    "duration": 146,
    "start_time": "2023-02-23T19:32:22.506Z"
   },
   {
    "duration": 132,
    "start_time": "2023-02-23T19:33:17.566Z"
   },
   {
    "duration": 130,
    "start_time": "2023-02-23T19:33:33.332Z"
   },
   {
    "duration": 23,
    "start_time": "2023-02-23T19:34:20.312Z"
   },
   {
    "duration": 128,
    "start_time": "2023-02-23T19:34:33.372Z"
   },
   {
    "duration": 158,
    "start_time": "2023-02-23T19:34:56.156Z"
   },
   {
    "duration": 158,
    "start_time": "2023-02-23T19:35:02.571Z"
   },
   {
    "duration": 140,
    "start_time": "2023-02-23T19:35:19.692Z"
   },
   {
    "duration": 36,
    "start_time": "2023-02-23T19:35:26.164Z"
   },
   {
    "duration": 24,
    "start_time": "2023-02-23T19:38:19.176Z"
   },
   {
    "duration": 26,
    "start_time": "2023-02-23T19:38:20.761Z"
   },
   {
    "duration": 25,
    "start_time": "2023-02-23T19:38:21.063Z"
   },
   {
    "duration": 130,
    "start_time": "2023-02-23T19:38:30.969Z"
   },
   {
    "duration": 151,
    "start_time": "2023-02-23T19:38:38.766Z"
   },
   {
    "duration": 129,
    "start_time": "2023-02-23T19:38:43.229Z"
   },
   {
    "duration": 136,
    "start_time": "2023-02-23T19:39:32.152Z"
   },
   {
    "duration": 123,
    "start_time": "2023-02-23T19:39:40.905Z"
   },
   {
    "duration": 122,
    "start_time": "2023-02-23T19:39:45.852Z"
   },
   {
    "duration": 33,
    "start_time": "2023-02-23T19:40:25.179Z"
   },
   {
    "duration": 29,
    "start_time": "2023-02-23T19:40:42.276Z"
   },
   {
    "duration": 23,
    "start_time": "2023-02-23T19:40:49.861Z"
   },
   {
    "duration": 32,
    "start_time": "2023-02-23T19:41:19.078Z"
   },
   {
    "duration": 24,
    "start_time": "2023-02-23T19:41:24.376Z"
   },
   {
    "duration": 28,
    "start_time": "2023-02-23T19:41:40.885Z"
   },
   {
    "duration": 154,
    "start_time": "2023-02-23T19:42:58.964Z"
   },
   {
    "duration": 107,
    "start_time": "2023-02-23T19:43:02.224Z"
   },
   {
    "duration": 138,
    "start_time": "2023-02-23T19:43:15.119Z"
   },
   {
    "duration": 26,
    "start_time": "2023-02-23T19:43:33.717Z"
   },
   {
    "duration": 25,
    "start_time": "2023-02-23T19:45:22.273Z"
   },
   {
    "duration": 36,
    "start_time": "2023-02-23T19:45:36.170Z"
   },
   {
    "duration": 60,
    "start_time": "2023-02-23T19:45:57.828Z"
   },
   {
    "duration": 105,
    "start_time": "2023-02-23T19:46:23.195Z"
   },
   {
    "duration": 29,
    "start_time": "2023-02-23T19:46:50.901Z"
   },
   {
    "duration": 36,
    "start_time": "2023-02-23T19:50:45.094Z"
   },
   {
    "duration": 36,
    "start_time": "2023-02-23T19:50:54.298Z"
   },
   {
    "duration": 143,
    "start_time": "2023-02-23T19:54:29.215Z"
   },
   {
    "duration": 170,
    "start_time": "2023-02-23T19:54:56.517Z"
   },
   {
    "duration": 110,
    "start_time": "2023-02-23T19:55:05.627Z"
   },
   {
    "duration": 143,
    "start_time": "2023-02-23T19:55:28.870Z"
   },
   {
    "duration": 118,
    "start_time": "2023-02-23T19:55:43.710Z"
   },
   {
    "duration": 23,
    "start_time": "2023-02-23T19:55:51.204Z"
   },
   {
    "duration": 22,
    "start_time": "2023-02-23T19:56:40.604Z"
   },
   {
    "duration": 142,
    "start_time": "2023-02-23T19:56:52.082Z"
   },
   {
    "duration": 115,
    "start_time": "2023-02-23T19:56:59.772Z"
   },
   {
    "duration": 149,
    "start_time": "2023-02-23T19:57:19.645Z"
   },
   {
    "duration": 148,
    "start_time": "2023-02-23T19:57:57.174Z"
   },
   {
    "duration": 123,
    "start_time": "2023-02-23T19:58:03.964Z"
   },
   {
    "duration": 147,
    "start_time": "2023-02-23T19:58:27.823Z"
   },
   {
    "duration": 20,
    "start_time": "2023-02-23T19:58:46.902Z"
   },
   {
    "duration": 60,
    "start_time": "2023-02-23T19:58:52.130Z"
   },
   {
    "duration": 115,
    "start_time": "2023-02-23T19:59:13.318Z"
   },
   {
    "duration": 136,
    "start_time": "2023-02-23T19:59:25.781Z"
   },
   {
    "duration": 131,
    "start_time": "2023-02-23T20:00:08.215Z"
   },
   {
    "duration": 17,
    "start_time": "2023-02-23T20:00:13.584Z"
   },
   {
    "duration": 21,
    "start_time": "2023-02-23T20:00:36.780Z"
   },
   {
    "duration": 24,
    "start_time": "2023-02-23T20:03:38.565Z"
   },
   {
    "duration": 17,
    "start_time": "2023-02-23T20:04:04.514Z"
   },
   {
    "duration": 55,
    "start_time": "2023-02-23T20:04:42.336Z"
   },
   {
    "duration": 19,
    "start_time": "2023-02-23T20:07:09.589Z"
   },
   {
    "duration": 22,
    "start_time": "2023-02-23T20:07:36.722Z"
   },
   {
    "duration": 21,
    "start_time": "2023-02-23T20:09:11.064Z"
   },
   {
    "duration": 160,
    "start_time": "2023-02-23T20:26:57.037Z"
   },
   {
    "duration": 119,
    "start_time": "2023-02-23T20:27:30.219Z"
   },
   {
    "duration": 120,
    "start_time": "2023-02-23T20:27:54.312Z"
   },
   {
    "duration": 114,
    "start_time": "2023-02-23T20:28:06.391Z"
   },
   {
    "duration": 110,
    "start_time": "2023-02-23T20:28:13.625Z"
   },
   {
    "duration": 122,
    "start_time": "2023-02-23T20:29:23.271Z"
   },
   {
    "duration": 103,
    "start_time": "2023-02-23T20:29:38.216Z"
   },
   {
    "duration": 114,
    "start_time": "2023-02-23T20:29:47.559Z"
   },
   {
    "duration": 19,
    "start_time": "2023-02-23T20:29:54.519Z"
   },
   {
    "duration": 23,
    "start_time": "2023-02-23T20:30:12.510Z"
   },
   {
    "duration": 21,
    "start_time": "2023-02-23T20:30:38.478Z"
   },
   {
    "duration": 24,
    "start_time": "2023-02-23T20:32:17.555Z"
   },
   {
    "duration": 20,
    "start_time": "2023-02-23T20:32:35.663Z"
   },
   {
    "duration": 4,
    "start_time": "2023-02-23T20:39:55.510Z"
   },
   {
    "duration": 35,
    "start_time": "2023-02-23T20:39:56.689Z"
   },
   {
    "duration": 18,
    "start_time": "2023-02-23T20:39:59.765Z"
   },
   {
    "duration": 17,
    "start_time": "2023-02-23T20:40:01.780Z"
   },
   {
    "duration": 35,
    "start_time": "2023-02-23T20:40:16.166Z"
   },
   {
    "duration": 17,
    "start_time": "2023-02-23T20:40:17.572Z"
   },
   {
    "duration": 21,
    "start_time": "2023-02-23T20:40:19.313Z"
   },
   {
    "duration": 15,
    "start_time": "2023-02-23T20:40:20.781Z"
   },
   {
    "duration": 146,
    "start_time": "2023-02-23T20:48:46.620Z"
   },
   {
    "duration": 129,
    "start_time": "2023-02-23T20:49:04.596Z"
   },
   {
    "duration": 132,
    "start_time": "2023-02-23T20:49:13.666Z"
   },
   {
    "duration": 144,
    "start_time": "2023-02-23T20:49:49.341Z"
   },
   {
    "duration": 144,
    "start_time": "2023-02-23T20:50:31.365Z"
   },
   {
    "duration": 113,
    "start_time": "2023-02-23T20:50:40.072Z"
   },
   {
    "duration": 121,
    "start_time": "2023-02-23T20:50:55.600Z"
   },
   {
    "duration": 142,
    "start_time": "2023-02-23T20:51:09.220Z"
   },
   {
    "duration": 113,
    "start_time": "2023-02-23T20:55:46.400Z"
   },
   {
    "duration": 139,
    "start_time": "2023-02-23T20:58:42.612Z"
   },
   {
    "duration": 143,
    "start_time": "2023-02-23T20:59:01.951Z"
   },
   {
    "duration": 138,
    "start_time": "2023-02-23T20:59:23.127Z"
   },
   {
    "duration": 136,
    "start_time": "2023-02-23T21:00:29.100Z"
   },
   {
    "duration": 139,
    "start_time": "2023-02-23T21:01:42.321Z"
   },
   {
    "duration": 46,
    "start_time": "2023-02-24T08:50:01.270Z"
   },
   {
    "duration": 482,
    "start_time": "2023-02-24T08:50:06.360Z"
   },
   {
    "duration": 5251,
    "start_time": "2023-02-24T08:50:06.843Z"
   },
   {
    "duration": 279,
    "start_time": "2023-02-24T08:50:12.095Z"
   },
   {
    "duration": 4,
    "start_time": "2023-02-24T08:50:12.375Z"
   },
   {
    "duration": 9,
    "start_time": "2023-02-24T08:50:12.381Z"
   },
   {
    "duration": 541,
    "start_time": "2023-02-24T08:50:12.392Z"
   },
   {
    "duration": 77,
    "start_time": "2023-02-24T08:50:12.935Z"
   },
   {
    "duration": 74,
    "start_time": "2023-02-24T08:50:13.014Z"
   },
   {
    "duration": 85,
    "start_time": "2023-02-24T08:50:13.090Z"
   },
   {
    "duration": 78,
    "start_time": "2023-02-24T08:50:13.177Z"
   },
   {
    "duration": 75,
    "start_time": "2023-02-24T08:50:13.258Z"
   },
   {
    "duration": 75,
    "start_time": "2023-02-24T08:50:13.335Z"
   },
   {
    "duration": 94,
    "start_time": "2023-02-24T08:50:13.411Z"
   },
   {
    "duration": 77,
    "start_time": "2023-02-24T08:50:13.507Z"
   },
   {
    "duration": 80,
    "start_time": "2023-02-24T08:50:13.586Z"
   },
   {
    "duration": 197,
    "start_time": "2023-02-24T08:50:13.667Z"
   },
   {
    "duration": 146,
    "start_time": "2023-02-24T08:50:26.229Z"
   },
   {
    "duration": 132,
    "start_time": "2023-02-24T08:51:18.381Z"
   },
   {
    "duration": 134,
    "start_time": "2023-02-24T08:51:25.989Z"
   },
   {
    "duration": 144,
    "start_time": "2023-02-24T08:51:33.014Z"
   },
   {
    "duration": 136,
    "start_time": "2023-02-24T08:51:40.773Z"
   },
   {
    "duration": 142,
    "start_time": "2023-02-24T08:52:04.652Z"
   },
   {
    "duration": 140,
    "start_time": "2023-02-24T08:54:22.107Z"
   },
   {
    "duration": 132,
    "start_time": "2023-02-24T08:54:33.377Z"
   },
   {
    "duration": 138,
    "start_time": "2023-02-24T08:55:27.433Z"
   },
   {
    "duration": 126,
    "start_time": "2023-02-24T08:59:24.516Z"
   },
   {
    "duration": 80,
    "start_time": "2023-02-24T09:06:41.823Z"
   },
   {
    "duration": 78,
    "start_time": "2023-02-24T09:06:59.547Z"
   },
   {
    "duration": 77,
    "start_time": "2023-02-24T09:07:46.858Z"
   },
   {
    "duration": 9,
    "start_time": "2023-02-24T09:08:31.373Z"
   },
   {
    "duration": 51,
    "start_time": "2023-02-24T09:08:41.429Z"
   },
   {
    "duration": 141,
    "start_time": "2023-02-24T09:08:48.551Z"
   },
   {
    "duration": 133,
    "start_time": "2023-02-24T09:09:29.481Z"
   },
   {
    "duration": 136,
    "start_time": "2023-02-24T09:09:46.870Z"
   },
   {
    "duration": 152,
    "start_time": "2023-02-24T09:09:56.952Z"
   },
   {
    "duration": 144,
    "start_time": "2023-02-24T09:10:21.041Z"
   },
   {
    "duration": 152,
    "start_time": "2023-02-24T09:10:27.685Z"
   },
   {
    "duration": 162,
    "start_time": "2023-02-24T09:11:16.505Z"
   },
   {
    "duration": 90,
    "start_time": "2023-02-24T09:11:43.800Z"
   },
   {
    "duration": 127,
    "start_time": "2023-02-24T09:11:55.895Z"
   },
   {
    "duration": 79,
    "start_time": "2023-02-24T09:11:59.034Z"
   },
   {
    "duration": 78,
    "start_time": "2023-02-24T09:12:09.862Z"
   },
   {
    "duration": 154,
    "start_time": "2023-02-24T09:15:31.560Z"
   },
   {
    "duration": 122,
    "start_time": "2023-02-24T09:19:08.631Z"
   },
   {
    "duration": 197,
    "start_time": "2023-02-24T09:19:22.864Z"
   },
   {
    "duration": 147,
    "start_time": "2023-02-24T09:20:09.621Z"
   },
   {
    "duration": 79,
    "start_time": "2023-02-24T09:24:05.992Z"
   },
   {
    "duration": 134,
    "start_time": "2023-02-24T09:24:14.692Z"
   },
   {
    "duration": 79,
    "start_time": "2023-02-24T09:24:19.656Z"
   },
   {
    "duration": 513,
    "start_time": "2023-02-24T09:25:18.068Z"
   },
   {
    "duration": 4861,
    "start_time": "2023-02-24T09:25:18.583Z"
   },
   {
    "duration": 264,
    "start_time": "2023-02-24T09:25:23.446Z"
   },
   {
    "duration": 4,
    "start_time": "2023-02-24T09:25:23.712Z"
   },
   {
    "duration": 16,
    "start_time": "2023-02-24T09:25:23.718Z"
   },
   {
    "duration": 552,
    "start_time": "2023-02-24T09:25:23.736Z"
   },
   {
    "duration": 77,
    "start_time": "2023-02-24T09:25:24.289Z"
   },
   {
    "duration": 77,
    "start_time": "2023-02-24T09:25:24.368Z"
   },
   {
    "duration": 75,
    "start_time": "2023-02-24T09:25:24.447Z"
   },
   {
    "duration": 77,
    "start_time": "2023-02-24T09:25:24.524Z"
   },
   {
    "duration": 77,
    "start_time": "2023-02-24T09:25:24.602Z"
   },
   {
    "duration": 79,
    "start_time": "2023-02-24T09:25:24.680Z"
   },
   {
    "duration": 93,
    "start_time": "2023-02-24T09:25:24.761Z"
   },
   {
    "duration": 81,
    "start_time": "2023-02-24T09:25:24.857Z"
   },
   {
    "duration": 87,
    "start_time": "2023-02-24T09:25:24.940Z"
   },
   {
    "duration": 210,
    "start_time": "2023-02-24T09:25:25.028Z"
   },
   {
    "duration": 0,
    "start_time": "2023-02-24T09:25:25.241Z"
   },
   {
    "duration": 82,
    "start_time": "2023-02-24T09:25:34.149Z"
   },
   {
    "duration": 77,
    "start_time": "2023-02-24T09:28:17.090Z"
   },
   {
    "duration": 77,
    "start_time": "2023-02-24T09:28:18.116Z"
   },
   {
    "duration": 132,
    "start_time": "2023-02-24T09:29:08.761Z"
   },
   {
    "duration": 138,
    "start_time": "2023-02-24T09:31:10.762Z"
   },
   {
    "duration": 160,
    "start_time": "2023-02-24T09:31:38.624Z"
   },
   {
    "duration": 135,
    "start_time": "2023-02-24T09:31:49.900Z"
   },
   {
    "duration": 148,
    "start_time": "2023-02-24T09:32:53.572Z"
   },
   {
    "duration": 173,
    "start_time": "2023-02-24T09:33:07.192Z"
   },
   {
    "duration": 130,
    "start_time": "2023-02-24T09:33:16.196Z"
   },
   {
    "duration": 134,
    "start_time": "2023-02-24T09:34:22.639Z"
   },
   {
    "duration": 136,
    "start_time": "2023-02-24T09:46:41.496Z"
   },
   {
    "duration": 132,
    "start_time": "2023-02-24T09:47:10.363Z"
   },
   {
    "duration": 130,
    "start_time": "2023-02-24T09:48:32.532Z"
   },
   {
    "duration": 152,
    "start_time": "2023-02-24T09:50:22.003Z"
   },
   {
    "duration": 131,
    "start_time": "2023-02-24T09:50:28.457Z"
   },
   {
    "duration": 77,
    "start_time": "2023-02-24T09:50:40.936Z"
   },
   {
    "duration": 130,
    "start_time": "2023-02-24T09:51:27.721Z"
   },
   {
    "duration": 355,
    "start_time": "2023-02-24T09:55:58.092Z"
   },
   {
    "duration": 76,
    "start_time": "2023-02-24T09:55:59.505Z"
   },
   {
    "duration": 76,
    "start_time": "2023-02-24T09:56:01.489Z"
   },
   {
    "duration": 74,
    "start_time": "2023-02-24T09:56:03.854Z"
   },
   {
    "duration": 77,
    "start_time": "2023-02-24T09:56:05.723Z"
   },
   {
    "duration": 76,
    "start_time": "2023-02-24T09:56:08.217Z"
   },
   {
    "duration": 77,
    "start_time": "2023-02-24T10:00:40.941Z"
   },
   {
    "duration": 156,
    "start_time": "2023-02-24T10:02:06.956Z"
   },
   {
    "duration": 132,
    "start_time": "2023-02-24T10:02:18.691Z"
   },
   {
    "duration": 77,
    "start_time": "2023-02-24T10:04:02.417Z"
   },
   {
    "duration": 77,
    "start_time": "2023-02-24T10:04:17.138Z"
   },
   {
    "duration": 179,
    "start_time": "2023-02-24T10:05:56.951Z"
   },
   {
    "duration": 136,
    "start_time": "2023-02-24T10:06:16.076Z"
   },
   {
    "duration": 78,
    "start_time": "2023-02-24T10:06:21.807Z"
   },
   {
    "duration": 127,
    "start_time": "2023-02-24T10:06:59.613Z"
   },
   {
    "duration": 77,
    "start_time": "2023-02-24T10:11:57.209Z"
   },
   {
    "duration": 152,
    "start_time": "2023-02-24T10:12:21.053Z"
   },
   {
    "duration": 79,
    "start_time": "2023-02-24T10:12:24.800Z"
   },
   {
    "duration": 141,
    "start_time": "2023-02-24T10:13:17.547Z"
   },
   {
    "duration": 82,
    "start_time": "2023-02-24T10:13:30.779Z"
   },
   {
    "duration": 77,
    "start_time": "2023-02-24T10:13:40.948Z"
   },
   {
    "duration": 78,
    "start_time": "2023-02-24T10:14:11.281Z"
   },
   {
    "duration": 87,
    "start_time": "2023-02-24T10:14:19.094Z"
   },
   {
    "duration": 6,
    "start_time": "2023-02-24T10:19:06.891Z"
   },
   {
    "duration": 257,
    "start_time": "2023-02-24T10:19:09.365Z"
   },
   {
    "duration": 124,
    "start_time": "2023-02-24T10:27:01.295Z"
   },
   {
    "duration": 114,
    "start_time": "2023-02-24T10:33:29.087Z"
   },
   {
    "duration": 110,
    "start_time": "2023-02-24T10:33:41.641Z"
   },
   {
    "duration": 51,
    "start_time": "2023-02-24T10:40:04.767Z"
   },
   {
    "duration": 41,
    "start_time": "2023-02-24T10:41:02.647Z"
   },
   {
    "duration": 74,
    "start_time": "2023-02-24T10:45:38.639Z"
   },
   {
    "duration": 109,
    "start_time": "2023-02-24T10:45:43.828Z"
   },
   {
    "duration": 85,
    "start_time": "2023-02-24T10:46:02.093Z"
   },
   {
    "duration": 76,
    "start_time": "2023-02-24T10:46:13.367Z"
   },
   {
    "duration": 75,
    "start_time": "2023-02-24T10:46:17.451Z"
   },
   {
    "duration": 80,
    "start_time": "2023-02-24T10:46:23.341Z"
   },
   {
    "duration": 79,
    "start_time": "2023-02-24T10:46:27.447Z"
   },
   {
    "duration": 42,
    "start_time": "2023-02-24T11:39:40.861Z"
   },
   {
    "duration": 11935,
    "start_time": "2023-02-24T11:39:46.185Z"
   },
   {
    "duration": 3,
    "start_time": "2023-02-24T11:39:58.122Z"
   },
   {
    "duration": 126,
    "start_time": "2023-02-24T11:39:58.126Z"
   },
   {
    "duration": 19,
    "start_time": "2023-02-24T11:39:58.254Z"
   },
   {
    "duration": 11,
    "start_time": "2023-02-24T11:39:58.276Z"
   },
   {
    "duration": 16,
    "start_time": "2023-02-24T11:39:58.289Z"
   },
   {
    "duration": 24,
    "start_time": "2023-02-24T11:39:58.307Z"
   },
   {
    "duration": 11,
    "start_time": "2023-02-24T11:39:58.333Z"
   },
   {
    "duration": 11,
    "start_time": "2023-02-24T11:39:58.346Z"
   },
   {
    "duration": 31,
    "start_time": "2023-02-24T11:39:58.359Z"
   },
   {
    "duration": 15,
    "start_time": "2023-02-24T11:39:58.392Z"
   },
   {
    "duration": 17,
    "start_time": "2023-02-24T11:39:58.409Z"
   },
   {
    "duration": 14,
    "start_time": "2023-02-24T11:39:58.428Z"
   },
   {
    "duration": 22,
    "start_time": "2023-02-24T11:40:04.889Z"
   },
   {
    "duration": 15,
    "start_time": "2023-02-24T11:41:13.205Z"
   },
   {
    "duration": 16,
    "start_time": "2023-02-24T11:41:16.012Z"
   },
   {
    "duration": 4,
    "start_time": "2023-02-24T11:50:08.804Z"
   },
   {
    "duration": 4,
    "start_time": "2023-02-24T11:50:18.014Z"
   },
   {
    "duration": 4,
    "start_time": "2023-02-24T11:50:21.092Z"
   },
   {
    "duration": 3,
    "start_time": "2023-02-24T11:50:22.884Z"
   },
   {
    "duration": 4,
    "start_time": "2023-02-24T11:50:25.748Z"
   },
   {
    "duration": 4,
    "start_time": "2023-02-24T11:50:28.386Z"
   },
   {
    "duration": 339,
    "start_time": "2023-02-24T11:51:18.750Z"
   },
   {
    "duration": 45,
    "start_time": "2023-02-24T11:52:19.013Z"
   },
   {
    "duration": 47,
    "start_time": "2023-02-24T11:53:06.771Z"
   }
  ],
  "kernelspec": {
   "display_name": "Python 3 (ipykernel)",
   "language": "python",
   "name": "python3"
  },
  "language_info": {
   "codemirror_mode": {
    "name": "ipython",
    "version": 3
   },
   "file_extension": ".py",
   "mimetype": "text/x-python",
   "name": "python",
   "nbconvert_exporter": "python",
   "pygments_lexer": "ipython3",
   "version": "3.9.5"
  },
  "toc": {
   "base_numbering": 1,
   "nav_menu": {},
   "number_sections": true,
   "sideBar": true,
   "skip_h1_title": true,
   "title_cell": "Содержание",
   "title_sidebar": "Contents",
   "toc_cell": true,
   "toc_position": {},
   "toc_section_display": true,
   "toc_window_display": true
  }
 },
 "nbformat": 4,
 "nbformat_minor": 2
}
